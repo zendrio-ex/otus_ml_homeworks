{
 "cells": [
  {
   "cell_type": "markdown",
   "id": "61016503",
   "metadata": {},
   "source": [
    "# TASK: build rec sys :=)\n",
    "\n",
    "data downloaded from https://nijianmo.github.io/amazon/index.html, chapter is '\"Small\" subsets for experimentation', named 'Video Games', based on ratings\n"
   ]
  },
  {
   "cell_type": "code",
   "execution_count": 1,
   "id": "917ffe78",
   "metadata": {},
   "outputs": [],
   "source": [
    "import json\n",
    "import pandas as pd\n",
    "import surprise\n",
    "import matplotlib.pyplot as plt\n",
    "import random\n",
    "import scipy.sparse as sparse\n",
    "from sklearn.metrics import mean_squared_error\n",
    "from sklearn.metrics.pairwise import cosine_similarity\n",
    "from sklearn.base import BaseEstimator\n",
    "import optuna\n",
    "from sklearn.metrics import mean_absolute_error, mean_squared_error"
   ]
  },
  {
   "cell_type": "markdown",
   "id": "0d20789f",
   "metadata": {},
   "source": [
    "## loading"
   ]
  },
  {
   "cell_type": "code",
   "execution_count": 2,
   "id": "e2c7ee1c",
   "metadata": {},
   "outputs": [
    {
     "data": {
      "text/html": [
       "<div>\n",
       "<style scoped>\n",
       "    .dataframe tbody tr th:only-of-type {\n",
       "        vertical-align: middle;\n",
       "    }\n",
       "\n",
       "    .dataframe tbody tr th {\n",
       "        vertical-align: top;\n",
       "    }\n",
       "\n",
       "    .dataframe thead th {\n",
       "        text-align: right;\n",
       "    }\n",
       "</style>\n",
       "<table border=\"1\" class=\"dataframe\">\n",
       "  <thead>\n",
       "    <tr style=\"text-align: right;\">\n",
       "      <th></th>\n",
       "      <th>item_id</th>\n",
       "      <th>user_id</th>\n",
       "      <th>rating</th>\n",
       "      <th>timestamp</th>\n",
       "    </tr>\n",
       "  </thead>\n",
       "  <tbody>\n",
       "    <tr>\n",
       "      <th>350131</th>\n",
       "      <td>B01617VNBK</td>\n",
       "      <td>A00577669P2XCLU956L8</td>\n",
       "      <td>5.0</td>\n",
       "      <td>1454198400</td>\n",
       "    </tr>\n",
       "    <tr>\n",
       "      <th>262198</th>\n",
       "      <td>B00MCLGAZ4</td>\n",
       "      <td>A00621707WIM8QF2CT5O</td>\n",
       "      <td>5.0</td>\n",
       "      <td>1412640000</td>\n",
       "    </tr>\n",
       "    <tr>\n",
       "      <th>301851</th>\n",
       "      <td>B00SX73LIK</td>\n",
       "      <td>A0065811S4ANKB4TYHII</td>\n",
       "      <td>5.0</td>\n",
       "      <td>1424908800</td>\n",
       "    </tr>\n",
       "    <tr>\n",
       "      <th>360077</th>\n",
       "      <td>B019QVZDSC</td>\n",
       "      <td>A0086201G57OY58MG97W</td>\n",
       "      <td>4.0</td>\n",
       "      <td>1458172800</td>\n",
       "    </tr>\n",
       "    <tr>\n",
       "      <th>428464</th>\n",
       "      <td>B007A7JSMM</td>\n",
       "      <td>A0086201G57OY58MG97W</td>\n",
       "      <td>4.0</td>\n",
       "      <td>1458259200</td>\n",
       "    </tr>\n",
       "    <tr>\n",
       "      <th>...</th>\n",
       "      <td>...</td>\n",
       "      <td>...</td>\n",
       "      <td>...</td>\n",
       "      <td>...</td>\n",
       "    </tr>\n",
       "    <tr>\n",
       "      <th>10245</th>\n",
       "      <td>B000069VAW</td>\n",
       "      <td>AZZXPJXXADPD2</td>\n",
       "      <td>1.0</td>\n",
       "      <td>1040169600</td>\n",
       "    </tr>\n",
       "    <tr>\n",
       "      <th>452063</th>\n",
       "      <td>B00WFH8NOQ</td>\n",
       "      <td>AZZXVOQ8ZYK9P</td>\n",
       "      <td>5.0</td>\n",
       "      <td>1453680000</td>\n",
       "    </tr>\n",
       "    <tr>\n",
       "      <th>6915</th>\n",
       "      <td>B00005LBVS</td>\n",
       "      <td>AZZY4E6QPTBVP</td>\n",
       "      <td>4.0</td>\n",
       "      <td>1445472000</td>\n",
       "    </tr>\n",
       "    <tr>\n",
       "      <th>171032</th>\n",
       "      <td>B00B5P23SG</td>\n",
       "      <td>AZZYTPFG6JF1K</td>\n",
       "      <td>2.0</td>\n",
       "      <td>1377043200</td>\n",
       "    </tr>\n",
       "    <tr>\n",
       "      <th>94225</th>\n",
       "      <td>B0039Y59F0</td>\n",
       "      <td>AZZYX9XK6MC8S</td>\n",
       "      <td>5.0</td>\n",
       "      <td>1311897600</td>\n",
       "    </tr>\n",
       "  </tbody>\n",
       "</table>\n",
       "<p>459436 rows × 4 columns</p>\n",
       "</div>"
      ],
      "text/plain": [
       "           item_id               user_id  rating   timestamp\n",
       "350131  B01617VNBK  A00577669P2XCLU956L8     5.0  1454198400\n",
       "262198  B00MCLGAZ4  A00621707WIM8QF2CT5O     5.0  1412640000\n",
       "301851  B00SX73LIK  A0065811S4ANKB4TYHII     5.0  1424908800\n",
       "360077  B019QVZDSC  A0086201G57OY58MG97W     4.0  1458172800\n",
       "428464  B007A7JSMM  A0086201G57OY58MG97W     4.0  1458259200\n",
       "...            ...                   ...     ...         ...\n",
       "10245   B000069VAW         AZZXPJXXADPD2     1.0  1040169600\n",
       "452063  B00WFH8NOQ         AZZXVOQ8ZYK9P     5.0  1453680000\n",
       "6915    B00005LBVS         AZZY4E6QPTBVP     4.0  1445472000\n",
       "171032  B00B5P23SG         AZZYTPFG6JF1K     2.0  1377043200\n",
       "94225   B0039Y59F0         AZZYX9XK6MC8S     5.0  1311897600\n",
       "\n",
       "[459436 rows x 4 columns]"
      ]
     },
     "execution_count": 2,
     "metadata": {},
     "output_type": "execute_result"
    }
   ],
   "source": [
    "data = pd.read_csv('./data/data.csv', header=None, names=['item_id', 'user_id', 'rating', 'timestamp'])\n",
    "data = data.sort_values(by=['user_id', 'timestamp'])\n",
    "data"
   ]
  },
  {
   "cell_type": "code",
   "execution_count": 3,
   "id": "93184d91",
   "metadata": {},
   "outputs": [
    {
     "name": "stdout",
     "output_type": "stream",
     "text": [
      "<class 'scipy.sparse._csr.csr_matrix'>\n"
     ]
    },
    {
     "data": {
      "text/plain": [
       "<375147x21663 sparse matrix of type '<class 'numpy.float64'>'\n",
       "\twith 450578 stored elements in Compressed Sparse Row format>"
      ]
     },
     "execution_count": 3,
     "metadata": {},
     "output_type": "execute_result"
    }
   ],
   "source": [
    "user_list = data['user_id'].unique()\n",
    "item_list = data['item_id'].unique()\n",
    "\n",
    "cols = data['item_id'].astype('category').cat.codes \n",
    "rows = data['user_id'].astype('category').cat.codes \n",
    "\n",
    "sparse_df = sparse.csr_matrix((data['rating'], (rows, cols)), shape=(len(user_list), len(item_list)))\n",
    "print(type(sparse_df))\n",
    "sparse_df"
   ]
  },
  {
   "cell_type": "markdown",
   "id": "ab70029b",
   "metadata": {},
   "source": [
    "## EDA"
   ]
  },
  {
   "cell_type": "code",
   "execution_count": 4,
   "id": "cee4f2b5",
   "metadata": {},
   "outputs": [
    {
     "data": {
      "text/plain": [
       "99.99445565935609"
      ]
     },
     "execution_count": 4,
     "metadata": {},
     "output_type": "execute_result"
    }
   ],
   "source": [
    "matrix_size = sparse_df.shape[0]*sparse_df.shape[1] # Number of values in the matrix\n",
    "non_zeroes_size = len(sparse_df.nonzero()[0]) # Number of non-zeroes with\n",
    "sparsity = 100*(1 - (non_zeroes_size/matrix_size))\n",
    "sparsity"
   ]
  },
  {
   "cell_type": "code",
   "execution_count": 10,
   "id": "d6fcb54b",
   "metadata": {},
   "outputs": [
    {
     "data": {
      "text/plain": [
       "count    2.565349e+06\n",
       "mean     4.022095e+00\n",
       "std      1.405936e+00\n",
       "min      1.000000e+00\n",
       "25%      3.000000e+00\n",
       "50%      5.000000e+00\n",
       "75%      5.000000e+00\n",
       "max      5.000000e+00\n",
       "Name: rating, dtype: float64"
      ]
     },
     "execution_count": 10,
     "metadata": {},
     "output_type": "execute_result"
    }
   ],
   "source": [
    "data.describe()['rating']"
   ]
  },
  {
   "cell_type": "markdown",
   "id": "02df9bc6",
   "metadata": {},
   "source": [
    "more than halve are 5"
   ]
  },
  {
   "cell_type": "code",
   "execution_count": 11,
   "id": "352f4583",
   "metadata": {},
   "outputs": [
    {
     "data": {
      "text/plain": [
       "<matplotlib.axes._subplots.AxesSubplot at 0x7f3b29847eb0>"
      ]
     },
     "execution_count": 11,
     "metadata": {},
     "output_type": "execute_result"
    },
    {
     "data": {
      "image/png": "[encoded data removed]",
      "text/plain": [
       "<Figure size 640x480 with 1 Axes>"
      ]
     },
     "metadata": {},
     "output_type": "display_data"
    }
   ],
   "source": [
    "data['rating'].hist()"
   ]
  },
  {
   "cell_type": "code",
   "execution_count": 12,
   "id": "f2d4f46d",
   "metadata": {},
   "outputs": [],
   "source": [
    "grouped_user = data.groupby('user_id').agg({'rating': ['min', 'max', 'mean', 'count']})"
   ]
  },
  {
   "cell_type": "code",
   "execution_count": 13,
   "id": "01f4ff55",
   "metadata": {},
   "outputs": [
    {
     "data": {
      "text/plain": [
       "<matplotlib.axes._subplots.AxesSubplot at 0x7f3b1f468430>"
      ]
     },
     "execution_count": 13,
     "metadata": {},
     "output_type": "execute_result"
    },
    {
     "data": {
      "image/png": "[encoded data removed]",
      "text/plain": [
       "<Figure size 640x480 with 1 Axes>"
      ]
     },
     "metadata": {},
     "output_type": "display_data"
    }
   ],
   "source": [
    "grouped_user['rating']['mean'].hist()"
   ]
  },
  {
   "cell_type": "code",
   "execution_count": 14,
   "id": "9b9eb048",
   "metadata": {},
   "outputs": [
    {
     "data": {
      "text/plain": [
       "<matplotlib.axes._subplots.AxesSubplot at 0x7f3b217b0a30>"
      ]
     },
     "execution_count": 14,
     "metadata": {},
     "output_type": "execute_result"
    },
    {
     "data": {
      "image/png": "[encoded data removed]",
      "text/plain": [
       "<Figure size 640x480 with 1 Axes>"
      ]
     },
     "metadata": {},
     "output_type": "display_data"
    }
   ],
   "source": [
    "grouped_user['rating']['count'].hist(bins=30)"
   ]
  },
  {
   "cell_type": "code",
   "execution_count": 15,
   "id": "f3224961",
   "metadata": {},
   "outputs": [
    {
     "data": {
      "text/plain": [
       "count\n",
       "1      1127396\n",
       "2       232295\n",
       "3        79972\n",
       "4        36868\n",
       "5        19842\n",
       "        ...   \n",
       "115          1\n",
       "512          1\n",
       "139          1\n",
       "641          1\n",
       "256          1\n",
       "Name: count, Length: 159, dtype: int64"
      ]
     },
     "execution_count": 15,
     "metadata": {},
     "output_type": "execute_result"
    }
   ],
   "source": [
    "grouped_user['rating']['count'].value_counts()"
   ]
  },
  {
   "cell_type": "code",
   "execution_count": 16,
   "id": "69af64a7",
   "metadata": {},
   "outputs": [],
   "source": [
    "grouped_item = data.groupby('item_id').agg({'rating': ['min', 'max', 'mean', 'count']})"
   ]
  },
  {
   "cell_type": "code",
   "execution_count": 17,
   "id": "32a85bc2",
   "metadata": {},
   "outputs": [
    {
     "data": {
      "text/plain": [
       "<matplotlib.axes._subplots.AxesSubplot at 0x7f3b2171b520>"
      ]
     },
     "execution_count": 17,
     "metadata": {},
     "output_type": "execute_result"
    },
    {
     "data": {
      "image/png": "[encoded data removed]",
      "text/plain": [
       "<Figure size 640x480 with 1 Axes>"
      ]
     },
     "metadata": {},
     "output_type": "display_data"
    }
   ],
   "source": [
    "grouped_item['rating']['mean'].hist()"
   ]
  },
  {
   "cell_type": "markdown",
   "id": "28f404e9",
   "metadata": {},
   "source": [
    "## prepaire surprise.dataset"
   ]
  },
  {
   "cell_type": "code",
   "execution_count": 4,
   "id": "164601af",
   "metadata": {},
   "outputs": [],
   "source": [
    "# don't want to split randomly like here.\n",
    "# reader = surprise.Reader(line_format='item user rating',\n",
    "#                          rating_scale=(1, 5))\n",
    "\n",
    "# dataset = surprise.Dataset.load_from_df(data[['item_id', 'user_id', 'rating']], reader)\n",
    "\n",
    "# trainset, testset = surprise.model_selection.train_test_split(dataset, test_size=0.2, random_state=42)\n",
    "\n",
    "# trainset"
   ]
  },
  {
   "cell_type": "code",
   "execution_count": 5,
   "id": "5aedb7e3",
   "metadata": {},
   "outputs": [
    {
     "name": "stdout",
     "output_type": "stream",
     "text": [
      "Train_size: 367548, Test_size: 91888\n"
     ]
    }
   ],
   "source": [
    "test_size = 0.2\n",
    "\n",
    "data = data.sort_values(by='timestamp').reset_index(drop=True)\n",
    "train_df = data.iloc[:int((1-test_size)*data.shape[0])]\n",
    "test_df = data.iloc[int((1-test_size)*data.shape[0]):]  # I don't want to get in test last ratings by each users\n",
    "                                                        # cause in real situation we will have a new user and item\n",
    "\n",
    "print(f'Train_size: {train_df.shape[0]}, Test_size: {test_df.shape[0]}')\n",
    "reader = surprise.Reader(line_format='item user rating',\n",
    "                         rating_scale=(1, 5))\n",
    "\n",
    "trainset = surprise.Dataset.load_from_df(train_df[['item_id', 'user_id', 'rating']], reader)\n",
    "\n",
    "testset = surprise.Dataset.load_from_df(test_df[['item_id', 'user_id', 'rating']], reader)\n",
    "_, testset = surprise.model_selection.train_test_split(testset, test_size=1.0)"
   ]
  },
  {
   "cell_type": "code",
   "execution_count": 6,
   "id": "8dbbacae",
   "metadata": {},
   "outputs": [],
   "source": [
    "def get_best_params_with_optuna(dataset,\n",
    "                          common_params,\n",
    "                          max_evals,\n",
    "                          param_space,\n",
    "                          surprise_class: surprise.prediction_algorithms,\n",
    "                          measure: str,\n",
    "                          cv: int = 5,\n",
    "                          optuna_algorithm: str = 'tpe',\n",
    "                          train_verbose: bool = False,\n",
    "                          **kwargs):\n",
    "    optuna.logging.set_verbosity(optuna.logging.WARNING)\n",
    "    \n",
    "    sampler = {\n",
    "        'tpe': optuna.samplers.TPESampler,\n",
    "        'grid': optuna.samplers.GridSampler,\n",
    "        'random': optuna.samplers.RandomSampler,\n",
    "    }[optuna_algorithm]\n",
    "    study = optuna.create_study(direction=\"maximize\", sampler=sampler(),\n",
    "                                pruner=optuna.pruners.HyperbandPruner() if optuna_algorithm == 'tpe' else optuna.pruners.MedianPruner())\n",
    "    \n",
    "    def objective(trial):\n",
    "        params = {**common_params}\n",
    "        for suggestion in param_space.keys():\n",
    "            if suggestion in ('suggest_float', 'suggest_int'):\n",
    "                for hp in param_space[suggestion]:\n",
    "                    params[hp] = getattr(trial, suggestion)(hp, param_space[suggestion][hp][0], param_space[suggestion][hp][1])\n",
    "            elif suggestion in ('suggest_categorical'):\n",
    "                for hp in param_space[suggestion]:\n",
    "                    params[hp] = getattr(trial, suggestion)(hp, param_space[suggestion][hp])\n",
    "        surprise_instance = surprise_class(**params)\n",
    "        acc = surprise.model_selection.cross_validate(surprise_instance, dataset,\n",
    "                                                      measures=[measure], cv=cv, verbose=train_verbose)\n",
    "        acc = acc[f'test_{measure.lower()}'].mean()\n",
    "        \n",
    "        return acc\n",
    "    \n",
    "    study.optimize(objective, n_trials=max_evals, show_progress_bar=True)        \n",
    "    \n",
    "    res_tun = {**common_params, **study.best_params}\n",
    "                                \n",
    "    return res_tun"
   ]
  },
  {
   "cell_type": "markdown",
   "id": "98fb72fe",
   "metadata": {},
   "source": [
    "## SVD"
   ]
  },
  {
   "cell_type": "code",
   "execution_count": 6,
   "id": "043fdcac",
   "metadata": {},
   "outputs": [],
   "source": [
    "curr_params = {\n",
    "    \"max_evals\": 40,\n",
    "    \"measure\": 'RMSE',\n",
    "    \"cv\": 5,\n",
    "    \"common_params\": {\n",
    "        \"random_state\": 42,\n",
    "    },\n",
    "    \"param_space\": {\n",
    "        \"suggest_float\": {\n",
    "            \"lr_all\": [0.001, 0.1],\n",
    "            \"reg_all\": [0.001, 3],\n",
    "        },\n",
    "        \"suggest_int\": {\n",
    "            \"n_epochs\": [5, 100],\n",
    "            \"n_factors\": [2, 20],\n",
    "        },\n",
    "    }\n",
    "    \n",
    "}"
   ]
  },
  {
   "cell_type": "code",
   "execution_count": 7,
   "id": "35feca98",
   "metadata": {},
   "outputs": [
    {
     "data": {
      "application/vnd.jupyter.widget-view+json": {
       "model_id": "17d5fd5baac141d9910bf757673bb491",
       "version_major": 2,
       "version_minor": 0
      },
      "text/plain": [
       "  0%|          | 0/40 [00:00<?, ?it/s]"
      ]
     },
     "metadata": {},
     "output_type": "display_data"
    },
    {
     "data": {
      "text/plain": [
       "{'random_state': 42,\n",
       " 'lr_all': 0.0013374491824391724,\n",
       " 'reg_all': 2.982215985857193,\n",
       " 'n_epochs': 22,\n",
       " 'n_factors': 4}"
      ]
     },
     "execution_count": 7,
     "metadata": {},
     "output_type": "execute_result"
    }
   ],
   "source": [
    "curr_surprise_alg = surprise.SVD\n",
    "best_params_for_SVD = get_best_params_with_optuna(trainset,\n",
    "                                                  surprise_class=curr_surprise_alg,\n",
    "                                                  **curr_params)\n",
    "best_params_for_SVD"
   ]
  },
  {
   "cell_type": "code",
   "execution_count": 8,
   "id": "ece7cda2",
   "metadata": {},
   "outputs": [],
   "source": [
    "SVD_best_conf = curr_surprise_alg(**best_params_for_SVD)\n",
    "SVD_best_conf = SVD_best_conf.fit(trainset.build_full_trainset())"
   ]
  },
  {
   "cell_type": "code",
   "execution_count": 9,
   "id": "18a156ab",
   "metadata": {},
   "outputs": [
    {
     "name": "stdout",
     "output_type": "stream",
     "text": [
      "RMSE: 1.6230\n"
     ]
    },
    {
     "data": {
      "text/plain": [
       "1.6229875851691324"
      ]
     },
     "execution_count": 9,
     "metadata": {},
     "output_type": "execute_result"
    }
   ],
   "source": [
    "predictions = SVD_best_conf.test(testset)\n",
    "surprise.accuracy.rmse(predictions)"
   ]
  },
  {
   "cell_type": "markdown",
   "id": "dd984412",
   "metadata": {},
   "source": [
    "## SVD++"
   ]
  },
  {
   "cell_type": "code",
   "execution_count": 13,
   "id": "7c86c51e",
   "metadata": {},
   "outputs": [],
   "source": [
    "curr_params = {\n",
    "    \"max_evals\": 5,\n",
    "    \"measure\": 'RMSE',\n",
    "    \"cv\": 5,\n",
    "    \"common_params\": {\n",
    "        \"random_state\": 42,\n",
    "        \"cache_ratings\": True,\n",
    "        \"lr_all\": 0.001\n",
    "    },\n",
    "    \"param_space\": {\n",
    "        \"suggest_float\": {\n",
    "            \"reg_all\": [0.1, 30],\n",
    "        },\n",
    "        \"suggest_int\": {\n",
    "            \"n_epochs\": [50, 100],\n",
    "            \"n_factors\": [2, 20],\n",
    "        },\n",
    "#         \"suggest_categorical\": {\n",
    "#             'cache_ratings': [True, False]\n",
    "#         },\n",
    "    }\n",
    "    \n",
    "}"
   ]
  },
  {
   "cell_type": "code",
   "execution_count": 9,
   "id": "9a0891fd",
   "metadata": {},
   "outputs": [],
   "source": [
    "curr_surprise_alg = surprise.SVDpp"
   ]
  },
  {
   "cell_type": "code",
   "execution_count": 14,
   "id": "d557e1f9",
   "metadata": {},
   "outputs": [
    {
     "data": {
      "application/vnd.jupyter.widget-view+json": {
       "model_id": "9e8d0b4c28854fadbef9716c5615bfe5",
       "version_major": 2,
       "version_minor": 0
      },
      "text/plain": [
       "  0%|          | 0/5 [00:00<?, ?it/s]"
      ]
     },
     "metadata": {},
     "output_type": "display_data"
    },
    {
     "name": "stdout",
     "output_type": "stream",
     "text": [
      "CPU times: user 3h 45min 11s, sys: 2.17 s, total: 3h 45min 13s\n",
      "Wall time: 3h 45min 17s\n"
     ]
    },
    {
     "data": {
      "text/plain": [
       "{'random_state': 42,\n",
       " 'cache_ratings': True,\n",
       " 'lr_all': 0.001,\n",
       " 'reg_all': 28.624607344463232,\n",
       " 'n_epochs': 81,\n",
       " 'n_factors': 15}"
      ]
     },
     "execution_count": 14,
     "metadata": {},
     "output_type": "execute_result"
    }
   ],
   "source": [
    "%%time\n",
    "best_params_for_SVDpp = get_best_params_with_optuna(trainset,\n",
    "                                                    surprise_class=curr_surprise_alg,\n",
    "                                                    **curr_params)\n",
    "best_params_for_SVDpp"
   ]
  },
  {
   "cell_type": "code",
   "execution_count": 10,
   "id": "8b3a2521",
   "metadata": {},
   "outputs": [],
   "source": [
    "SVDpp_best_conf = curr_surprise_alg(**best_params_for_SVDpp)\n",
    "SVDpp_best_conf = SVDpp_best_conf.fit(trainset.build_full_trainset())"
   ]
  },
  {
   "cell_type": "code",
   "execution_count": 11,
   "id": "77b0f96a",
   "metadata": {},
   "outputs": [
    {
     "name": "stdout",
     "output_type": "stream",
     "text": [
      "RMSE: 1.6476\n"
     ]
    },
    {
     "data": {
      "text/plain": [
       "1.6475660344302538"
      ]
     },
     "execution_count": 11,
     "metadata": {},
     "output_type": "execute_result"
    }
   ],
   "source": [
    "predictions = SVDpp_best_conf.test(testset)\n",
    "surprise.accuracy.rmse(predictions)"
   ]
  },
  {
   "cell_type": "markdown",
   "id": "b0bcad78",
   "metadata": {},
   "source": [
    "## kNN"
   ]
  },
  {
   "cell_type": "code",
   "execution_count": 27,
   "id": "ac2fa765",
   "metadata": {},
   "outputs": [],
   "source": [
    "curr_params = {\n",
    "    \"max_evals\": 40,\n",
    "    \"measure\": 'RMSE',\n",
    "    \"cv\": 5,\n",
    "    \"common_params\": {\n",
    "        \"random_state\": 42,\n",
    "        \"name\": 'cosine',\n",
    "        \"verbose\": False,\n",
    "    },\n",
    "    \"param_space\": {\n",
    "        \"suggest_int\": {\n",
    "            \"k\": [5, 30],\n",
    "            \"min_k\": [2, 20],\n",
    "        },\n",
    "        \"suggest_categorical\": {\n",
    "            'user_based': [True, False]\n",
    "        }\n",
    "    }\n",
    "}"
   ]
  },
  {
   "cell_type": "code",
   "execution_count": 28,
   "id": "d484b838",
   "metadata": {},
   "outputs": [
    {
     "data": {
      "application/vnd.jupyter.widget-view+json": {
       "model_id": "813db6331b9b4916822ec265cb25146d",
       "version_major": 2,
       "version_minor": 0
      },
      "text/plain": [
       "  0%|          | 0/40 [00:00<?, ?it/s]"
      ]
     },
     "metadata": {},
     "output_type": "display_data"
    }
   ],
   "source": [
    "curr_surprise_alg = surprise.KNNBaseline\n",
    "best_params_for_kNN = get_best_params_with_optuna(trainset,\n",
    "                                                  surprise_class=curr_surprise_alg,\n",
    "                                                  **curr_params)"
   ]
  },
  {
   "cell_type": "code",
   "execution_count": 29,
   "id": "8b3b8f5c",
   "metadata": {},
   "outputs": [
    {
     "data": {
      "text/plain": [
       "{'random_state': 42,\n",
       " 'name': 'cosine',\n",
       " 'verbose': False,\n",
       " 'k': 30,\n",
       " 'min_k': 15,\n",
       " 'user_based': True}"
      ]
     },
     "execution_count": 29,
     "metadata": {},
     "output_type": "execute_result"
    }
   ],
   "source": [
    "best_params_for_kNN"
   ]
  },
  {
   "cell_type": "code",
   "execution_count": 30,
   "id": "a06bfd9c",
   "metadata": {},
   "outputs": [],
   "source": [
    "kNN_best_conf = curr_surprise_alg(**best_params_for_kNN)\n",
    "kNN_best_conf = kNN_best_conf.fit(trainset.build_full_trainset())"
   ]
  },
  {
   "cell_type": "code",
   "execution_count": 31,
   "id": "dc2b6f8c",
   "metadata": {},
   "outputs": [
    {
     "name": "stdout",
     "output_type": "stream",
     "text": [
      "RMSE: 1.5982\n"
     ]
    },
    {
     "data": {
      "text/plain": [
       "1.598165876316985"
      ]
     },
     "execution_count": 31,
     "metadata": {},
     "output_type": "execute_result"
    }
   ],
   "source": [
    "predictions = kNN_best_conf.test(testset)\n",
    "surprise.accuracy.rmse(predictions)"
   ]
  },
  {
   "cell_type": "markdown",
   "id": "0f6a17ce",
   "metadata": {},
   "source": [
    "## Slope One"
   ]
  },
  {
   "cell_type": "code",
   "execution_count": null,
   "id": "0b6a9ed9",
   "metadata": {},
   "outputs": [],
   "source": [
    "## It havn't worked bacause of RAM\n",
    "# so1 = surprise.SlopeOne()\n",
    "\n",
    "# sol_instance = so1.fit(trainset.build_full_trainset())\n",
    "\n",
    "# predictions = sol_instance.test(testset)\n",
    "# surprise.accuracy.rmse(predictions)"
   ]
  },
  {
   "cell_type": "markdown",
   "id": "f8869ddd",
   "metadata": {},
   "source": [
    "## Co-clustering"
   ]
  },
  {
   "cell_type": "code",
   "execution_count": 9,
   "id": "4f238854",
   "metadata": {},
   "outputs": [],
   "source": [
    "curr_params = {\n",
    "    \"max_evals\": 20,\n",
    "    \"cv\": 5,\n",
    "    \"measure\": 'RMSE',\n",
    "    \"common_params\": {\n",
    "        \"random_state\": 42\n",
    "    },\n",
    "    \"param_space\": {\n",
    "        \"suggest_int\": {\n",
    "            \"n_cltr_u\": [2, 30],\n",
    "            \"n_cltr_i\": [2, 30],\n",
    "            \"n_epochs\": [10, 50]\n",
    "        }\n",
    "    }\n",
    "}"
   ]
  },
  {
   "cell_type": "code",
   "execution_count": 10,
   "id": "e4bd53a3",
   "metadata": {},
   "outputs": [
    {
     "data": {
      "application/vnd.jupyter.widget-view+json": {
       "model_id": "9b057f04d7e94b758fbe8ad32f10768c",
       "version_major": 2,
       "version_minor": 0
      },
      "text/plain": [
       "  0%|          | 0/20 [00:00<?, ?it/s]"
      ]
     },
     "metadata": {},
     "output_type": "display_data"
    },
    {
     "data": {
      "text/plain": [
       "{'random_state': 42, 'n_cltr_u': 13, 'n_cltr_i': 2, 'n_epochs': 11}"
      ]
     },
     "execution_count": 10,
     "metadata": {},
     "output_type": "execute_result"
    }
   ],
   "source": [
    "curr_surprise_alg = surprise.CoClustering\n",
    "best_params_for_CoC = get_best_params_with_optuna(trainset,\n",
    "                                                  surprise_class=curr_surprise_alg,\n",
    "                                                  **curr_params)\n",
    "best_params_for_CoC"
   ]
  },
  {
   "cell_type": "code",
   "execution_count": 11,
   "id": "eae2cdf8",
   "metadata": {},
   "outputs": [],
   "source": [
    "CoC_best_conf = curr_surprise_alg(**best_params_for_CoC)\n",
    "CoC_best_conf = CoC_best_conf.fit(trainset.build_full_trainset())"
   ]
  },
  {
   "cell_type": "code",
   "execution_count": 12,
   "id": "e89e2624",
   "metadata": {},
   "outputs": [
    {
     "name": "stdout",
     "output_type": "stream",
     "text": [
      "RMSE: 1.6544\n"
     ]
    },
    {
     "data": {
      "text/plain": [
       "1.654435092622388"
      ]
     },
     "execution_count": 12,
     "metadata": {},
     "output_type": "execute_result"
    }
   ],
   "source": [
    "predictions = CoC_best_conf.test(testset)\n",
    "surprise.accuracy.rmse(predictions)"
   ]
  },
  {
   "cell_type": "markdown",
   "id": "2daff699",
   "metadata": {},
   "source": [
    "## NMF"
   ]
  },
  {
   "cell_type": "code",
   "execution_count": 7,
   "id": "de0d299e",
   "metadata": {},
   "outputs": [],
   "source": [
    "curr_params = {\n",
    "    \"max_evals\": 25,\n",
    "    \"measure\": 'RMSE',\n",
    "    \"cv\": 5,\n",
    "    \"common_params\": {\n",
    "        \"random_state\": 42,\n",
    "        \"biased\": True,\n",
    "    },\n",
    "    \"param_space\": {\n",
    "        \"suggest_float\": {\n",
    "            \"lr_bu\": [0.001, 0.1],\n",
    "            \"lr_bi\": [0.001, 0.1],\n",
    "            \"reg_pu\": [0.001, 3],\n",
    "            \"reg_bu\": [0.001, 3],\n",
    "            \"reg_qi\": [0.001, 3],\n",
    "            \"reg_bi\": [0.001, 3],\n",
    "        },\n",
    "        \"suggest_int\": {\n",
    "            \"n_epochs\": [5, 100],\n",
    "            \"n_factors\": [2, 20],\n",
    "        },\n",
    "    }\n",
    "    \n",
    "}"
   ]
  },
  {
   "cell_type": "code",
   "execution_count": 8,
   "id": "c5c87df9",
   "metadata": {},
   "outputs": [
    {
     "data": {
      "application/vnd.jupyter.widget-view+json": {
       "model_id": "b1ebf5c2182c4b98836d7972ab5eaa86",
       "version_major": 2,
       "version_minor": 0
      },
      "text/plain": [
       "  0%|          | 0/25 [00:00<?, ?it/s]"
      ]
     },
     "metadata": {},
     "output_type": "display_data"
    },
    {
     "data": {
      "text/plain": [
       "{'random_state': 42,\n",
       " 'biased': True,\n",
       " 'lr_bu': 0.030136264994257773,\n",
       " 'lr_bi': 0.0580355870932967,\n",
       " 'reg_pu': 0.023366868191535942,\n",
       " 'reg_bu': 2.4793529730927646,\n",
       " 'reg_qi': 2.729923289951391,\n",
       " 'reg_bi': 0.038966259193287334,\n",
       " 'n_epochs': 99,\n",
       " 'n_factors': 13}"
      ]
     },
     "execution_count": 8,
     "metadata": {},
     "output_type": "execute_result"
    }
   ],
   "source": [
    "curr_surprise_alg = surprise.NMF\n",
    "best_params_for_NMF = get_best_params_with_optuna(trainset,\n",
    "                                                  surprise_class=curr_surprise_alg,\n",
    "                                                  **curr_params)\n",
    "best_params_for_NMF"
   ]
  },
  {
   "cell_type": "code",
   "execution_count": 10,
   "id": "77352371",
   "metadata": {},
   "outputs": [],
   "source": [
    "NMF_best_conf = curr_surprise_alg(**best_params_for_NMF)\n",
    "NMF_best_conf = NMF_best_conf.fit(trainset.build_full_trainset())"
   ]
  },
  {
   "cell_type": "code",
   "execution_count": 11,
   "id": "ad7e5a19",
   "metadata": {},
   "outputs": [
    {
     "name": "stdout",
     "output_type": "stream",
     "text": [
      "RMSE: 1.6486\n"
     ]
    },
    {
     "data": {
      "text/plain": [
       "1.648629526666228"
      ]
     },
     "execution_count": 11,
     "metadata": {},
     "output_type": "execute_result"
    }
   ],
   "source": [
    "predictions = NMF_best_conf.test(testset)\n",
    "surprise.accuracy.rmse(predictions)"
   ]
  },
  {
   "cell_type": "code",
   "execution_count": 12,
   "id": "e16056a5",
   "metadata": {},
   "outputs": [
    {
     "data": {
      "text/plain": [
       "[Prediction(uid='B00JC5Y6YA', iid='AGUUF619J9EC8', r_ui=5.0, est=3.591122374268894, details={'was_impossible': False}),\n",
       " Prediction(uid='B01GQA3NUG', iid='A2Q0NNOOQSVYUX', r_ui=5.0, est=3.550975654880451, details={'was_impossible': False}),\n",
       " Prediction(uid='B00009L1HM', iid='A088124525MDL6Y0KKG', r_ui=5.0, est=3.5913485791143076, details={'was_impossible': False}),\n",
       " Prediction(uid='B00B27ZCN0', iid='A2PVA540D0XJXM', r_ui=3.0, est=3.579359767437356, details={'was_impossible': False}),\n",
       " Prediction(uid='B015724RQI', iid='AM43BBSU5PF1K', r_ui=2.0, est=3.5846561609529943, details={'was_impossible': False}),\n",
       " Prediction(uid='B012VQNGD8', iid='A2VXMGJR25E4WU', r_ui=5.0, est=3.5656037203776187, details={'was_impossible': False}),\n",
       " Prediction(uid='B0079KJB54', iid='AH3PIENWVI58N', r_ui=2.0, est=3.5654452665064817, details={'was_impossible': False}),\n",
       " Prediction(uid='B00G212NFG', iid='A1D904YMG3QJB8', r_ui=5.0, est=3.568760553030516, details={'was_impossible': False}),\n",
       " Prediction(uid='B00GRFIIHO', iid='A1SCETJWJQFFZ0', r_ui=1.0, est=3.579912776179188, details={'was_impossible': False}),\n",
       " Prediction(uid='B0144NYEY6', iid='A2KMZE15TO1IRH', r_ui=4.0, est=3.5923960196846374, details={'was_impossible': False}),\n",
       " Prediction(uid='B01326J80Q', iid='A2H4SVS7ARFPSY', r_ui=4.0, est=1.3460419731043873, details={'was_impossible': False}),\n",
       " Prediction(uid='B00GRFIIHO', iid='AFK6J6XKP3G9A', r_ui=3.0, est=3.579912776179188, details={'was_impossible': False}),\n",
       " Prediction(uid='B015724OVG', iid='A1ZNJIY2795N2U', r_ui=2.0, est=3.6145171732576977, details={'was_impossible': False}),\n",
       " Prediction(uid='B00UB76290', iid='A94DAZUFTATUA', r_ui=5.0, est=3.584743981790584, details={'was_impossible': False}),\n",
       " Prediction(uid='B01637ROB6', iid='A1C55L6264SCX4', r_ui=2.0, est=3.55256487501639, details={'was_impossible': False}),\n",
       " Prediction(uid='B00LX4BZAQ', iid='A2RPLYPNB024H8', r_ui=5.0, est=3.5480628940652847, details={'was_impossible': False}),\n",
       " Prediction(uid='B01637RHBI', iid='AL4ZLL4KRRFH4', r_ui=1.0, est=1.1566240005416022, details={'was_impossible': False}),\n",
       " Prediction(uid='B00B1TEIRU', iid='A1EH02Q9J3NJ4D', r_ui=4.0, est=3.572675704175956, details={'was_impossible': False}),\n",
       " Prediction(uid='B00UB76290', iid='A3CM8JW2SOSSXS', r_ui=4.0, est=3.584743981790584, details={'was_impossible': False}),\n",
       " Prediction(uid='B00KX75WZS', iid='A2IJJP3Y36EM23', r_ui=5.0, est=3.5606239092274565, details={'was_impossible': False}),\n",
       " Prediction(uid='B00UB76290', iid='APPCOSEYV07YP', r_ui=5.0, est=3.584743981790584, details={'was_impossible': False}),\n",
       " Prediction(uid='B00LX4BZAQ', iid='A19IB9BIKTBZ60', r_ui=1.0, est=3.5480628940652847, details={'was_impossible': False}),\n",
       " Prediction(uid='B008XAXAC4', iid='A4K1KCQK6ZLZ', r_ui=3.0, est=3.5646374355958, details={'was_impossible': False}),\n",
       " Prediction(uid='B015C9KOHM', iid='A2VMVR46NBFFQO', r_ui=1.0, est=3.5725201753314693, details={'was_impossible': False}),\n",
       " Prediction(uid='B013EXF9T6', iid='A13IH7EAEI0E1J', r_ui=5.0, est=3.5278414403679674, details={'was_impossible': False}),\n",
       " Prediction(uid='B01637RGG4', iid='AP5150ZE9UV7W', r_ui=1.0, est=3.5941187226762024, details={'was_impossible': False}),\n",
       " Prediction(uid='B00BJ6LKSU', iid='A2HY8BLR8Z0B7Z', r_ui=1.0, est=3.550975654880451, details={'was_impossible': False}),\n",
       " Prediction(uid='B01637RFR4', iid='A1AT8NA9NFNMVQ', r_ui=5.0, est=3.5841964138422404, details={'was_impossible': False}),\n",
       " Prediction(uid='B00CTTEKJW', iid='A2SIQ1WC9D6UAY', r_ui=5.0, est=3.5767129905407398, details={'was_impossible': False}),\n",
       " Prediction(uid='B01617VVCQ', iid='AKTEOKDL4Y04U', r_ui=1.0, est=3.592352741448264, details={'was_impossible': False}),\n",
       " Prediction(uid='B00UB76290', iid='A1W4HOJXK131TP', r_ui=5.0, est=3.584743981790584, details={'was_impossible': False}),\n",
       " Prediction(uid='B00UB76290', iid='A1JD3LLYXQ26GH', r_ui=5.0, est=3.584743981790584, details={'was_impossible': False}),\n",
       " Prediction(uid='B0153V644G', iid='A28D8VJNM9YSYK', r_ui=1.0, est=3.567161625561529, details={'was_impossible': False}),\n",
       " Prediction(uid='B00MCLGAAO', iid='AZB2VFPT5KUH5', r_ui=1.0, est=3.55117104279436, details={'was_impossible': False}),\n",
       " Prediction(uid='B00UB76290', iid='A2QQTJDGSIYLHZ', r_ui=5.0, est=3.584743981790584, details={'was_impossible': False}),\n",
       " Prediction(uid='B01326J6GW', iid='APYW4CFUBADQC', r_ui=5.0, est=3.4511496268565476, details={'was_impossible': False}),\n",
       " Prediction(uid='B00UB76290', iid='A39VAOOYHW7AHP', r_ui=1.0, est=3.584743981790584, details={'was_impossible': False}),\n",
       " Prediction(uid='B0144NYGJY', iid='A1PECA12BCEXUO', r_ui=5.0, est=3.599455309482311, details={'was_impossible': False}),\n",
       " Prediction(uid='B006IYMPAK', iid='A297EGS1ZMG2D1', r_ui=2.0, est=1.8868634740602712, details={'was_impossible': False}),\n",
       " Prediction(uid='B015724RQI', iid='A3DHKL36FMZPH1', r_ui=5.0, est=3.5846561609529943, details={'was_impossible': False}),\n",
       " Prediction(uid='B01326J80Q', iid='A24EMAEY6LVO6U', r_ui=3.0, est=3.632807868427313, details={'was_impossible': False}),\n",
       " Prediction(uid='B000HYWA2K', iid='ASCGJ6V5U5ZZC', r_ui=5.0, est=3.5211576313265933, details={'was_impossible': False}),\n",
       " Prediction(uid='B015NN1E0S', iid='ASY61DXRC938A', r_ui=5.0, est=3.5020544192229712, details={'was_impossible': False}),\n",
       " Prediction(uid='B0144NYGJY', iid='A39TG97Z6GF6RI', r_ui=5.0, est=3.599455309482311, details={'was_impossible': False}),\n",
       " Prediction(uid='B01326J6GW', iid='AYNC5YUC9JAXP', r_ui=1.0, est=3.4511496268565476, details={'was_impossible': False}),\n",
       " Prediction(uid='B011XO53WQ', iid='A1JI2K8CWODS0T', r_ui=3.0, est=3.606570057727304, details={'was_impossible': False}),\n",
       " Prediction(uid='B015724OVG', iid='AYPXKHVHI49ID', r_ui=4.0, est=3.8749553872263505, details={'was_impossible': False}),\n",
       " Prediction(uid='B01637RFR4', iid='A35DBXDCBQDTE8', r_ui=5.0, est=3.5841964138422404, details={'was_impossible': False}),\n",
       " Prediction(uid='B00TIXU9M4', iid='AQWGV9L50J2XD', r_ui=5.0, est=3.550975654880451, details={'was_impossible': False}),\n",
       " Prediction(uid='B01617VPUY', iid='AM4IH5SLAQBDX', r_ui=2.0, est=3.5793309762651453, details={'was_impossible': False}),\n",
       " Prediction(uid='B013EXCKBG', iid='AELFGWUDDSQ0N', r_ui=2.0, est=3.5801874826927462, details={'was_impossible': False}),\n",
       " Prediction(uid='B0148BYIAO', iid='AZJ5YL2MZERF3', r_ui=5.0, est=3.599503669299596, details={'was_impossible': False}),\n",
       " Prediction(uid='B013LIFYRQ', iid='A2ZZ6WMLZ9B26S', r_ui=1.0, est=3.506699711564952, details={'was_impossible': False}),\n",
       " Prediction(uid='B01DMD03OY', iid='A2GITA3TTSOIE9', r_ui=5.0, est=3.550975654880451, details={'was_impossible': False}),\n",
       " Prediction(uid='B00U09VG5E', iid='A3746LRQ0D9L0K', r_ui=5.0, est=3.6141602158148696, details={'was_impossible': False}),\n",
       " Prediction(uid='B0148BYIPY', iid='A3318IZJNAXI1Y', r_ui=5.0, est=3.5086207030073333, details={'was_impossible': False}),\n",
       " Prediction(uid='B00GRFIIHO', iid='A2AIL364A1Z0Y8', r_ui=1.0, est=3.579912776179188, details={'was_impossible': False}),\n",
       " Prediction(uid='B01617VVYY', iid='A4VDPLFPPWFCV', r_ui=5.0, est=3.60263322581189, details={'was_impossible': False}),\n",
       " Prediction(uid='B0153V62P2', iid='A39IRJTR5E8FUI', r_ui=4.0, est=3.590715637007669, details={'was_impossible': False}),\n",
       " Prediction(uid='B01637RI5I', iid='AMS3UX2II6GXU', r_ui=5.0, est=3.5599424061184064, details={'was_impossible': False}),\n",
       " Prediction(uid='B01637RK6U', iid='A1FP53DHEKA1LJ', r_ui=5.0, est=3.5567177991844816, details={'was_impossible': False}),\n",
       " Prediction(uid='B00WOVY022', iid='AUAW0PV39CHQU', r_ui=5.0, est=3.550975654880451, details={'was_impossible': False}),\n",
       " Prediction(uid='B00UB76290', iid='A3VJEMFQW5SWKX', r_ui=5.0, est=3.584743981790584, details={'was_impossible': False}),\n",
       " Prediction(uid='B00CTTEKJW', iid='A2OMSWH4UW387I', r_ui=5.0, est=3.5767129905407398, details={'was_impossible': False}),\n",
       " Prediction(uid='B017W85QUQ', iid='A2GXJ41KKBMNI0', r_ui=5.0, est=4.794373010364949, details={'was_impossible': False}),\n",
       " Prediction(uid='B01637REAM', iid='A8KUR7QS0XF6N', r_ui=1.0, est=3.58329882033062, details={'was_impossible': False}),\n",
       " Prediction(uid='B00UB769KC', iid='AHBEK50SLHXHG', r_ui=5.0, est=3.599744456580157, details={'was_impossible': False}),\n",
       " Prediction(uid='B005S4YE8W', iid='A16ZZMGBI27R5', r_ui=1.0, est=3.642053629000052, details={'was_impossible': False}),\n",
       " Prediction(uid='B01326J5MC', iid='AOU267UVSZHFC', r_ui=4.0, est=3.488624224546139, details={'was_impossible': False}),\n",
       " Prediction(uid='B0148BYIAO', iid='AM13JILBPTHYF', r_ui=5.0, est=3.599503669299596, details={'was_impossible': False}),\n",
       " Prediction(uid='B019DD08CE', iid='A34ZNH3WALCEWX', r_ui=5.0, est=3.662738637138133, details={'was_impossible': False}),\n",
       " Prediction(uid='B00GV2M3EW', iid='A3UURONZ159N3I', r_ui=5.0, est=3.2580291434083395, details={'was_impossible': False}),\n",
       " Prediction(uid='B01C3KPFA4', iid='A1D6A9NWVHZUD6', r_ui=1.0, est=3.550975654880451, details={'was_impossible': False}),\n",
       " Prediction(uid='B0144NYGJY', iid='A142IMWFD5NGTQ', r_ui=5.0, est=3.599455309482311, details={'was_impossible': False}),\n",
       " Prediction(uid='B017W85QUQ', iid='A18PUMN76YIVV2', r_ui=5.0, est=3.601792346450853, details={'was_impossible': False}),\n",
       " Prediction(uid='B00MUTIDKI', iid='A17DS4QYB5YGVN', r_ui=4.0, est=3.5437386816555083, details={'was_impossible': False}),\n",
       " Prediction(uid='B00LG25894', iid='A16EVHQ6KIBKQ6', r_ui=5.0, est=3.575322743591805, details={'was_impossible': False}),\n",
       " Prediction(uid='B00TBDS716', iid='AVT7QGLXXUTDI', r_ui=1.0, est=3.5711705698579643, details={'was_impossible': False}),\n",
       " Prediction(uid='B01326J62G', iid='A138R752DO47G5', r_ui=4.0, est=3.633215292814639, details={'was_impossible': False}),\n",
       " Prediction(uid='B0148BYIPY', iid='A1HIASAYP63JTR', r_ui=3.0, est=3.5086207030073333, details={'was_impossible': False}),\n",
       " Prediction(uid='B00UB76290', iid='AWPHTCD6TYJGJ', r_ui=5.0, est=3.584743981790584, details={'was_impossible': False}),\n",
       " Prediction(uid='B00UB76290', iid='A1UYL7AGUJHOMF', r_ui=5.0, est=3.584743981790584, details={'was_impossible': False}),\n",
       " Prediction(uid='B017W85QUQ', iid='AWQYGUBEMFH48', r_ui=1.0, est=3.601792346450853, details={'was_impossible': False}),\n",
       " Prediction(uid='B015724V9Q', iid='A2OX6VUHRMLSYS', r_ui=1.0, est=3.5564917752249916, details={'was_impossible': False}),\n",
       " Prediction(uid='B015C9KO9K', iid='A1MMKUX69HW6V2', r_ui=1.0, est=3.550975654880451, details={'was_impossible': False}),\n",
       " Prediction(uid='B0153V62P2', iid='A34GCBHAQR5X4Z', r_ui=5.0, est=3.590715637007669, details={'was_impossible': False}),\n",
       " Prediction(uid='B01F7UZAEI', iid='A3B9L6IF1VVT2G', r_ui=1.0, est=3.550975654880451, details={'was_impossible': False}),\n",
       " Prediction(uid='B00UB76290', iid='A3EYAF8G27S809', r_ui=5.0, est=3.584743981790584, details={'was_impossible': False}),\n",
       " Prediction(uid='B01637RMYU', iid='A32NJ7T560F4YS', r_ui=3.0, est=3.6391963747964895, details={'was_impossible': False}),\n",
       " Prediction(uid='B0144NYEY6', iid='AH1YFXVXVFKIW', r_ui=5.0, est=3.5923960196846374, details={'was_impossible': False}),\n",
       " Prediction(uid='B0144NYGJY', iid='A1BFY6LO41WJN1', r_ui=5.0, est=3.599455309482311, details={'was_impossible': False}),\n",
       " Prediction(uid='B0092UELR2', iid='A3HUDWA6UVILRB', r_ui=1.0, est=3.5726198024672136, details={'was_impossible': False}),\n",
       " Prediction(uid='B00O66FYRS', iid='A2O8IKMD4H538P', r_ui=4.0, est=2.037234380321408, details={'was_impossible': False}),\n",
       " Prediction(uid='B01617VPUY', iid='ASPSK4SYXGGUV', r_ui=5.0, est=3.5793309762651453, details={'was_impossible': False}),\n",
       " Prediction(uid='B00L1GMPXC', iid='AP7VUQBOJM5GA', r_ui=1.0, est=3.550975654880451, details={'was_impossible': False}),\n",
       " Prediction(uid='B01FJGK8H4', iid='A1B5DK6CTP2P24', r_ui=5.0, est=3.550975654880451, details={'was_impossible': False}),\n",
       " Prediction(uid='B0153V571W', iid='A325JZNTHI34WM', r_ui=4.0, est=3.5787338578527295, details={'was_impossible': False}),\n",
       " Prediction(uid='B00SZGR61M', iid='A2G7TNU0OHMLNL', r_ui=1.0, est=3.550975654880451, details={'was_impossible': False}),\n",
       " Prediction(uid='B011XO53WQ', iid='ANZKGHH2IPS2E', r_ui=5.0, est=3.606570057727304, details={'was_impossible': False}),\n",
       " Prediction(uid='B00UB769KC', iid='A1BXMMTLAW0U7O', r_ui=5.0, est=3.599744456580157, details={'was_impossible': False}),\n",
       " Prediction(uid='B01326J80Q', iid='AQ1ROQNRCF18P', r_ui=1.0, est=3.632807868427313, details={'was_impossible': False}),\n",
       " Prediction(uid='B015OY6WKS', iid='A2FQNL3Q9KRE9G', r_ui=5.0, est=3.5287823196387773, details={'was_impossible': False}),\n",
       " Prediction(uid='B00NLVKPDM', iid='AK88QX7H7GHI7', r_ui=3.0, est=4.852174404224484, details={'was_impossible': False}),\n",
       " Prediction(uid='B000069DNC', iid='A528VAPVDQCPY', r_ui=1.0, est=3.6790351162544113, details={'was_impossible': False}),\n",
       " Prediction(uid='B00UB76290', iid='AQP7RAIA0VXGS', r_ui=5.0, est=3.584743981790584, details={'was_impossible': False}),\n",
       " Prediction(uid='B01019T6O0', iid='A1MDGY1YBS0LIZ', r_ui=1.0, est=3.5728872598276338, details={'was_impossible': False}),\n",
       " Prediction(uid='B01F7RJHIQ', iid='A26J5FRZ2UDE0C', r_ui=2.0, est=3.56983105133595, details={'was_impossible': False}),\n",
       " Prediction(uid='B00UB76290', iid='A25TNARXO59V32', r_ui=5.0, est=3.584743981790584, details={'was_impossible': False}),\n",
       " Prediction(uid='B00B766VZE', iid='A2ZWM9UMRIMKL2', r_ui=1.0, est=3.5495019329360984, details={'was_impossible': False}),\n",
       " Prediction(uid='B00YPQT5MO', iid='A3EF2R2XTPWBM7', r_ui=5.0, est=3.619718536567144, details={'was_impossible': False}),\n",
       " Prediction(uid='B015724OVG', iid='A2GSFNSD6ENSEA', r_ui=5.0, est=3.6145171732576977, details={'was_impossible': False}),\n",
       " Prediction(uid='B00LYYN13O', iid='A9USI96BO02UQ', r_ui=3.0, est=3.5693884312726243, details={'was_impossible': False}),\n",
       " Prediction(uid='B00UB76290', iid='AFYZ66Y5B68SI', r_ui=3.0, est=3.584743981790584, details={'was_impossible': False}),\n",
       " Prediction(uid='B00JAD6G9M', iid='A1EYTFZENGIJF6', r_ui=5.0, est=3.541507250431674, details={'was_impossible': False}),\n",
       " Prediction(uid='B00MA5TPN6', iid='A3G9A9Z3G2H6V2', r_ui=1.0, est=3.55198541211349, details={'was_impossible': False}),\n",
       " Prediction(uid='B00P31G9PQ', iid='AKV6JE85B1LMY', r_ui=3.0, est=3.537585282296897, details={'was_impossible': False}),\n",
       " Prediction(uid='B01EU8RG7M', iid='A36TX25VL4VJL8', r_ui=1.0, est=3.550975654880451, details={'was_impossible': False}),\n",
       " Prediction(uid='B0144NYGJY', iid='A94ZH33TDP6EZ', r_ui=5.0, est=3.599455309482311, details={'was_impossible': False}),\n",
       " Prediction(uid='B000TKCH7A', iid='A3068KIJXR7OUJ', r_ui=2.0, est=4.093150330886423, details={'was_impossible': False}),\n",
       " Prediction(uid='B00UB76290', iid='A1QT6PHXDA5XDF', r_ui=5.0, est=4.32973091595341, details={'was_impossible': False}),\n",
       " Prediction(uid='B01326J62G', iid='AFDWSRBS7SRCB', r_ui=1.0, est=3.877707831162022, details={'was_impossible': False}),\n",
       " Prediction(uid='B013EXEMWQ', iid='A18PDRTM5KX2XU', r_ui=5.0, est=3.635668722666387, details={'was_impossible': False}),\n",
       " Prediction(uid='B013CTP97O', iid='A1UM124AM54RS5', r_ui=5.0, est=3.5622010257671084, details={'was_impossible': False}),\n",
       " Prediction(uid='B00NLVKPDM', iid='A102W97X5UVN43', r_ui=1.0, est=3.5482228407264915, details={'was_impossible': False}),\n",
       " Prediction(uid='B015724V9Q', iid='A1OZFIHOC22EJ9', r_ui=5.0, est=3.5564917752249916, details={'was_impossible': False}),\n",
       " Prediction(uid='B00W64AI50', iid='A30OMYH9CYZK2W', r_ui=5.0, est=3.6021535816125327, details={'was_impossible': False}),\n",
       " Prediction(uid='B00OSE2638', iid='A1W2NFWQ0XKZXE', r_ui=5.0, est=3.510939441494769, details={'was_impossible': False}),\n",
       " Prediction(uid='B01586EWQI', iid='A1PPJKPATN4E9K', r_ui=4.0, est=2.046883874689428, details={'was_impossible': False}),\n",
       " Prediction(uid='B0148BYIAO', iid='A3EFLFK11XLE38', r_ui=1.0, est=3.599503669299596, details={'was_impossible': False}),\n",
       " Prediction(uid='B00NLVKPDM', iid='A36BPU4XCSTEJB', r_ui=1.0, est=3.5482228407264915, details={'was_impossible': False}),\n",
       " Prediction(uid='B01637RFR4', iid='A24TPOKF0WD5X2', r_ui=4.0, est=3.5841964138422404, details={'was_impossible': False}),\n",
       " Prediction(uid='B0007TAICY', iid='A2QVLNPHXA43U9', r_ui=5.0, est=3.6417547621901916, details={'was_impossible': False}),\n",
       " Prediction(uid='B00DQAKK2E', iid='A36MYZK7B0YH01', r_ui=1.0, est=3.556577897397329, details={'was_impossible': False}),\n",
       " Prediction(uid='B01019TDJ8', iid='A18D5L8R123ZKW', r_ui=5.0, est=3.551892819914343, details={'was_impossible': False}),\n",
       " Prediction(uid='B002DHLV8S', iid='A43PH4Q9PFWDN', r_ui=4.0, est=3.594006610813397, details={'was_impossible': False}),\n",
       " Prediction(uid='B0008GLGRM', iid='A16KENDL9QZ8OQ', r_ui=1.0, est=3.652277373747528, details={'was_impossible': False}),\n",
       " Prediction(uid='B00UB76290', iid='A18RXTUVQCPFQN', r_ui=5.0, est=4.87874987889645, details={'was_impossible': False}),\n",
       " Prediction(uid='B00B1TEIRU', iid='A12UOT31UGHUUR', r_ui=1.0, est=2.9540255056134606, details={'was_impossible': False}),\n",
       " Prediction(uid='B00M9GTMQ6', iid='A1L1CEEIFPJUV4', r_ui=1.0, est=3.5353798004096424, details={'was_impossible': False}),\n",
       " Prediction(uid='B00CS76EI0', iid='A2MWKMAHC2CJWG', r_ui=1.0, est=3.378076316877473, details={'was_impossible': False}),\n",
       " Prediction(uid='B015724RQI', iid='A1L2IGVX3KLDLW', r_ui=1.0, est=3.5846561609529943, details={'was_impossible': False}),\n",
       " Prediction(uid='B000QGH7YK', iid='A1ETPO4H4RZVPH', r_ui=3.0, est=4.5861322870732035, details={'was_impossible': False}),\n",
       " Prediction(uid='B00IT6WQDQ', iid='A1DYRKLHEP2EGM', r_ui=5.0, est=3.5582504155028203, details={'was_impossible': False}),\n",
       " Prediction(uid='B01019T6O0', iid='A7LIQLL2IOWEI', r_ui=5.0, est=3.5728872598276338, details={'was_impossible': False}),\n",
       " Prediction(uid='B0079KJ64A', iid='AGL36SZDDI8QH', r_ui=5.0, est=3.594421789365095, details={'was_impossible': False}),\n",
       " Prediction(uid='B01CS8RSIS', iid='A2ZRT98QDXSC0L', r_ui=5.0, est=3.550975654880451, details={'was_impossible': False}),\n",
       " Prediction(uid='B015724V9Q', iid='A2ASBOMM74FKZ0', r_ui=5.0, est=3.5564917752249916, details={'was_impossible': False}),\n",
       " Prediction(uid='B01617VPUY', iid='ADH6PB51UNIJ1', r_ui=5.0, est=3.5793309762651453, details={'was_impossible': False}),\n",
       " Prediction(uid='B00CTTEKJW', iid='A3PMF8YHOR4YJO', r_ui=4.0, est=3.5767129905407398, details={'was_impossible': False}),\n",
       " Prediction(uid='B01617VPUY', iid='A289T4U9P3NQQP', r_ui=1.0, est=3.5793309762651453, details={'was_impossible': False}),\n",
       " Prediction(uid='B01617VPUY', iid='AMJ2JOWBEJI7O', r_ui=1.0, est=4.984055555976236, details={'was_impossible': False}),\n",
       " Prediction(uid='B00LX4BYV6', iid='A2XRMQA6PJ5ZJ8', r_ui=5.0, est=3.808804194056917, details={'was_impossible': False}),\n",
       " Prediction(uid='B00IT6WQDQ', iid='A2ZB4BX2EVXPNZ', r_ui=5.0, est=3.5582504155028203, details={'was_impossible': False}),\n",
       " Prediction(uid='B01C79VRDU', iid='AGPB4AHQGK18Q', r_ui=1.0, est=3.550975654880451, details={'was_impossible': False}),\n",
       " Prediction(uid='B00CTTEKJW', iid='AKWKSLNDJD533', r_ui=5.0, est=3.5767129905407398, details={'was_impossible': False}),\n",
       " Prediction(uid='B00L13X6QA', iid='A2VFKWTTMTL3TC', r_ui=1.0, est=3.5547922038230624, details={'was_impossible': False}),\n",
       " Prediction(uid='B0144NYGJY', iid='A2IP26LJGTJXSV', r_ui=5.0, est=4.980634461509138, details={'was_impossible': False}),\n",
       " Prediction(uid='B010P91LYY', iid='AN4X3HBA99G06', r_ui=4.0, est=3.549329613502142, details={'was_impossible': False}),\n",
       " Prediction(uid='B00UB76290', iid='A30OHGHKVB5J2X', r_ui=5.0, est=3.584743981790584, details={'was_impossible': False}),\n",
       " Prediction(uid='B00TBDS716', iid='A6H3Y8C2ROSQ5', r_ui=1.0, est=3.5711705698579643, details={'was_impossible': False}),\n",
       " Prediction(uid='B00CTTEKJW', iid='A129S2K2CGAIQ6', r_ui=1.0, est=3.5767129905407398, details={'was_impossible': False}),\n",
       " Prediction(uid='B00N9MUV96', iid='AAP5J5OKJG5H3', r_ui=5.0, est=3.535587500751107, details={'was_impossible': False}),\n",
       " Prediction(uid='B000BR0NPO', iid='A21BOHFYCZXKLI', r_ui=5.0, est=3.618534512777514, details={'was_impossible': False}),\n",
       " Prediction(uid='B00TKM6M10', iid='A1HWQXOAZPMHL3', r_ui=1.0, est=3.608737224786225, details={'was_impossible': False}),\n",
       " Prediction(uid='B00LX4BYV6', iid='A249CGDP5GMSGT', r_ui=5.0, est=3.5476917982238874, details={'was_impossible': False}),\n",
       " Prediction(uid='B00B5P23SG', iid='ARG8DWMM1WKQW', r_ui=1.0, est=3.572390472061559, details={'was_impossible': False}),\n",
       " Prediction(uid='B01637RFR4', iid='A2RW8Z0G65Q4Y5', r_ui=5.0, est=4.905657298125134, details={'was_impossible': False}),\n",
       " Prediction(uid='B00CTTEKJW', iid='A27O6PME2LEDTB', r_ui=1.0, est=3.5767129905407398, details={'was_impossible': False}),\n",
       " Prediction(uid='B01FBH8Q0C', iid='A2HH2BIG2CB4NO', r_ui=5.0, est=3.550975654880451, details={'was_impossible': False}),\n",
       " Prediction(uid='B01617VVYY', iid='A25FF0ZDNGG7U6', r_ui=3.0, est=3.60263322581189, details={'was_impossible': False}),\n",
       " Prediction(uid='B006GOFW3E', iid='A3E1J0WD49C3CV', r_ui=5.0, est=3.540695449523813, details={'was_impossible': False}),\n",
       " Prediction(uid='B01637RFR4', iid='A2NTF06OGXYKNC', r_ui=4.0, est=4.934296489286197, details={'was_impossible': False}),\n",
       " Prediction(uid='B00CTTEKJW', iid='ATG1CB1V9TSCG', r_ui=5.0, est=3.5767129905407398, details={'was_impossible': False}),\n",
       " Prediction(uid='B00I3EKYT2', iid='A166VRYYWWLINL', r_ui=5.0, est=3.557707583876435, details={'was_impossible': False}),\n",
       " Prediction(uid='B00SGLIUY8', iid='AY83M5BBPX88C', r_ui=5.0, est=3.5721679470659367, details={'was_impossible': False}),\n",
       " Prediction(uid='B00FZ0FK0U', iid='A2Z3BV1SJPU56M', r_ui=2.0, est=3.5823137499563287, details={'was_impossible': False}),\n",
       " Prediction(uid='B01637RFR4', iid='A2VW1RQ5GOURHT', r_ui=4.0, est=3.5841964138422404, details={'was_impossible': False}),\n",
       " Prediction(uid='B00LX4BZAQ', iid='A5N18CP0RF483', r_ui=1.0, est=3.5480628940652847, details={'was_impossible': False}),\n",
       " Prediction(uid='B00UB76290', iid='A2L67IO8OKOFJ8', r_ui=5.0, est=3.584743981790584, details={'was_impossible': False}),\n",
       " Prediction(uid='B0123C60D8', iid='A20XRFW6O53FEL', r_ui=5.0, est=3.571284015523882, details={'was_impossible': False}),\n",
       " Prediction(uid='B01019T6O0', iid='A11HBSSMDS9BP9', r_ui=1.0, est=3.5728872598276338, details={'was_impossible': False}),\n",
       " Prediction(uid='B000A7JO6Y', iid='A3GMEF6M97TVR5', r_ui=1.0, est=3.550975654880451, details={'was_impossible': False}),\n",
       " Prediction(uid='B01326J62G', iid='AICKZU5DHO2B0', r_ui=4.0, est=3.633215292814639, details={'was_impossible': False}),\n",
       " Prediction(uid='B011XO55BA', iid='A2N7BOKTL8NEWJ', r_ui=5.0, est=3.5379785497902985, details={'was_impossible': False}),\n",
       " Prediction(uid='B01F70HGA4', iid='AQ3Q2VX2D5EK7', r_ui=5.0, est=3.550975654880451, details={'was_impossible': False}),\n",
       " Prediction(uid='B015724RQI', iid='A322ZKD4XBJPB0', r_ui=4.0, est=3.8856363541503107, details={'was_impossible': False}),\n",
       " Prediction(uid='B00OM6SKH8', iid='A1HS64U74BKEV9', r_ui=5.0, est=3.5519739524571534, details={'was_impossible': False}),\n",
       " Prediction(uid='B00FFINOWS', iid='A14HVJGQD13ZTP', r_ui=4.0, est=3.5881516786622973, details={'was_impossible': False}),\n",
       " Prediction(uid='B00HRQB28Y', iid='A3G3UA7WKNCR9T', r_ui=1.0, est=3.5719057598015427, details={'was_impossible': False}),\n",
       " Prediction(uid='B0014ZQMXO', iid='A2XVRSODB483ZN', r_ui=5.0, est=3.5429855538975388, details={'was_impossible': False}),\n",
       " Prediction(uid='B00440D8QK', iid='A1JESXX61PGR9J', r_ui=5.0, est=3.9766607955541313, details={'was_impossible': False}),\n",
       " Prediction(uid='B00UB76290', iid='AF62BXZCH35I6', r_ui=5.0, est=3.584743981790584, details={'was_impossible': False}),\n",
       " Prediction(uid='B00Q71WOJQ', iid='A9MIABSHJ1LNT', r_ui=1.0, est=3.550919109524675, details={'was_impossible': False}),\n",
       " Prediction(uid='B004YTG200', iid='A25XXGSM8J5YJH', r_ui=5.0, est=3.5425585583067103, details={'was_impossible': False}),\n",
       " Prediction(uid='B011XO53WQ', iid='A1CHA68HT5ZY2J', r_ui=5.0, est=3.606570057727304, details={'was_impossible': False}),\n",
       " Prediction(uid='B01637RHBI', iid='A1U4F7SHAW2OFA', r_ui=5.0, est=4.908352923021668, details={'was_impossible': False}),\n",
       " Prediction(uid='B00UB76290', iid='A3JG92QANDOP1F', r_ui=5.0, est=3.584743981790584, details={'was_impossible': False}),\n",
       " Prediction(uid='B0123C60F6', iid='A3CC4YEUUCECZO', r_ui=3.0, est=3.578213648287169, details={'was_impossible': False}),\n",
       " Prediction(uid='B005CELKLM', iid='A3TNZW9HQ2WEN', r_ui=4.0, est=3.6168418296879117, details={'was_impossible': False}),\n",
       " Prediction(uid='B01019BM7O', iid='ADTNA901N8HG3', r_ui=5.0, est=3.552757101328557, details={'was_impossible': False}),\n",
       " Prediction(uid='B00I3MSBC6', iid='A6WM3EBVYAPML', r_ui=5.0, est=3.5425216189751967, details={'was_impossible': False}),\n",
       " Prediction(uid='B00ZSI7Y3U', iid='A2SGNZGQWFJV91', r_ui=3.0, est=3.5631976928997187, details={'was_impossible': False}),\n",
       " Prediction(uid='B01617VQJ4', iid='A2NOZB6VZCTOI4', r_ui=4.0, est=3.43010446215911, details={'was_impossible': False}),\n",
       " Prediction(uid='B01CS8RSIS', iid='A2KMV056844YV2', r_ui=3.0, est=4.420070651365461, details={'was_impossible': False}),\n",
       " Prediction(uid='B00P31G9PQ', iid='A3FMMQ0Q8SR6BT', r_ui=5.0, est=3.537585282296897, details={'was_impossible': False}),\n",
       " Prediction(uid='B00UB76290', iid='A26QM0ZE8A23MU', r_ui=5.0, est=3.584743981790584, details={'was_impossible': False}),\n",
       " Prediction(uid='B01326JCLQ', iid='A2YMYRLU8QK4CL', r_ui=1.0, est=3.5445159210022235, details={'was_impossible': False}),\n",
       " Prediction(uid='B00UB769KC', iid='A2W074HO9K890G', r_ui=5.0, est=3.599744456580157, details={'was_impossible': False}),\n",
       " Prediction(uid='B00LX4BZAQ', iid='A274ACY0NY6VXM', r_ui=1.0, est=3.5480628940652847, details={'was_impossible': False}),\n",
       " Prediction(uid='B00FI7HTAO', iid='A2SHRAK8X8YXDI', r_ui=4.0, est=3.624283619119394, details={'was_impossible': False}),\n",
       " Prediction(uid='B01019T6O0', iid='A3TBE6X7W32T1X', r_ui=5.0, est=3.5728872598276338, details={'was_impossible': False}),\n",
       " Prediction(uid='3866815808', iid='A26NLT3DHCPKUF', r_ui=5.0, est=3.550975654880451, details={'was_impossible': False}),\n",
       " Prediction(uid='B00CTTEKJW', iid='A25VMJXGS4BTK8', r_ui=5.0, est=3.9456475074867496, details={'was_impossible': False}),\n",
       " Prediction(uid='B00009VRFN', iid='A16Q366HBR5KZE', r_ui=2.0, est=3.550975654880451, details={'was_impossible': False}),\n",
       " Prediction(uid='B000RC0VGY', iid='A18LGEYHN9EK9P', r_ui=5.0, est=3.5944307713636174, details={'was_impossible': False}),\n",
       " Prediction(uid='B000H3CKG2', iid='AIYBG1N54T19I', r_ui=5.0, est=3.609847439019548, details={'was_impossible': False}),\n",
       " Prediction(uid='B00LX4BZAQ', iid='A3IBPDC4C4S7DC', r_ui=4.0, est=3.5480628940652847, details={'was_impossible': False}),\n",
       " Prediction(uid='B015724B8M', iid='A2TPIMYUHI10QO', r_ui=1.0, est=3.611247968735367, details={'was_impossible': False}),\n",
       " Prediction(uid='B017O2UDOO', iid='AXORCQUUWAMGP', r_ui=3.0, est=3.633686896206171, details={'was_impossible': False}),\n",
       " Prediction(uid='B001C2ZL54', iid='A24KYDYGH9YUS5', r_ui=2.0, est=3.443369215333847, details={'was_impossible': False}),\n",
       " Prediction(uid='B0056CZATI', iid='A2LCGC0HTYKNAD', r_ui=1.0, est=3.594547133785569, details={'was_impossible': False}),\n",
       " Prediction(uid='B00975BPC6', iid='A10QGVI5T413S0', r_ui=1.0, est=3.462778891314346, details={'was_impossible': False}),\n",
       " Prediction(uid='B012Y7R126', iid='AJ0AZ0XL0NC0Q', r_ui=4.0, est=3.576746953891791, details={'was_impossible': False}),\n",
       " Prediction(uid='B00NLVKPDM', iid='A3J4OJOBG5WY0Y', r_ui=5.0, est=3.5482228407264915, details={'was_impossible': False}),\n",
       " Prediction(uid='B008XAXAC4', iid='A1N0R1OM05XPRR', r_ui=1.0, est=3.5646374355958, details={'was_impossible': False}),\n",
       " Prediction(uid='B01GF2LA6O', iid='A2R0IZT2D4MCJF', r_ui=5.0, est=3.550975654880451, details={'was_impossible': False}),\n",
       " Prediction(uid='B0153V62P2', iid='A2MGP1RIZUEMD0', r_ui=1.0, est=3.590715637007669, details={'was_impossible': False}),\n",
       " Prediction(uid='B01326J5MC', iid='A3TAVH1CDD6CPU', r_ui=4.0, est=3.488624224546139, details={'was_impossible': False}),\n",
       " Prediction(uid='B01617VPUY', iid='A2T24B4YESXULJ', r_ui=1.0, est=3.5793309762651453, details={'was_impossible': False}),\n",
       " Prediction(uid='B01D6C80T6', iid='A1TGJVJ6FHEXSP', r_ui=5.0, est=3.550975654880451, details={'was_impossible': False}),\n",
       " Prediction(uid='B007JYU7JY', iid='A1MNILX1J1NWV7', r_ui=4.0, est=4.03101239778112, details={'was_impossible': False}),\n",
       " Prediction(uid='B00UB76290', iid='AFQFVCKF7RCK3', r_ui=5.0, est=3.584743981790584, details={'was_impossible': False}),\n",
       " Prediction(uid='B0144NYEY6', iid='A37E2IUE9ZF38E', r_ui=5.0, est=3.5923960196846374, details={'was_impossible': False}),\n",
       " Prediction(uid='B00UB76290', iid='A3BXPKVAOJMK7N', r_ui=3.0, est=3.584743981790584, details={'was_impossible': False}),\n",
       " Prediction(uid='B00B766VZE', iid='A1J0L48RAZCLS1', r_ui=5.0, est=3.5495019329360984, details={'was_impossible': False}),\n",
       " Prediction(uid='B015724V9Q', iid='A112IO1HILP005', r_ui=4.0, est=3.5564917752249916, details={'was_impossible': False}),\n",
       " Prediction(uid='B015724RQI', iid='AJKGD52I9DGCN', r_ui=5.0, est=4.927378767902051, details={'was_impossible': False}),\n",
       " Prediction(uid='B00RZWHLWQ', iid='A1RPO3NDZ30JMW', r_ui=5.0, est=3.550975654880451, details={'was_impossible': False}),\n",
       " Prediction(uid='B000KMCF1A', iid='AXDHN4BRBZ9K0', r_ui=1.0, est=3.4909320562425523, details={'was_impossible': False}),\n",
       " Prediction(uid='B000067PPQ', iid='AUI0PL6LP5E5R', r_ui=5.0, est=3.494294639671237, details={'was_impossible': False}),\n",
       " Prediction(uid='B00L32CV1K', iid='A9S3937WUDT46', r_ui=5.0, est=4.966643302012402, details={'was_impossible': False}),\n",
       " Prediction(uid='B00E6LJBUO', iid='A1NN8FXL9YGHL2', r_ui=1.0, est=1.0981048720186362, details={'was_impossible': False}),\n",
       " Prediction(uid='B0118EVB90', iid='A249EMSLGQICW4', r_ui=3.0, est=3.532584940849205, details={'was_impossible': False}),\n",
       " Prediction(uid='B01537HQE2', iid='A2OIONK6XTXTPK', r_ui=5.0, est=3.5563439104143733, details={'was_impossible': False}),\n",
       " Prediction(uid='B00KSM0KOG', iid='A1H4QN0BJ7DYNC', r_ui=1.0, est=3.649916953134695, details={'was_impossible': False}),\n",
       " Prediction(uid='B00CTTEKJW', iid='A1YTNLZUPBGNWO', r_ui=1.0, est=3.5767129905407398, details={'was_impossible': False}),\n",
       " Prediction(uid='B0153V62P2', iid='A2ZP6EAWDCBPQ1', r_ui=4.0, est=4.944418066565407, details={'was_impossible': False}),\n",
       " Prediction(uid='B01326J6GW', iid='A2XDH2Q1O9S0KJ', r_ui=1.0, est=3.4511496268565476, details={'was_impossible': False}),\n",
       " Prediction(uid='B01CJFWSCG', iid='A25E2XO4A7HO7J', r_ui=4.0, est=3.550975654880451, details={'was_impossible': False}),\n",
       " Prediction(uid='B0144NYGJY', iid='A3IV9DB1ZHJ6H2', r_ui=5.0, est=3.599455309482311, details={'was_impossible': False}),\n",
       " Prediction(uid='B013S8ZETC', iid='A2QY5UEYT116F9', r_ui=5.0, est=3.550975654880451, details={'was_impossible': False}),\n",
       " Prediction(uid='B00SNZFXLK', iid='AYMDDC0QJBWRL', r_ui=5.0, est=3.612745812928081, details={'was_impossible': False}),\n",
       " Prediction(uid='B01HAP47PQ', iid='AV5IXEP23YBRY', r_ui=3.0, est=3.550975654880451, details={'was_impossible': False}),\n",
       " Prediction(uid='B00HM3QP5W', iid='A2468Y1J7IX1DX', r_ui=5.0, est=3.5748653202646126, details={'was_impossible': False}),\n",
       " Prediction(uid='B00EZKNY8G', iid='A32CGF0X0USQN', r_ui=5.0, est=3.649749836308826, details={'was_impossible': False}),\n",
       " Prediction(uid='B01586FEYW', iid='A1Z4SASL0BPC4R', r_ui=4.0, est=3.5494204651996237, details={'was_impossible': False}),\n",
       " Prediction(uid='B01EB06QUM', iid='A19FOOWNLRUCTH', r_ui=1.0, est=3.550975654880451, details={'was_impossible': False}),\n",
       " Prediction(uid='B00L13X6QA', iid='A3AG694JX4U5A1', r_ui=4.0, est=3.5547922038230624, details={'was_impossible': False}),\n",
       " Prediction(uid='B011XO5556', iid='A2FS8QCZQIEYJF', r_ui=5.0, est=3.56875554114292, details={'was_impossible': False}),\n",
       " Prediction(uid='B01637RMYU', iid='A3LUCB44RQWPOQ', r_ui=4.0, est=3.6391963747964895, details={'was_impossible': False}),\n",
       " Prediction(uid='B00CTTEKJW', iid='AJATFK6Q3M1YA', r_ui=5.0, est=3.5767129905407398, details={'was_impossible': False}),\n",
       " Prediction(uid='B00EZKNYXG', iid='A253S09H628CPW', r_ui=5.0, est=3.642469676468651, details={'was_impossible': False}),\n",
       " Prediction(uid='B01617VVYY', iid='A3IHEVWXLRD1J3', r_ui=2.0, est=3.1103768025315164, details={'was_impossible': False}),\n",
       " Prediction(uid='B00UB76290', iid='A1P9XWSB64HCNV', r_ui=5.0, est=3.584743981790584, details={'was_impossible': False}),\n",
       " Prediction(uid='B01326JCLQ', iid='ATLOIZUQI1ZW3', r_ui=5.0, est=3.5445159210022235, details={'was_impossible': False}),\n",
       " Prediction(uid='B00CTTEKJW', iid='A3VG13KNU9M7CS', r_ui=5.0, est=3.5767129905407398, details={'was_impossible': False}),\n",
       " Prediction(uid='B01F4PYHX6', iid='A2DA2NJZ2RIYAB', r_ui=5.0, est=4.780125365812447, details={'was_impossible': False}),\n",
       " Prediction(uid='B00LX4BZAQ', iid='A12ID9WUC8RX5J', r_ui=4.0, est=3.5480628940652847, details={'was_impossible': False}),\n",
       " Prediction(uid='B01CCBEUY6', iid='A3SWYH50G6B3ED', r_ui=4.0, est=3.550975654880451, details={'was_impossible': False}),\n",
       " Prediction(uid='B00UBKB40Y', iid='A274PZQXFWY19R', r_ui=5.0, est=3.6089140632194328, details={'was_impossible': False}),\n",
       " Prediction(uid='B00MEO1G08', iid='A3OPZUZ8QHKEDU', r_ui=1.0, est=3.565913818762717, details={'was_impossible': False}),\n",
       " Prediction(uid='B010P91LYY', iid='A25JBR7KFQ2GNN', r_ui=5.0, est=3.549329613502142, details={'was_impossible': False}),\n",
       " Prediction(uid='B015724OVG', iid='A68B2EXS707BY', r_ui=5.0, est=3.6145171732576977, details={'was_impossible': False}),\n",
       " Prediction(uid='B00ASQ5VLE', iid='A1RPXD7EEEMQK6', r_ui=5.0, est=3.5482799035905415, details={'was_impossible': False}),\n",
       " Prediction(uid='B0007P49LY', iid='A27ILJBXASTK2F', r_ui=5.0, est=3.550975654880451, details={'was_impossible': False}),\n",
       " Prediction(uid='B00UB76290', iid='A25CQ5UC0CJ44C', r_ui=5.0, est=3.584743981790584, details={'was_impossible': False}),\n",
       " Prediction(uid='B00GRFIIHO', iid='AHO0N4A8ZFNV3', r_ui=5.0, est=3.579912776179188, details={'was_impossible': False}),\n",
       " Prediction(uid='B00CTTEKJW', iid='A3266JLT72PIVT', r_ui=5.0, est=3.5767129905407398, details={'was_impossible': False}),\n",
       " Prediction(uid='B01637RFR4', iid='A2TIAD6F7B2ZC5', r_ui=5.0, est=3.5841964138422404, details={'was_impossible': False}),\n",
       " Prediction(uid='B00E6LJ2SA', iid='A2V8VK4RNFQBID', r_ui=1.0, est=3.5560240733116895, details={'was_impossible': False}),\n",
       " Prediction(uid='B015NN1E0S', iid='A3SDAUZ8Q7YCEF', r_ui=2.0, est=3.5020544192229712, details={'was_impossible': False}),\n",
       " Prediction(uid='B00YW8UDTY', iid='A2WESJNCHVO9RL', r_ui=5.0, est=3.626337895824192, details={'was_impossible': False}),\n",
       " Prediction(uid='B00HV9IM58', iid='AUW1G5H9KOQMR', r_ui=1.0, est=3.5618389070536534, details={'was_impossible': False}),\n",
       " Prediction(uid='B007EIIILO', iid='A1STZ14JIQVL5V', r_ui=5.0, est=3.537286101048334, details={'was_impossible': False}),\n",
       " Prediction(uid='B01637RFR4', iid='A12F8OG8CKZU9L', r_ui=5.0, est=3.5841964138422404, details={'was_impossible': False}),\n",
       " Prediction(uid='B0144NYGJY', iid='AYT8KFJU1DZ39', r_ui=5.0, est=2.1798923458222497, details={'was_impossible': False}),\n",
       " Prediction(uid='B00POCOHC6', iid='A1PU4W41VRW7A6', r_ui=1.0, est=3.6161643568805983, details={'was_impossible': False}),\n",
       " Prediction(uid='B01019T6O0', iid='A1ALR19ARMI5GB', r_ui=3.0, est=3.5728872598276338, details={'was_impossible': False}),\n",
       " Prediction(uid='B01F70HGA4', iid='A3K0Q8GLTBB1FY', r_ui=5.0, est=3.550975654880451, details={'was_impossible': False}),\n",
       " Prediction(uid='B01637RFR4', iid='A1NL8KSFN6NI6S', r_ui=5.0, est=3.5841964138422404, details={'was_impossible': False}),\n",
       " Prediction(uid='B017SMKF3Y', iid='ARKZ5YKZJBNE9', r_ui=5.0, est=3.5928014329878017, details={'was_impossible': False}),\n",
       " Prediction(uid='B0009A1X7K', iid='A2WKAM0P4ONR02', r_ui=5.0, est=3.570254914712409, details={'was_impossible': False}),\n",
       " Prediction(uid='B00MUY6KY4', iid='A1XIUZJEYNEIKB', r_ui=2.0, est=3.6365881967434763, details={'was_impossible': False}),\n",
       " Prediction(uid='B00A6TPHZS', iid='A1Q5ARVRYUQ3RC', r_ui=4.0, est=3.4901117655520135, details={'was_impossible': False}),\n",
       " Prediction(uid='B00EZKNYXG', iid='A34VIO4RJJAXBN', r_ui=5.0, est=3.642469676468651, details={'was_impossible': False}),\n",
       " Prediction(uid='B0148BYIAO', iid='A323IAULFJWHU', r_ui=1.0, est=3.599503669299596, details={'was_impossible': False}),\n",
       " Prediction(uid='B015OY6WKS', iid='A302T0J2YP5FEH', r_ui=5.0, est=3.5287823196387773, details={'was_impossible': False}),\n",
       " Prediction(uid='B015UAMV6A', iid='A19HQ3TZWLFYBF', r_ui=3.0, est=3.45323383588604, details={'was_impossible': False}),\n",
       " Prediction(uid='B0143HYNI0', iid='A3H77IBPXWA0P2', r_ui=5.0, est=3.6057637059168384, details={'was_impossible': False}),\n",
       " Prediction(uid='B008S0IWNQ', iid='A1UQL4HQXKXV7W', r_ui=5.0, est=3.5526073144551997, details={'was_impossible': False}),\n",
       " Prediction(uid='B00597EEIS', iid='A3J4E49TC1NAMJ', r_ui=4.0, est=3.546051585006316, details={'was_impossible': False}),\n",
       " Prediction(uid='B01637RMYU', iid='AWBIBUOENXVRN', r_ui=3.0, est=3.6391963747964895, details={'was_impossible': False}),\n",
       " Prediction(uid='B00M9GTEPA', iid='ACN7QLO8RJPP8', r_ui=2.0, est=3.515773541809011, details={'was_impossible': False}),\n",
       " Prediction(uid='B0144NYGJY', iid='AK9B3K758EJ28', r_ui=5.0, est=3.599455309482311, details={'was_impossible': False}),\n",
       " Prediction(uid='B0083TP500', iid='A1SZQLKLIADUYX', r_ui=5.0, est=3.5988034437123027, details={'was_impossible': False}),\n",
       " Prediction(uid='B01326J5MC', iid='AD34E4CKVQUHB', r_ui=3.0, est=3.488624224546139, details={'was_impossible': False}),\n",
       " Prediction(uid='B01637RFR4', iid='A1OBFF122VCPDE', r_ui=5.0, est=4.8589873106860635, details={'was_impossible': False}),\n",
       " Prediction(uid='B004E564PW', iid='AD0UXE2FQG127', r_ui=2.0, est=3.605076991626243, details={'was_impossible': False}),\n",
       " Prediction(uid='B01488541O', iid='A1RC3QSOZM32LS', r_ui=5.0, est=3.5575918183675084, details={'was_impossible': False}),\n",
       " Prediction(uid='B00ZSI7Y3U', iid='A1ULIYS92LLYEU', r_ui=1.0, est=1.119196286977094, details={'was_impossible': False}),\n",
       " Prediction(uid='B017O2UDOO', iid='A1302ZGSGW4D0T', r_ui=5.0, est=3.633686896206171, details={'was_impossible': False}),\n",
       " Prediction(uid='B01637REAM', iid='A3UVDDSG3DRL6X', r_ui=5.0, est=3.58329882033062, details={'was_impossible': False}),\n",
       " Prediction(uid='B00CTTEKJW', iid='A1BJEW0U9GUW08', r_ui=1.0, est=3.5767129905407398, details={'was_impossible': False}),\n",
       " Prediction(uid='B014Y44LSO', iid='A2V9XCVGWAHGRZ', r_ui=5.0, est=3.616116322288396, details={'was_impossible': False}),\n",
       " Prediction(uid='B007MDQI22', iid='A1IOXROQ7KPGBU', r_ui=1.0, est=3.5533393004809266, details={'was_impossible': False}),\n",
       " Prediction(uid='B0144NYEY6', iid='A2H9AI1ZJPRGT6', r_ui=5.0, est=3.5923960196846374, details={'was_impossible': False}),\n",
       " Prediction(uid='B011XO53WQ', iid='A1XY9YS471VXJW', r_ui=3.0, est=3.606570057727304, details={'was_impossible': False}),\n",
       " Prediction(uid='B00LX4BZAQ', iid='A2BRSSZV6VVKXG', r_ui=5.0, est=3.5480628940652847, details={'was_impossible': False}),\n",
       " Prediction(uid='B015724OVG', iid='A12NKSUG4PT8JV', r_ui=5.0, est=3.6145171732576977, details={'was_impossible': False}),\n",
       " Prediction(uid='B00VWCKJVA', iid='ALYZL9AXDX89Y', r_ui=3.0, est=3.5928113499731142, details={'was_impossible': False}),\n",
       " Prediction(uid='B00EZKNY8G', iid='A20PDMHDFTWB48', r_ui=5.0, est=3.649749836308826, details={'was_impossible': False}),\n",
       " Prediction(uid='B00UB76290', iid='A2SR2XIO8OPCS3', r_ui=5.0, est=3.958380277934369, details={'was_impossible': False}),\n",
       " Prediction(uid='B01326J62G', iid='A2BG0JPQRSFOX4', r_ui=5.0, est=3.633215292814639, details={'was_impossible': False}),\n",
       " Prediction(uid='B00CTTEKJW', iid='AYFUI2FF91HR9', r_ui=5.0, est=3.5767129905407398, details={'was_impossible': False}),\n",
       " Prediction(uid='B0002T76OM', iid='AIYHIYXJP0JR4', r_ui=1.0, est=3.6232436962855714, details={'was_impossible': False}),\n",
       " Prediction(uid='B01HAP3NUG', iid='AFIZ4ZCEPLY3', r_ui=3.0, est=3.550975654880451, details={'was_impossible': False}),\n",
       " Prediction(uid='B005GI19HY', iid='A3S1GZPL3NGXG1', r_ui=4.0, est=3.5767418874474055, details={'was_impossible': False}),\n",
       " Prediction(uid='B01C79VRDU', iid='A2YIATRMYV18S9', r_ui=1.0, est=3.550975654880451, details={'was_impossible': False}),\n",
       " Prediction(uid='B004KPKSRQ', iid='AL6TNWZY8LQ1S', r_ui=5.0, est=3.983443796182643, details={'was_impossible': False}),\n",
       " Prediction(uid='B0144NYGJY', iid='A106DCPXDYBIMU', r_ui=2.0, est=3.599455309482311, details={'was_impossible': False}),\n",
       " Prediction(uid='B00UB76290', iid='ARF03SDYC0JTY', r_ui=5.0, est=3.584743981790584, details={'was_impossible': False}),\n",
       " Prediction(uid='B0153V62P2', iid='AT7S965OHJ7UR', r_ui=1.0, est=3.590715637007669, details={'was_impossible': False}),\n",
       " Prediction(uid='B01DF59LV0', iid='A2CTVVY2UKNKBL', r_ui=5.0, est=3.550975654880451, details={'was_impossible': False}),\n",
       " Prediction(uid='B010MIN9A2', iid='A1G12CMGKN83MF', r_ui=5.0, est=3.5072569302800303, details={'was_impossible': False}),\n",
       " Prediction(uid='B01HAP47PQ', iid='AKDNAE357JCN0', r_ui=2.0, est=3.550975654880451, details={'was_impossible': False}),\n",
       " Prediction(uid='B00EZKNYWC', iid='A2HYMN8YY2IRDS', r_ui=5.0, est=4.849742678230824, details={'was_impossible': False}),\n",
       " Prediction(uid='B00ZSI7Y3U', iid='AEXI69G5F42WZ', r_ui=1.0, est=3.5631976928997187, details={'was_impossible': False}),\n",
       " Prediction(uid='B00D098RXU', iid='A3IL513DS431W5', r_ui=1.0, est=3.3929971523318887, details={'was_impossible': False}),\n",
       " Prediction(uid='B000EORV8Q', iid='A147A9US858FV8', r_ui=5.0, est=3.602517844166423, details={'was_impossible': False}),\n",
       " Prediction(uid='B00EPACO3M', iid='ANCCNP5UKL2', r_ui=5.0, est=3.547480732268229, details={'was_impossible': False}),\n",
       " Prediction(uid='B00P31G9PQ', iid='A1MYPUBDPLVCGZ', r_ui=5.0, est=3.537585282296897, details={'was_impossible': False}),\n",
       " Prediction(uid='B019B8B19U', iid='A1CVFZ70R2H0C0', r_ui=5.0, est=3.550975654880451, details={'was_impossible': False}),\n",
       " Prediction(uid='B00JHN1MPI', iid='A29ZKGLF8D9N55', r_ui=5.0, est=3.6294596598162974, details={'was_impossible': False}),\n",
       " Prediction(uid='B00FZ0FETC', iid='A1VD8RF1CRUNU', r_ui=4.0, est=3.5816386605430908, details={'was_impossible': False}),\n",
       " Prediction(uid='B00ND0E7BW', iid='A3RK6KOGBVR9H6', r_ui=4.0, est=3.55706153916265, details={'was_impossible': False}),\n",
       " Prediction(uid='B015724RQI', iid='A2P0ZXEKU5F2L8', r_ui=3.0, est=3.5846561609529943, details={'was_impossible': False}),\n",
       " Prediction(uid='B0001XWNSS', iid='A1PIJ7IVY1Q7SS', r_ui=5.0, est=3.5268294894532306, details={'was_impossible': False}),\n",
       " Prediction(uid='B0144NYGJY', iid='A3NO45XFRSXVQ0', r_ui=5.0, est=3.599455309482311, details={'was_impossible': False}),\n",
       " Prediction(uid='B008S0IE5M', iid='A1J94S3160MC6F', r_ui=5.0, est=3.023958317939569, details={'was_impossible': False}),\n",
       " Prediction(uid='B0144NYEY6', iid='A2S3EJEDRFMQXA', r_ui=4.0, est=3.5923960196846374, details={'was_impossible': False}),\n",
       " Prediction(uid='B01DEG0SGC', iid='AE57RVXOYLCY0', r_ui=5.0, est=3.550975654880451, details={'was_impossible': False}),\n",
       " Prediction(uid='B01019BM7O', iid='A1OIHKY2H4ON1A', r_ui=1.0, est=3.552757101328557, details={'was_impossible': False}),\n",
       " Prediction(uid='B00LLQ9API', iid='A2A4DPHP8DCVDY', r_ui=1.0, est=2.984983493358259, details={'was_impossible': False}),\n",
       " Prediction(uid='B00B1TEIRU', iid='A1N7Q1NR7ELYCY', r_ui=1.0, est=3.572675704175956, details={'was_impossible': False}),\n",
       " Prediction(uid='B00UB76290', iid='A1MQ7XTMWFDE25', r_ui=4.0, est=3.584743981790584, details={'was_impossible': False}),\n",
       " Prediction(uid='B01637RISK', iid='A3AVY47G2KZI6Q', r_ui=1.0, est=3.5925202996541867, details={'was_impossible': False}),\n",
       " Prediction(uid='B00001XDWR', iid='A3L4MK07V2MKBK', r_ui=5.0, est=4.871215029740741, details={'was_impossible': False}),\n",
       " Prediction(uid='B00007E6Y5', iid='ARZCY39SNY4Z4', r_ui=5.0, est=3.60958983943351, details={'was_impossible': False}),\n",
       " Prediction(uid='B0144NYGJY', iid='A3QHYZYJPEOKHQ', r_ui=5.0, est=4.836248794575574, details={'was_impossible': False}),\n",
       " Prediction(uid='B00JKKMTX2', iid='A24UCWM4EEFOPK', r_ui=5.0, est=3.508832502719702, details={'was_impossible': False}),\n",
       " Prediction(uid='B00Z7PAHVU', iid='A19RLL2Z6R0NB7', r_ui=4.0, est=3.621914833858151, details={'was_impossible': False}),\n",
       " Prediction(uid='B01326J5MC', iid='A174RFLY1ZW0T9', r_ui=4.0, est=3.488624224546139, details={'was_impossible': False}),\n",
       " Prediction(uid='B00F0JBJTC', iid='A3EIWMT0BJQA3M', r_ui=4.0, est=3.5643746872458575, details={'was_impossible': False}),\n",
       " Prediction(uid='B009PLLFAE', iid='AVBV4PZIACVSK', r_ui=5.0, est=3.6065885145121097, details={'was_impossible': False}),\n",
       " Prediction(uid='B015NXUK30', iid='A2JROLOG9LZT1Y', r_ui=5.0, est=4.4628800526616175, details={'was_impossible': False}),\n",
       " Prediction(uid='B00PES2JOS', iid='A32T5OBJY3WIRE', r_ui=5.0, est=3.5455069576650966, details={'was_impossible': False}),\n",
       " Prediction(uid='B00UB76290', iid='A6QCWVVJ8JHI7', r_ui=5.0, est=3.584743981790584, details={'was_impossible': False}),\n",
       " Prediction(uid='B017I0WZLG', iid='A20K1FELESX97G', r_ui=5.0, est=3.550975654880451, details={'was_impossible': False}),\n",
       " Prediction(uid='B00YF8SZNC', iid='A370U65G7BD6SB', r_ui=4.0, est=3.622996414258765, details={'was_impossible': False}),\n",
       " Prediction(uid='B00UB76290', iid='A36VNK7OHPNKFE', r_ui=5.0, est=3.584743981790584, details={'was_impossible': False}),\n",
       " Prediction(uid='B00UB76290', iid='A2DNOWJVXBO24H', r_ui=1.0, est=3.584743981790584, details={'was_impossible': False}),\n",
       " Prediction(uid='B00GRFIIHO', iid='A1XWMPFI76BBET', r_ui=4.0, est=3.579912776179188, details={'was_impossible': False}),\n",
       " Prediction(uid='B00UB76290', iid='A1S45U581AFOVW', r_ui=3.0, est=3.584743981790584, details={'was_impossible': False}),\n",
       " Prediction(uid='B00UB76290', iid='AKSJSTJCC68F6', r_ui=5.0, est=3.584743981790584, details={'was_impossible': False}),\n",
       " Prediction(uid='B0002JZP90', iid='A24BKCLLJRNJ1P', r_ui=5.0, est=3.5229471313916134, details={'was_impossible': False}),\n",
       " Prediction(uid='B00IT6WQDQ', iid='A3UCMPYJSSJ2C3', r_ui=2.0, est=3.5582504155028203, details={'was_impossible': False}),\n",
       " Prediction(uid='B004Y3D16O', iid='AAAJ2R73APNOA', r_ui=5.0, est=3.557150782772816, details={'was_impossible': False}),\n",
       " Prediction(uid='B015UAMV6A', iid='AVQD7KCZHU6IG', r_ui=2.0, est=3.45323383588604, details={'was_impossible': False}),\n",
       " Prediction(uid='B00MHZ6Z64', iid='AHLGP8DNZDKU5', r_ui=5.0, est=4.914410353359666, details={'was_impossible': False}),\n",
       " Prediction(uid='B00FZ0FETC', iid='A3Q5WJBXJEDP9N', r_ui=1.0, est=3.617787682852606, details={'was_impossible': False}),\n",
       " Prediction(uid='B0117NURXI', iid='A3I6D67JHK3ACX', r_ui=1.0, est=3.562313999313945, details={'was_impossible': False}),\n",
       " Prediction(uid='B00LYYN13O', iid='A2GGAQCOIDZOS4', r_ui=4.0, est=3.5693884312726243, details={'was_impossible': False}),\n",
       " Prediction(uid='B0153V62P2', iid='A27RHEA8MLVHSW', r_ui=1.0, est=3.590715637007669, details={'was_impossible': False}),\n",
       " Prediction(uid='B011XO54CK', iid='A32WT2XDGLGPS2', r_ui=5.0, est=3.639158262719862, details={'was_impossible': False}),\n",
       " Prediction(uid='B01617VO2S', iid='A1LV8GVIE6QAIU', r_ui=5.0, est=3.571805483939781, details={'was_impossible': False}),\n",
       " Prediction(uid='B00UV3VCLC', iid='A1139F5B4R97H8', r_ui=5.0, est=3.5617816343470228, details={'was_impossible': False}),\n",
       " Prediction(uid='B00HM3QP5W', iid='A2DQKU6BUY5X3W', r_ui=4.0, est=3.5748653202646126, details={'was_impossible': False}),\n",
       " Prediction(uid='B00GRFIIHO', iid='A1MWPJ7HJPGHCX', r_ui=1.0, est=3.579912776179188, details={'was_impossible': False}),\n",
       " Prediction(uid='B01637RISK', iid='A2SVHL4CZATSBU', r_ui=5.0, est=4.852727335559047, details={'was_impossible': False}),\n",
       " Prediction(uid='B010P91LYY', iid='A3UHHPN7AV5USH', r_ui=5.0, est=3.549329613502142, details={'was_impossible': False}),\n",
       " Prediction(uid='B00LX4C4W4', iid='AQJ50XUGA8JKH', r_ui=1.0, est=3.574185970690497, details={'was_impossible': False}),\n",
       " Prediction(uid='B010B6EJIQ', iid='A3LHW8VLF5L38J', r_ui=4.0, est=3.5219443110872866, details={'was_impossible': False}),\n",
       " Prediction(uid='B01617VVYY', iid='ALIFLO8XUVZ83', r_ui=1.0, est=3.60263322581189, details={'was_impossible': False}),\n",
       " Prediction(uid='B00LG20IB2', iid='A1YM8C42SW3KH3', r_ui=5.0, est=3.5824841047501366, details={'was_impossible': False}),\n",
       " Prediction(uid='B0167C5GIU', iid='ABAY7PHB55AQC', r_ui=5.0, est=3.6244122941107744, details={'was_impossible': False}),\n",
       " Prediction(uid='B00D9ILK7W', iid='A29J25O3139K1O', r_ui=3.0, est=4.484264912021887, details={'was_impossible': False}),\n",
       " Prediction(uid='B0153V66WQ', iid='A2F9TBG7MWGCBP', r_ui=5.0, est=4.963617538756512, details={'was_impossible': False}),\n",
       " Prediction(uid='B0153V62P2', iid='A17E5LJUTE6PMS', r_ui=3.0, est=3.590715637007669, details={'was_impossible': False}),\n",
       " Prediction(uid='B00EZKNY8G', iid='A3HBTLMRO6PYGU', r_ui=5.0, est=3.649749836308826, details={'was_impossible': False}),\n",
       " Prediction(uid='B0079KJB54', iid='A4IN2DFWOAVKD', r_ui=5.0, est=3.5654452665064817, details={'was_impossible': False}),\n",
       " Prediction(uid='B015724RQI', iid='ASEEKJ81SKR28', r_ui=5.0, est=4.939849641974444, details={'was_impossible': False}),\n",
       " Prediction(uid='B01637RNN0', iid='A4NQI9WUCKOYR', r_ui=1.0, est=3.558279562890549, details={'was_impossible': False}),\n",
       " Prediction(uid='B00PG8FOSY', iid='A11IQS6SQS6HE3', r_ui=5.0, est=3.550416772073588, details={'was_impossible': False}),\n",
       " Prediction(uid='B013CTP6UY', iid='A1U7IUTTEMZB09', r_ui=5.0, est=3.6096156330920834, details={'was_impossible': False}),\n",
       " Prediction(uid='B015JTT5L6', iid='AY7Z0W9EKBCBB', r_ui=5.0, est=3.249246324752778, details={'was_impossible': False}),\n",
       " Prediction(uid='B0153V62P2', iid='A2WV6MMEHZZOT6', r_ui=4.0, est=3.099020775027721, details={'was_impossible': False}),\n",
       " Prediction(uid='B0010YBZ1I', iid='AKXIYKOVLBEW4', r_ui=5.0, est=3.5891483852414665, details={'was_impossible': False}),\n",
       " Prediction(uid='B00GRFIIHO', iid='A30QZDECF8FLGE', r_ui=5.0, est=3.579912776179188, details={'was_impossible': False}),\n",
       " Prediction(uid='B00UB76290', iid='AI2K5AJP99XJG', r_ui=5.0, est=3.584743981790584, details={'was_impossible': False}),\n",
       " Prediction(uid='B0009WA0P4', iid='A7CQ0FNV7BDMW', r_ui=4.0, est=3.5727684818766807, details={'was_impossible': False}),\n",
       " Prediction(uid='B00002S723', iid='AKT0PDVAIUE5Z', r_ui=1.0, est=3.6019144558809826, details={'was_impossible': False}),\n",
       " Prediction(uid='B01H39M7ME', iid='A23ALFR73F1W24', r_ui=1.0, est=3.550975654880451, details={'was_impossible': False}),\n",
       " Prediction(uid='B00M9GTMQ6', iid='AASHZR7SXFFOV', r_ui=1.0, est=3.5353798004096424, details={'was_impossible': False}),\n",
       " Prediction(uid='B0153V62P2', iid='A3AHJVBTUQL67', r_ui=1.0, est=1.1493752728411133, details={'was_impossible': False}),\n",
       " Prediction(uid='B00HK74PI4', iid='A261FDGBDYO2J5', r_ui=5.0, est=3.5279764116850556, details={'was_impossible': False}),\n",
       " Prediction(uid='B00D45U0TO', iid='A21P9ZX0I2KS9R', r_ui=1.0, est=1.1332949853276135, details={'was_impossible': False}),\n",
       " Prediction(uid='B00IKD4D1G', iid='A3JYGWF4L34I40', r_ui=5.0, est=3.5849199339420768, details={'was_impossible': False}),\n",
       " Prediction(uid='B019U6B8CI', iid='A5ER7H030DL1F', r_ui=5.0, est=3.550975654880451, details={'was_impossible': False}),\n",
       " Prediction(uid='B01D966WAS', iid='A1F37JZR7DIBUO', r_ui=1.0, est=3.550975654880451, details={'was_impossible': False}),\n",
       " Prediction(uid='B00LG25894', iid='A1AI3ALFCYZRP5', r_ui=5.0, est=3.575322743591805, details={'was_impossible': False}),\n",
       " Prediction(uid='B01HAP3NJM', iid='A3KFDBLCW0PVUH', r_ui=1.0, est=3.550975654880451, details={'was_impossible': False}),\n",
       " Prediction(uid='B00UB76290', iid='A3JDZ8UIM04I9C', r_ui=3.0, est=3.584743981790584, details={'was_impossible': False}),\n",
       " Prediction(uid='B00UB76290', iid='A26HLV1K369BRT', r_ui=1.0, est=3.584743981790584, details={'was_impossible': False}),\n",
       " Prediction(uid='B00CTTEKJW', iid='A3U962NK74XL22', r_ui=3.0, est=3.5767129905407398, details={'was_impossible': False}),\n",
       " Prediction(uid='B00UB76290', iid='AP995MH8T21HT', r_ui=5.0, est=3.584743981790584, details={'was_impossible': False}),\n",
       " Prediction(uid='B00RKZKFUI', iid='A2ZK1BM7PZYAM', r_ui=5.0, est=3.617701663594274, details={'was_impossible': False}),\n",
       " Prediction(uid='B00BHIPOEG', iid='A277MZSNADHLFX', r_ui=5.0, est=3.5970756008413276, details={'was_impossible': False}),\n",
       " Prediction(uid='B004KPKSRQ', iid='A3H00WFGOUSMRU', r_ui=5.0, est=3.4427466351552116, details={'was_impossible': False}),\n",
       " Prediction(uid='B00UB76290', iid='A2XSFDKR7X9D0U', r_ui=5.0, est=3.584743981790584, details={'was_impossible': False}),\n",
       " Prediction(uid='B01326J6GW', iid='A3I9DUF735DLRA', r_ui=1.0, est=3.4511496268565476, details={'was_impossible': False}),\n",
       " Prediction(uid='B00CTTEKJW', iid='A1DME71ILAZN0A', r_ui=5.0, est=3.5767129905407398, details={'was_impossible': False}),\n",
       " Prediction(uid='B01ETTRZ3M', iid='ADN604XPS42UZ', r_ui=5.0, est=4.7253376069422135, details={'was_impossible': False}),\n",
       " Prediction(uid='B01723PFFW', iid='A28U8DS7ZSXPE5', r_ui=5.0, est=3.6247436889912454, details={'was_impossible': False}),\n",
       " Prediction(uid='B01617VPUY', iid='A21BUZUEH88ZTY', r_ui=5.0, est=4.955723457746623, details={'was_impossible': False}),\n",
       " Prediction(uid='B00UB76290', iid='A2F4C53L4GB7TT', r_ui=4.0, est=3.584743981790584, details={'was_impossible': False}),\n",
       " Prediction(uid='B01637RHBI', iid='A2X0NMH4EHL9S1', r_ui=5.0, est=3.5696005586344812, details={'was_impossible': False}),\n",
       " Prediction(uid='B00CTTEKJW', iid='A2SC8ZIXBB1YOF', r_ui=5.0, est=3.5767129905407398, details={'was_impossible': False}),\n",
       " Prediction(uid='B01ENPLT16', iid='A2EG0YSK42A815', r_ui=5.0, est=3.550975654880451, details={'was_impossible': False}),\n",
       " Prediction(uid='B01617VTBO', iid='A3FX5L81SAVPEF', r_ui=5.0, est=3.6269125828186386, details={'was_impossible': False}),\n",
       " Prediction(uid='B00IT6WQDQ', iid='A1XDW18YE3VGWZ', r_ui=1.0, est=3.5582504155028203, details={'was_impossible': False}),\n",
       " Prediction(uid='B00LX4BZAQ', iid='A226UMNTA393QD', r_ui=5.0, est=3.5480628940652847, details={'was_impossible': False}),\n",
       " Prediction(uid='B00CTTEKJW', iid='A3KUKP6FU7MRP0', r_ui=1.0, est=3.5767129905407398, details={'was_impossible': False}),\n",
       " Prediction(uid='0976963027', iid='A20782VEUO16TO', r_ui=1.0, est=3.4597485486178865, details={'was_impossible': False}),\n",
       " Prediction(uid='B00UB76290', iid='A39XGPBYI3WQW8', r_ui=5.0, est=3.938205290312733, details={'was_impossible': False}),\n",
       " Prediction(uid='B0042U1670', iid='A2MAE2ZD37KE23', r_ui=5.0, est=3.550975654880451, details={'was_impossible': False}),\n",
       " Prediction(uid='B01H39M7ME', iid='ARZTYKLGV2TW4', r_ui=1.0, est=3.550975654880451, details={'was_impossible': False}),\n",
       " Prediction(uid='B013LIFYRQ', iid='AXSTY40VP4M45', r_ui=5.0, est=1.0380011604118893, details={'was_impossible': False}),\n",
       " Prediction(uid='B00UB76290', iid='A3627Y4C7HIWN6', r_ui=5.0, est=3.584743981790584, details={'was_impossible': False}),\n",
       " Prediction(uid='B00P31G9PQ', iid='A1WMGSJRNDLJFM', r_ui=3.0, est=3.537585282296897, details={'was_impossible': False}),\n",
       " Prediction(uid='B010P91MAC', iid='A3RVH6IW3HVPGM', r_ui=5.0, est=3.576288995159655, details={'was_impossible': False}),\n",
       " Prediction(uid='B019QMRD3O', iid='A12WOVKS1X3FUL', r_ui=3.0, est=2.0268091313585908, details={'was_impossible': False}),\n",
       " Prediction(uid='B00LX4BYV6', iid='A1UDXD94RHYT8F', r_ui=5.0, est=3.5476917982238874, details={'was_impossible': False}),\n",
       " Prediction(uid='B0079KJB54', iid='A2YG074RF0MU9E', r_ui=5.0, est=3.5654452665064817, details={'was_impossible': False}),\n",
       " Prediction(uid='B00UBKB40Y', iid='A3RS7PAN125FTL', r_ui=5.0, est=3.6089140632194328, details={'was_impossible': False}),\n",
       " Prediction(uid='3959828241', iid='A3Q0R3C6IPBPXF', r_ui=4.0, est=3.550975654880451, details={'was_impossible': False}),\n",
       " Prediction(uid='B000RY9CBW', iid='AOF9PF3F7CFUN', r_ui=5.0, est=3.6223399654307094, details={'was_impossible': False}),\n",
       " Prediction(uid='B00001QGW2', iid='A1MQY1IHHSKZSC', r_ui=1.0, est=3.612505693923257, details={'was_impossible': False}),\n",
       " Prediction(uid='B017O2UDOO', iid='A2W12WCW6KB2A0', r_ui=5.0, est=4.767032813825785, details={'was_impossible': False}),\n",
       " Prediction(uid='B00GRFIIHO', iid='AV7RV42P1A7XT', r_ui=1.0, est=3.579912776179188, details={'was_impossible': False}),\n",
       " Prediction(uid='B01DMD03OY', iid='A3D3ASEXBFN5DL', r_ui=5.0, est=4.740528158274714, details={'was_impossible': False}),\n",
       " Prediction(uid='B015724B8M', iid='A1GNNW55J3NJ7', r_ui=1.0, est=3.611247968735367, details={'was_impossible': False}),\n",
       " Prediction(uid='B000RY9CBW', iid='A2CD50H4DXHHHN', r_ui=5.0, est=3.6223399654307094, details={'was_impossible': False}),\n",
       " Prediction(uid='B00CM1DUA2', iid='AMCLWWMHOPNF7', r_ui=4.0, est=3.6082422180023292, details={'was_impossible': False}),\n",
       " Prediction(uid='B0144NY8OW', iid='ADP0EIYFWEFL2', r_ui=5.0, est=3.605778095637328, details={'was_impossible': False}),\n",
       " Prediction(uid='B00GRFIIHO', iid='ATYVLFQUOSEI2', r_ui=5.0, est=3.579912776179188, details={'was_impossible': False}),\n",
       " Prediction(uid='B017O2UDOO', iid='A3T20GPYYKP2HU', r_ui=5.0, est=3.633686896206171, details={'was_impossible': False}),\n",
       " Prediction(uid='B00B1TEIRU', iid='A27FJ4VIUXMGF3', r_ui=1.0, est=3.572675704175956, details={'was_impossible': False}),\n",
       " Prediction(uid='B00CTTEKJW', iid='ABOL6AXBUJJ0M', r_ui=5.0, est=3.5767129905407398, details={'was_impossible': False}),\n",
       " Prediction(uid='B01326J80Q', iid='A15SIVWZIPSO', r_ui=4.0, est=3.632807868427313, details={'was_impossible': False}),\n",
       " Prediction(uid='B00GRFIIHO', iid='A2P2A79WC1O3Y', r_ui=5.0, est=3.579912776179188, details={'was_impossible': False}),\n",
       " Prediction(uid='B017M8HOEM', iid='A2NMQ9EA0KVCLF', r_ui=5.0, est=3.550975654880451, details={'was_impossible': False}),\n",
       " Prediction(uid='B004KPKSRQ', iid='A3PCVIJ8U1AHHW', r_ui=5.0, est=3.6083756955675326, details={'was_impossible': False}),\n",
       " Prediction(uid='B004Q0T0LU', iid='A2ERRVS8EPNLLE', r_ui=5.0, est=4.942552646454923, details={'was_impossible': False}),\n",
       " Prediction(uid='B00IXR32FC', iid='AU69C4X252C2B', r_ui=5.0, est=2.0790735108696583, details={'was_impossible': False}),\n",
       " Prediction(uid='B0000EI99L', iid='A3CJG5TMU1QLV9', r_ui=5.0, est=3.5543076218601515, details={'was_impossible': False}),\n",
       " Prediction(uid='B01617VQJ4', iid='AZVTRUAJU9LHG', r_ui=4.0, est=4.802112409224669, details={'was_impossible': False}),\n",
       " Prediction(uid='B00LX4BYV6', iid='A13LMFZUGRDCWQ', r_ui=5.0, est=3.5476917982238874, details={'was_impossible': False}),\n",
       " Prediction(uid='B0148BYIPY', iid='A2LT2JS3JWSMPU', r_ui=5.0, est=3.5086207030073333, details={'was_impossible': False}),\n",
       " Prediction(uid='B013EXF9T6', iid='AUIR7K2O2XTFO', r_ui=1.0, est=3.5278414403679674, details={'was_impossible': False}),\n",
       " Prediction(uid='B01DEEGRY6', iid='A1BVF70FIKIYVE', r_ui=4.0, est=3.550975654880451, details={'was_impossible': False}),\n",
       " Prediction(uid='B015724OVG', iid='A1V9XAV5S910OQ', r_ui=5.0, est=3.6145171732576977, details={'was_impossible': False}),\n",
       " Prediction(uid='B00K0TJQ2E', iid='A2UF5HMZPTHOOC', r_ui=5.0, est=3.5308133203581935, details={'was_impossible': False}),\n",
       " Prediction(uid='B011XO53WQ', iid='A1RG2TNZ3E1XC6', r_ui=3.0, est=3.606570057727304, details={'was_impossible': False}),\n",
       " Prediction(uid='B01617VNBK', iid='A2JS2PPR6FW42E', r_ui=5.0, est=3.48845436381215, details={'was_impossible': False}),\n",
       " Prediction(uid='B00L13X6QA', iid='A192EBQ17JO21O', r_ui=5.0, est=3.987008795614827, details={'was_impossible': False}),\n",
       " Prediction(uid='B0012VI1ES', iid='A2846P37YASSXH', r_ui=4.0, est=3.5491661154011944, details={'was_impossible': False}),\n",
       " Prediction(uid='B00CTTEKJW', iid='AYDI2QTBAVCWO', r_ui=1.0, est=3.5767129905407398, details={'was_impossible': False}),\n",
       " Prediction(uid='B0144NYEY6', iid='A18FHNO9Q5YAU8', r_ui=5.0, est=3.5923960196846374, details={'was_impossible': False}),\n",
       " Prediction(uid='B01326JFB8', iid='A1OC65ZR6VAWC8', r_ui=5.0, est=3.5457391537711014, details={'was_impossible': False}),\n",
       " Prediction(uid='B00UB76290', iid='A1TIPHD4VYG0JX', r_ui=3.0, est=3.584743981790584, details={'was_impossible': False}),\n",
       " Prediction(uid='B00CTTEKJW', iid='AUBVFYMK02AEG', r_ui=5.0, est=3.5767129905407398, details={'was_impossible': False}),\n",
       " Prediction(uid='B015SWVD3M', iid='A1JK6S1VTGR0QX', r_ui=1.0, est=3.573650002776554, details={'was_impossible': False}),\n",
       " Prediction(uid='B01617VTBO', iid='A1QSLNMNLE1VKB', r_ui=4.0, est=3.6269125828186386, details={'was_impossible': False}),\n",
       " Prediction(uid='B00RPPEAJU', iid='A31AMPWG4F1HUR', r_ui=1.0, est=3.5697646942644905, details={'was_impossible': False}),\n",
       " Prediction(uid='B00WAS1522', iid='A1RBR81YSFGWQT', r_ui=5.0, est=3.6191403071371453, details={'was_impossible': False}),\n",
       " Prediction(uid='B01326JFB8', iid='A3KPV2KDOP6Y01', r_ui=5.0, est=3.5457391537711014, details={'was_impossible': False}),\n",
       " Prediction(uid='B00YR1QSJK', iid='AMN9W88HW2WLB', r_ui=3.0, est=3.6220157777029933, details={'was_impossible': False}),\n",
       " Prediction(uid='B01617VPUY', iid='A3JVXY2N52AJ0K', r_ui=5.0, est=3.5793309762651453, details={'was_impossible': False}),\n",
       " Prediction(uid='B01637RFR4', iid='AY75RFABHW7L9', r_ui=1.0, est=3.5841964138422404, details={'was_impossible': False}),\n",
       " Prediction(uid='B001GL8UP4', iid='A158QU71I29QT2', r_ui=5.0, est=5, details={'was_impossible': False}),\n",
       " Prediction(uid='B00L2SFMXO', iid='A396R6TFWFT8IQ', r_ui=2.0, est=3.550975654880451, details={'was_impossible': False}),\n",
       " Prediction(uid='B01326J5MC', iid='AY72K7I9VJMUX', r_ui=1.0, est=3.488624224546139, details={'was_impossible': False}),\n",
       " Prediction(uid='3959828160', iid='A35QZ17O5J12C7', r_ui=5.0, est=3.550975654880451, details={'was_impossible': False}),\n",
       " Prediction(uid='B0144NYEY6', iid='AEF750OK48KCB', r_ui=5.0, est=3.5923960196846374, details={'was_impossible': False}),\n",
       " Prediction(uid='B015NXUK30', iid='A38ECVRVFAIPAK', r_ui=1.0, est=3.4527221319373336, details={'was_impossible': False}),\n",
       " Prediction(uid='B0157FRIAM', iid='A3DFZAJEA802WQ', r_ui=1.0, est=3.502515292106548, details={'was_impossible': False}),\n",
       " Prediction(uid='B002IKIHEG', iid='A2SF3PKNOPCPU1', r_ui=4.0, est=3.5875111900117065, details={'was_impossible': False}),\n",
       " Prediction(uid='B00LX4BZAQ', iid='A3OCT1SRACNB0E', r_ui=5.0, est=3.5480628940652847, details={'was_impossible': False}),\n",
       " Prediction(uid='B015IHWAZW', iid='A2UYCJ4DMBV00R', r_ui=5.0, est=3.594370989694656, details={'was_impossible': False}),\n",
       " Prediction(uid='B0039Y59F0', iid='APO3KIYNIVQW7', r_ui=5.0, est=3.6302421195243446, details={'was_impossible': False}),\n",
       " Prediction(uid='B006GOFW3E', iid='A235XHJ10130XJ', r_ui=1.0, est=3.540695449523813, details={'was_impossible': False}),\n",
       " Prediction(uid='B001AMHWP8', iid='AZ1PRKKMPVSUW', r_ui=5.0, est=3.6133273818008345, details={'was_impossible': False}),\n",
       " Prediction(uid='B00UB76290', iid='A1GR1Q9JII8UE2', r_ui=5.0, est=3.584743981790584, details={'was_impossible': False}),\n",
       " Prediction(uid='B00GRFIIHO', iid='A1528463GJFZXJ', r_ui=5.0, est=3.579912776179188, details={'was_impossible': False}),\n",
       " Prediction(uid='B00EZKNYXG', iid='A7LPKNEKE5XYG', r_ui=5.0, est=3.642469676468651, details={'was_impossible': False}),\n",
       " Prediction(uid='B00EZKNYXG', iid='A1IF4SASG1TYRV', r_ui=5.0, est=1.2325944993158977, details={'was_impossible': False}),\n",
       " Prediction(uid='B00CTTEKJW', iid='A3TZC4YQ4JBZGR', r_ui=5.0, est=3.5767129905407398, details={'was_impossible': False}),\n",
       " Prediction(uid='B00CTTEKJW', iid='A2UD89ER5WXVY', r_ui=5.0, est=3.5767129905407398, details={'was_impossible': False}),\n",
       " Prediction(uid='B00N3EZQFE', iid='A11LDFRKRW0J9E', r_ui=5.0, est=3.5965834250543236, details={'was_impossible': False}),\n",
       " Prediction(uid='B01F4PYHX6', iid='A3CA3RWZYJDWXE', r_ui=4.0, est=3.5406888755353605, details={'was_impossible': False}),\n",
       " Prediction(uid='B00CTTEKJW', iid='A1RX00ZB42L0BB', r_ui=4.0, est=3.5767129905407398, details={'was_impossible': False}),\n",
       " Prediction(uid='B01326J62G', iid='A1PROSFQBIM26A', r_ui=1.0, est=1.1816696577668118, details={'was_impossible': False}),\n",
       " Prediction(uid='B00M77U58Q', iid='A1DCY9N2JJNLZV', r_ui=3.0, est=2.9763190969545477, details={'was_impossible': False}),\n",
       " Prediction(uid='B00014TCTA', iid='A1MVVTFTFRFA46', r_ui=5.0, est=3.6123716448918475, details={'was_impossible': False}),\n",
       " Prediction(uid='B01637RGG4', iid='A13EYFZVBMH524', r_ui=1.0, est=3.5941187226762024, details={'was_impossible': False}),\n",
       " Prediction(uid='B01326J5MC', iid='A3DNXMTG85A5O5', r_ui=3.0, est=3.488624224546139, details={'was_impossible': False}),\n",
       " Prediction(uid='B0000AZJVC', iid='A1KHMZMA5JCUAN', r_ui=5.0, est=3.599613834871527, details={'was_impossible': False}),\n",
       " Prediction(uid='B0013O54P8', iid='A3JSGH8AGBXCLT', r_ui=2.0, est=3.5873820284160893, details={'was_impossible': False}),\n",
       " Prediction(uid='B005F387NY', iid='A32BNIP0QSI4FY', r_ui=1.0, est=3.574381978663702, details={'was_impossible': False}),\n",
       " Prediction(uid='B019DV8IFA', iid='A1A1HDGQBN4FZ2', r_ui=5.0, est=3.624022514947898, details={'was_impossible': False}),\n",
       " Prediction(uid='B0144NYEY6', iid='AXIO6DQ78WM75', r_ui=5.0, est=3.5923960196846374, details={'was_impossible': False}),\n",
       " Prediction(uid='B00EZKNYWC', iid='A2WDJGW1SR0H1H', r_ui=1.0, est=3.6934425874394594, details={'was_impossible': False}),\n",
       " Prediction(uid='B00L9VERQ2', iid='A1H60QZAMDFIPG', r_ui=1.0, est=3.559088782872181, details={'was_impossible': False}),\n",
       " Prediction(uid='B015IHWAZW', iid='AD8PRBH5I50WE', r_ui=4.0, est=3.594370989694656, details={'was_impossible': False}),\n",
       " Prediction(uid='B015PIIGQ6', iid='A680RUE1FDO8B', r_ui=4.0, est=3.7451597486551336, details={'was_impossible': False}),\n",
       " Prediction(uid='B00RPF9XL0', iid='A1RV15HJSQS9AD', r_ui=3.0, est=3.599373712016278, details={'was_impossible': False}),\n",
       " Prediction(uid='B00VWCKJVA', iid='A1M5A05UTZNIK5', r_ui=5.0, est=3.5928113499731142, details={'was_impossible': False}),\n",
       " Prediction(uid='B002O117F0', iid='A2ZYFZ16FP5L8', r_ui=5.0, est=3.6009187655073047, details={'was_impossible': False}),\n",
       " Prediction(uid='B00002SA1E', iid='A1JZH9HIZEABQD', r_ui=1.0, est=3.5495554216781082, details={'was_impossible': False}),\n",
       " Prediction(uid='B01DF59LV0', iid='A1S6LGI6CJOXFC', r_ui=4.0, est=3.550975654880451, details={'was_impossible': False}),\n",
       " Prediction(uid='B00UB76290', iid='AQD3N01YDMP7W', r_ui=5.0, est=3.584743981790584, details={'was_impossible': False}),\n",
       " Prediction(uid='B00UB76290', iid='A1718VIXI0VME3', r_ui=1.0, est=1.1648510768861884, details={'was_impossible': False}),\n",
       " Prediction(uid='B001AMHWP8', iid='AQTH25CSVGSJN', r_ui=1.0, est=3.6133273818008345, details={'was_impossible': False}),\n",
       " Prediction(uid='B0148BYIPY', iid='A6Y5VOMXKS7K1', r_ui=5.0, est=3.5086207030073333, details={'was_impossible': False}),\n",
       " Prediction(uid='B015724OVG', iid='A34O1OLXIAX16L', r_ui=2.0, est=2.9339229620175304, details={'was_impossible': False}),\n",
       " Prediction(uid='B00M77U7CU', iid='AICZAXFHD934K', r_ui=1.0, est=3.5522231460037776, details={'was_impossible': False}),\n",
       " Prediction(uid='B00ND0E7BW', iid='A260CD2VNUMWDC', r_ui=5.0, est=3.55706153916265, details={'was_impossible': False}),\n",
       " Prediction(uid='B015724OVG', iid='A2APMA3JBYG9WC', r_ui=5.0, est=3.9886219023694807, details={'was_impossible': False}),\n",
       " Prediction(uid='B00CTTEKJW', iid='A23NHPJ21SKHYL', r_ui=5.0, est=3.5767129905407398, details={'was_impossible': False}),\n",
       " Prediction(uid='B01019T6O0', iid='A2J6P553A7PFXY', r_ui=1.0, est=3.5728872598276338, details={'was_impossible': False}),\n",
       " Prediction(uid='B01B3SGQZA', iid='AZS3J77PEENC9', r_ui=5.0, est=3.550975654880451, details={'was_impossible': False}),\n",
       " Prediction(uid='B0000CEM5O', iid='A1J1C04FMKGSZP', r_ui=5.0, est=3.5952784071715405, details={'was_impossible': False}),\n",
       " Prediction(uid='B00UB76290', iid='A7GCX75A6JGXS', r_ui=5.0, est=3.584743981790584, details={'was_impossible': False}),\n",
       " Prediction(uid='B00LYYN13O', iid='A1OANXYFM1QFBN', r_ui=4.0, est=4.907161650240134, details={'was_impossible': False}),\n",
       " Prediction(uid='B00UB76290', iid='A13CNW90LGR9UF', r_ui=3.0, est=3.584743981790584, details={'was_impossible': False}),\n",
       " Prediction(uid='B01637RFR4', iid='A1O6WY5H6SJ60N', r_ui=4.0, est=3.5841964138422404, details={'was_impossible': False}),\n",
       " Prediction(uid='B001BRPHXG', iid='A35ARP6AHCF5D8', r_ui=5.0, est=4.235909206467133, details={'was_impossible': False}),\n",
       " Prediction(uid='B017TNBBEY', iid='ASX6A5FG76L', r_ui=5.0, est=3.6238717756968484, details={'was_impossible': False}),\n",
       " Prediction(uid='B00GRFIIHO', iid='AONHBDU0XH3MN', r_ui=1.0, est=3.579912776179188, details={'was_impossible': False}),\n",
       " Prediction(uid='B00L13X6QA', iid='A36WW3HC6QYH9R', r_ui=1.0, est=3.5547922038230624, details={'was_impossible': False}),\n",
       " Prediction(uid='B01326JD7O', iid='A4L4ZIQZDSA6H', r_ui=1.0, est=3.5739902041888185, details={'was_impossible': False}),\n",
       " Prediction(uid='B00UB76290', iid='A3IF4X4OZD4LO3', r_ui=5.0, est=3.584743981790584, details={'was_impossible': False}),\n",
       " Prediction(uid='B00FZ0E0HE', iid='A2JO2DGYEX6ULQ', r_ui=4.0, est=3.635408392668862, details={'was_impossible': False}),\n",
       " Prediction(uid='B0123C60EW', iid='A1CLRMKWODHFOP', r_ui=1.0, est=3.612285447292427, details={'was_impossible': False}),\n",
       " Prediction(uid='B00B1TEIRU', iid='A7K7PS1JGLXNJ', r_ui=1.0, est=3.572675704175956, details={'was_impossible': False}),\n",
       " Prediction(uid='B00UB76290', iid='A2V5RY3RMJRDQA', r_ui=5.0, est=3.584743981790584, details={'was_impossible': False}),\n",
       " Prediction(uid='B00TQ7CPL0', iid='A2Q54RHQWAUSWT', r_ui=5.0, est=3.6470916805391247, details={'was_impossible': False}),\n",
       " Prediction(uid='B00UB76290', iid='A21577JRDCS1DP', r_ui=5.0, est=3.584743981790584, details={'was_impossible': False}),\n",
       " Prediction(uid='B00L13X6QA', iid='A15F4ZVDZBRBYC', r_ui=1.0, est=3.5547922038230624, details={'was_impossible': False}),\n",
       " Prediction(uid='B00JCYEE2K', iid='A1R1XC5DMJTA41', r_ui=5.0, est=3.5946112784374873, details={'was_impossible': False}),\n",
       " Prediction(uid='B00HM3QP5W', iid='A39Z9GATRVCQS4', r_ui=5.0, est=3.5748653202646126, details={'was_impossible': False}),\n",
       " Prediction(uid='B01637RHBI', iid='AVRHWNO80V2BQ', r_ui=4.0, est=3.5696005586344812, details={'was_impossible': False}),\n",
       " Prediction(uid='B00UB76290', iid='A3NEL95N3W6LQ5', r_ui=4.0, est=1.1892933071435188, details={'was_impossible': False}),\n",
       " Prediction(uid='B010P91LYY', iid='A2Q3LJPH2R5X6V', r_ui=5.0, est=3.549329613502142, details={'was_impossible': False}),\n",
       " Prediction(uid='B01637RFR4', iid='A2CMQIU3F1DODD', r_ui=5.0, est=3.9719901145416965, details={'was_impossible': False}),\n",
       " Prediction(uid='B00GRFIIHO', iid='A1EKR1WABD8VGE', r_ui=5.0, est=3.579912776179188, details={'was_impossible': False}),\n",
       " Prediction(uid='B0043EV5E4', iid='A3DXYKQQSRYOP1', r_ui=5.0, est=3.5368232867891134, details={'was_impossible': False}),\n",
       " Prediction(uid='B015NXUK30', iid='A1QTO2UWNA6B8M', r_ui=5.0, est=3.4527221319373336, details={'was_impossible': False}),\n",
       " Prediction(uid='B00UBKB40Y', iid='A22986E7BZE10G', r_ui=5.0, est=3.6089140632194328, details={'was_impossible': False}),\n",
       " Prediction(uid='B015724V9Q', iid='AKQC6WONE2KFY', r_ui=1.0, est=3.5564917752249916, details={'was_impossible': False}),\n",
       " Prediction(uid='B01617VVCQ', iid='A1TDREQT4KT2WA', r_ui=5.0, est=3.592352741448264, details={'was_impossible': False}),\n",
       " Prediction(uid='B0153V644G', iid='A2NUP1C8DRTP3D', r_ui=1.0, est=3.567161625561529, details={'was_impossible': False}),\n",
       " Prediction(uid='B00029LN6O', iid='A24XZDIGXHXVV3', r_ui=1.0, est=3.554511115916754, details={'was_impossible': False}),\n",
       " Prediction(uid='B015724RQI', iid='A29EMVF5XVEK14', r_ui=5.0, est=3.5846561609529943, details={'was_impossible': False}),\n",
       " Prediction(uid='B00DMCIAJ6', iid='A3JR48P9M7C6AZ', r_ui=2.0, est=3.5429528599496627, details={'was_impossible': False}),\n",
       " Prediction(uid='B00TRAR53E', iid='A2GV7DMD01AX5X', r_ui=5.0, est=3.5437394456455227, details={'was_impossible': False}),\n",
       " Prediction(uid='B01EB06QUM', iid='A12NWBMDZSR5BK', r_ui=5.0, est=3.550975654880451, details={'was_impossible': False}),\n",
       " Prediction(uid='B004V2H3DA', iid='A3NEXMBGMW4U56', r_ui=5.0, est=3.5403231179827213, details={'was_impossible': False}),\n",
       " Prediction(uid='B00LX4BZLU', iid='A18S811AV3MSE0', r_ui=5.0, est=3.587732639143072, details={'was_impossible': False}),\n",
       " Prediction(uid='B01617VPUY', iid='A1U6I0PCMC35NZ', r_ui=5.0, est=3.5793309762651453, details={'was_impossible': False}),\n",
       " Prediction(uid='B015UAMV6A', iid='A3QU7MTVMYP05T', r_ui=3.0, est=3.45323383588604, details={'was_impossible': False}),\n",
       " Prediction(uid='B00266PHEK', iid='A1BK9O4I0T6YF1', r_ui=4.0, est=3.549951167638541, details={'was_impossible': False}),\n",
       " Prediction(uid='B00UB76290', iid='A2SWDTW839GP34', r_ui=4.0, est=3.584743981790584, details={'was_impossible': False}),\n",
       " Prediction(uid='B0098QMIE8', iid='ADVP8RL48VQOQ', r_ui=5.0, est=3.532033946522548, details={'was_impossible': False}),\n",
       " Prediction(uid='B005WX2YH2', iid='A1COTTZ6X4HSX6', r_ui=1.0, est=3.533062548107827, details={'was_impossible': False}),\n",
       " Prediction(uid='B0144NYGJY', iid='A10Q2ZCYPEVHCU', r_ui=5.0, est=4.679560611317969, details={'was_impossible': False}),\n",
       " Prediction(uid='B010P91LYY', iid='AAVGTMNC95K8M', r_ui=4.0, est=3.549329613502142, details={'was_impossible': False}),\n",
       " Prediction(uid='B01326J62G', iid='A1P3YN5AI5GBHY', r_ui=1.0, est=3.633215292814639, details={'was_impossible': False}),\n",
       " Prediction(uid='B00UB76290', iid='A3OG9S221E83RU', r_ui=4.0, est=3.584743981790584, details={'was_impossible': False}),\n",
       " Prediction(uid='B00OZJI65S', iid='A1HN5YOK8NGAEB', r_ui=1.0, est=3.550975654880451, details={'was_impossible': False}),\n",
       " Prediction(uid='B00GRFIIHO', iid='ANO6KPVIVPKCL', r_ui=5.0, est=3.579912776179188, details={'was_impossible': False}),\n",
       " Prediction(uid='B00UB76290', iid='A1UBHCH7BHJ4KX', r_ui=5.0, est=3.584743981790584, details={'was_impossible': False}),\n",
       " Prediction(uid='B01DMD03OY', iid='A2CTVIOU4UZCAK', r_ui=5.0, est=3.550975654880451, details={'was_impossible': False}),\n",
       " Prediction(uid='B00AA25QUM', iid='A345RG0852LME1', r_ui=4.0, est=3.6233402762665436, details={'was_impossible': False}),\n",
       " Prediction(uid='B01H39M7ME', iid='A394XJD5XSFTTN', r_ui=2.0, est=3.550975654880451, details={'was_impossible': False}),\n",
       " Prediction(uid='B00LC9USLO', iid='A10DSKHBJ3U52B', r_ui=4.0, est=3.5871235560859307, details={'was_impossible': False}),\n",
       " Prediction(uid='B01COALENA', iid='A3HPQBM9CFJVT8', r_ui=4.0, est=3.550975654880451, details={'was_impossible': False}),\n",
       " Prediction(uid='B00UB76290', iid='A1LE54P7E8U0NW', r_ui=5.0, est=3.584743981790584, details={'was_impossible': False}),\n",
       " Prediction(uid='B000HCZ8EO', iid='A37FUGVYLPOH3T', r_ui=1.0, est=3.60841441545822, details={'was_impossible': False}),\n",
       " Prediction(uid='B01723PCUA', iid='A1T50FFLGOAKNB', r_ui=5.0, est=3.6863827290946354, details={'was_impossible': False}),\n",
       " Prediction(uid='B01637RJFM', iid='A2LABIN90O974N', r_ui=3.0, est=4.880626238284159, details={'was_impossible': False}),\n",
       " Prediction(uid='B013EXEVP4', iid='A1FXX8HIC1Z4YO', r_ui=5.0, est=3.6023365543865724, details={'was_impossible': False}),\n",
       " Prediction(uid='B01617VQJ4', iid='A1GGP2ITK3JZIQ', r_ui=5.0, est=4.876835561183058, details={'was_impossible': False}),\n",
       " Prediction(uid='B0144BWWTW', iid='A1XKGVAYKSRSC2', r_ui=5.0, est=3.5986603349785056, details={'was_impossible': False}),\n",
       " Prediction(uid='B010S3VVJW', iid='A22QS8ZNBAK4LD', r_ui=1.0, est=3.550975654880451, details={'was_impossible': False}),\n",
       " Prediction(uid='B00FZ0E0HE', iid='A27WSUX0DD8JIK', r_ui=5.0, est=3.635408392668862, details={'was_impossible': False}),\n",
       " Prediction(uid='B01019T6O0', iid='AXJ52BB1HD2A4', r_ui=1.0, est=3.5728872598276338, details={'was_impossible': False}),\n",
       " Prediction(uid='B01019T6O0', iid='A2BGCQ28POWLNS', r_ui=5.0, est=3.5728872598276338, details={'was_impossible': False}),\n",
       " Prediction(uid='B01637RHBI', iid='A1E0B7GM0IXWQJ', r_ui=5.0, est=1.1194728885766807, details={'was_impossible': False}),\n",
       " Prediction(uid='B015724RQI', iid='A3KOVIIUBIC5G6', r_ui=1.0, est=3.5846561609529943, details={'was_impossible': False}),\n",
       " Prediction(uid='B007FDBELY', iid='A3DNKBEC5B9O4L', r_ui=5.0, est=3.589006604813007, details={'was_impossible': False}),\n",
       " Prediction(uid='B00JCWW5JG', iid='A8AKD8VQVIH2G', r_ui=5.0, est=3.575249649710077, details={'was_impossible': False}),\n",
       " Prediction(uid='B00VQCULBY', iid='A15XEUOC1B9B3S', r_ui=5.0, est=3.5768137901061543, details={'was_impossible': False}),\n",
       " Prediction(uid='B01637RFR4', iid='A3AKR1XUBGVOCI', r_ui=5.0, est=3.5841964138422404, details={'was_impossible': False}),\n",
       " Prediction(uid='B00532UT7Y', iid='AOX17NC2KLKKM', r_ui=5.0, est=3.571623473906638, details={'was_impossible': False}),\n",
       " Prediction(uid='B000059OZN', iid='A17YBR40QTBKDD', r_ui=4.0, est=3.5616509639680687, details={'was_impossible': False}),\n",
       " Prediction(uid='B015724OVG', iid='AT4M25O8I6O8R', r_ui=3.0, est=2.45285127331631, details={'was_impossible': False}),\n",
       " Prediction(uid='B01019BM7O', iid='A3TH1SVMKX863H', r_ui=5.0, est=3.552757101328557, details={'was_impossible': False}),\n",
       " Prediction(uid='B006T4SQG6', iid='A1158UD5QUAXWX', r_ui=1.0, est=3.578411251181101, details={'was_impossible': False}),\n",
       " Prediction(uid='B00HV9IM58', iid='A3CIZ4V7U1QCNQ', r_ui=1.0, est=3.5618389070536534, details={'was_impossible': False}),\n",
       " Prediction(uid='B01GF2LA6O', iid='AWRGOOVUGUCUQ', r_ui=1.0, est=3.550975654880451, details={'was_impossible': False}),\n",
       " Prediction(uid='B0144NYGJY', iid='AXX38AHMSGJOE', r_ui=5.0, est=3.599455309482311, details={'was_impossible': False}),\n",
       " Prediction(uid='B00LX4BYV6', iid='A22DU1PZLENROR', r_ui=1.0, est=3.5476917982238874, details={'was_impossible': False}),\n",
       " Prediction(uid='B00UB76290', iid='ALVM9BSXNMWJM', r_ui=5.0, est=3.584743981790584, details={'was_impossible': False}),\n",
       " Prediction(uid='B010P91LYY', iid='A2Q7DDB8S64BM5', r_ui=5.0, est=4.671766752458571, details={'was_impossible': False}),\n",
       " Prediction(uid='B0117PIUHG', iid='A3I1YA982S8H5J', r_ui=1.0, est=3.5804905796819284, details={'was_impossible': False}),\n",
       " Prediction(uid='B0144NYEY6', iid='A2P18PC6EU3UST', r_ui=4.0, est=3.5923960196846374, details={'was_impossible': False}),\n",
       " Prediction(uid='B00IWNK304', iid='AXHK2RX28TSM5', r_ui=5.0, est=3.550975654880451, details={'was_impossible': False}),\n",
       " Prediction(uid='B00029QWTM', iid='A34C49CSAUP99A', r_ui=3.0, est=3.586504932263454, details={'was_impossible': False}),\n",
       " Prediction(uid='B00MO4ZZVO', iid='A1PUF9KUV3DW2T', r_ui=5.0, est=3.3622087072238935, details={'was_impossible': False}),\n",
       " Prediction(uid='B00UB76290', iid='A3QPPZJL7DYO2X', r_ui=4.0, est=3.584743981790584, details={'was_impossible': False}),\n",
       " Prediction(uid='B01326J80Q', iid='A1XGNT7GLROJ8J', r_ui=3.0, est=3.632807868427313, details={'was_impossible': False}),\n",
       " Prediction(uid='B00O9CSR28', iid='A1G45EOE7TNHA9', r_ui=1.0, est=3.5772214460803196, details={'was_impossible': False}),\n",
       " Prediction(uid='B018F4PX9K', iid='A1FON3PCHJELOL', r_ui=5.0, est=3.5606378261783553, details={'was_impossible': False}),\n",
       " Prediction(uid='B01637RISK', iid='AX3K5J5FUIQBC', r_ui=2.0, est=3.5925202996541867, details={'was_impossible': False}),\n",
       " Prediction(uid='B00GRFIIHO', iid='A2GH0ZT2XLKJUS', r_ui=5.0, est=4.030380673270286, details={'was_impossible': False}),\n",
       " Prediction(uid='B005N2CS8M', iid='A3C2Y4PJBZ45UI', r_ui=4.0, est=3.5595660024663482, details={'was_impossible': False}),\n",
       " Prediction(uid='B01BRN71IW', iid='A2O3PQO1GJQGRM', r_ui=5.0, est=3.550975654880451, details={'was_impossible': False}),\n",
       " Prediction(uid='B00FFIO0NA', iid='A8K8DTUQASFSR', r_ui=1.0, est=3.56298997420471, details={'was_impossible': False}),\n",
       " Prediction(uid='B00UB76290', iid='A2XYL0NQYQZJY4', r_ui=5.0, est=3.584743981790584, details={'was_impossible': False}),\n",
       " Prediction(uid='B00OSCLQ1S', iid='A2PCQJ8JG6L88U', r_ui=5.0, est=3.3610053919953464, details={'was_impossible': False}),\n",
       " Prediction(uid='B015724RQI', iid='A1NG6U0TSM2CKX', r_ui=1.0, est=3.5846561609529943, details={'was_impossible': False}),\n",
       " Prediction(uid='B00CTTEKJW', iid='A10QPCDSY73RAT', r_ui=1.0, est=3.5767129905407398, details={'was_impossible': False}),\n",
       " Prediction(uid='B01CS8RSIS', iid='A2ABZ54Y32WUXE', r_ui=5.0, est=3.550975654880451, details={'was_impossible': False}),\n",
       " Prediction(uid='B01637RFR4', iid='A2N5VSJKMVUJLW', r_ui=5.0, est=4.859779385592347, details={'was_impossible': False}),\n",
       " Prediction(uid='B000WJ67UQ', iid='ABJT9ZTFSLQ67', r_ui=2.0, est=3.5597646027004957, details={'was_impossible': False}),\n",
       " Prediction(uid='B00H9A60O4', iid='A21XJNWMKOS6XM', r_ui=5.0, est=3.4635226168858546, details={'was_impossible': False}),\n",
       " Prediction(uid='B01637REAM', iid='AOEYKKUKHEVT9', r_ui=3.0, est=3.58329882033062, details={'was_impossible': False}),\n",
       " Prediction(uid='B01617VPUY', iid='A36RRP05GTPD0C', r_ui=5.0, est=3.9016848387449024, details={'was_impossible': False}),\n",
       " Prediction(uid='B018GTLBOA', iid='AX1W071WF8ELU', r_ui=5.0, est=3.550975654880451, details={'was_impossible': False}),\n",
       " Prediction(uid='B00PG8FSYE', iid='AKIIFADMH14LT', r_ui=1.0, est=3.5642653268254563, details={'was_impossible': False}),\n",
       " Prediction(uid='B00OF0AMBS', iid='AZ3FGBLZLTESW', r_ui=1.0, est=3.4562991464279764, details={'was_impossible': False}),\n",
       " Prediction(uid='B01617VQJ4', iid='A1QZ5JYOJDVGJF', r_ui=5.0, est=3.5747023022449316, details={'was_impossible': False}),\n",
       " Prediction(uid='B000Q6ZK3K', iid='AT0E2OHY65GF7', r_ui=4.0, est=3.619615677197934, details={'was_impossible': False}),\n",
       " Prediction(uid='B00EZKNYWC', iid='A30WUGXHWBR2LV', r_ui=5.0, est=3.6934425874394594, details={'was_impossible': False}),\n",
       " Prediction(uid='B00GRFIIHO', iid='AXXFFNNUEMDTI', r_ui=3.0, est=1.1339228233640646, details={'was_impossible': False}),\n",
       " Prediction(uid='B00CTTEKJW', iid='A28IK37GNGUDUX', r_ui=5.0, est=4.968964007085869, details={'was_impossible': False}),\n",
       " Prediction(uid='B01637RFR4', iid='A2L8QOSPRNP2F6', r_ui=5.0, est=4.9818204199369385, details={'was_impossible': False}),\n",
       " Prediction(uid='B0148BYIAO', iid='AOM3BS57BP0JI', r_ui=5.0, est=3.599503669299596, details={'was_impossible': False}),\n",
       " Prediction(uid='B0153V62P2', iid='A7KTW1MIRJZQK', r_ui=3.0, est=3.590715637007669, details={'was_impossible': False}),\n",
       " Prediction(uid='B00UB76290', iid='A3HNTWEWQWTCRE', r_ui=4.0, est=3.584743981790584, details={'was_impossible': False}),\n",
       " Prediction(uid='B00UB76290', iid='A2AT3RK8YVFDR2', r_ui=5.0, est=4.006839518070105, details={'was_impossible': False}),\n",
       " Prediction(uid='B00SNZFXLK', iid='AGCY972TLIGIA', r_ui=2.0, est=3.612745812928081, details={'was_impossible': False}),\n",
       " Prediction(uid='B00LX4BZAQ', iid='A54UQOR5TTTF9', r_ui=4.0, est=3.5480628940652847, details={'was_impossible': False}),\n",
       " Prediction(uid='B00FZ0FK0U', iid='A1W943R0F2YB4W', r_ui=5.0, est=3.5823137499563287, details={'was_impossible': False}),\n",
       " Prediction(uid='B0150B05WG', iid='A17P8P6LH0TFBG', r_ui=3.0, est=3.623031440864592, details={'was_impossible': False}),\n",
       " Prediction(uid='B01326J80Q', iid='A1R71FZXYGYIFY', r_ui=1.0, est=3.632807868427313, details={'was_impossible': False}),\n",
       " Prediction(uid='B00LX4BZAQ', iid='A2KXB3ZAJ1JEX8', r_ui=5.0, est=3.5480628940652847, details={'was_impossible': False}),\n",
       " Prediction(uid='B00MHZ6Z64', iid='A25KCB6LAQ3NXU', r_ui=5.0, est=3.573497112209004, details={'was_impossible': False}),\n",
       " Prediction(uid='B00UB76290', iid='A1VXZ6XS39ISDT', r_ui=3.0, est=3.584743981790584, details={'was_impossible': False}),\n",
       " Prediction(uid='B0114ZV22E', iid='A1U86SX6K50G2N', r_ui=5.0, est=3.576033108381779, details={'was_impossible': False}),\n",
       " Prediction(uid='B0148BYIAO', iid='AFSIGO7CYITD8', r_ui=1.0, est=3.599503669299596, details={'was_impossible': False}),\n",
       " Prediction(uid='B01326J6GW', iid='A2KY3XMQ9ERRF3', r_ui=5.0, est=4.8244935921383085, details={'was_impossible': False}),\n",
       " Prediction(uid='B000Q6ZK3K', iid='A1ATH3ZBLXWEFC', r_ui=2.0, est=3.619615677197934, details={'was_impossible': False}),\n",
       " Prediction(uid='B000TNBHKA', iid='AE029K9TH94LZ', r_ui=1.0, est=3.346912564172538, details={'was_impossible': False}),\n",
       " Prediction(uid='B002U0L1BU', iid='A3A0E4RU6BNEGN', r_ui=3.0, est=3.572216053056794, details={'was_impossible': False}),\n",
       " Prediction(uid='B00N8A5HNY', iid='A1OSLGZE777ZHS', r_ui=1.0, est=3.550975654880451, details={'was_impossible': False}),\n",
       " Prediction(uid='B01617VVYY', iid='A1UZDL7HK3S357', r_ui=4.0, est=3.0862999647245273, details={'was_impossible': False}),\n",
       " Prediction(uid='B00UB76290', iid='A25R6DUHN0764V', r_ui=5.0, est=3.584743981790584, details={'was_impossible': False}),\n",
       " Prediction(uid='B00FZ0FK0U', iid='A3TVY7QWT0XB9C', r_ui=5.0, est=3.5823137499563287, details={'was_impossible': False}),\n",
       " Prediction(uid='B00JTNHUWU', iid='A2LH90003BJUKF', r_ui=5.0, est=3.574670205475683, details={'was_impossible': False}),\n",
       " Prediction(uid='B00UB769KC', iid='AGY6E2K8BLLD5', r_ui=5.0, est=3.599744456580157, details={'was_impossible': False}),\n",
       " Prediction(uid='B00VXWDC7M', iid='A3SPUCYZ2MW5QP', r_ui=5.0, est=3.550975654880451, details={'was_impossible': False}),\n",
       " Prediction(uid='B01EU8RG7M', iid='A6517T4VESMM3', r_ui=5.0, est=3.550975654880451, details={'was_impossible': False}),\n",
       " Prediction(uid='B00RKZKFUI', iid='A35LT8ZFL0Q8WS', r_ui=5.0, est=3.617701663594274, details={'was_impossible': False}),\n",
       " Prediction(uid='B019QMRD3O', iid='A2BJXOROYN18WY', r_ui=1.0, est=3.550975654880451, details={'was_impossible': False}),\n",
       " Prediction(uid='B0153V62P2', iid='A190GNXLJCYD9W', r_ui=5.0, est=3.590715637007669, details={'was_impossible': False}),\n",
       " Prediction(uid='B00NKY4ZCC', iid='A2YMUIU0Q9C3S1', r_ui=5.0, est=3.561823215433895, details={'was_impossible': False}),\n",
       " Prediction(uid='B01F70HHBC', iid='A29O7JMSAMHQ9Y', r_ui=5.0, est=3.550975654880451, details={'was_impossible': False}),\n",
       " Prediction(uid='B015724V9Q', iid='A2O95D5YCEX7KN', r_ui=5.0, est=3.5564917752249916, details={'was_impossible': False}),\n",
       " Prediction(uid='B0148BYIPY', iid='A2TYF056XISYOQ', r_ui=5.0, est=3.5086207030073333, details={'was_impossible': False}),\n",
       " Prediction(uid='B01617VQJ4', iid='A1CH77QHXSJWDY', r_ui=4.0, est=3.5499626451908366, details={'was_impossible': False}),\n",
       " Prediction(uid='B00002S5IY', iid='A34OP4CM6M4FN3', r_ui=1.0, est=3.550975654880451, details={'was_impossible': False}),\n",
       " Prediction(uid='B00OSE2638', iid='AD6E6QO1S5ZG1', r_ui=1.0, est=3.510939441494769, details={'was_impossible': False}),\n",
       " Prediction(uid='B00EZQYC8G', iid='AIQMN83HN29D2', r_ui=5.0, est=3.5400786439284135, details={'was_impossible': False}),\n",
       " Prediction(uid='B015724OVG', iid='A2EU4I2PLMEK46', r_ui=5.0, est=3.687895324640421, details={'was_impossible': False}),\n",
       " Prediction(uid='B014Y44LSO', iid='AK3U21V99DZ1S', r_ui=1.0, est=3.616116322288396, details={'was_impossible': False}),\n",
       " Prediction(uid='B00VWCKJVA', iid='A3RWCKO9QZNDX8', r_ui=5.0, est=3.5928113499731142, details={'was_impossible': False}),\n",
       " Prediction(uid='B0079KJ64A', iid='A3JA6EGPNJPTYQ', r_ui=5.0, est=3.594421789365095, details={'was_impossible': False}),\n",
       " Prediction(uid='B003VNCRNQ', iid='A1DPJBYT15HNRN', r_ui=3.0, est=3.570908697591055, details={'was_impossible': False}),\n",
       " Prediction(uid='B00UB76290', iid='A35M2VHV7JCHQR', r_ui=5.0, est=3.584743981790584, details={'was_impossible': False}),\n",
       " Prediction(uid='B01326J6GW', iid='A1HT81V0Z717H7', r_ui=1.0, est=4.8882323027280705, details={'was_impossible': False}),\n",
       " Prediction(uid='B00U7LCE6A', iid='A10EVE1Q5I9NOQ', r_ui=2.0, est=3.6306587384035303, details={'was_impossible': False}),\n",
       " Prediction(uid='B00CTTEKJW', iid='A2SXFKM0TQKMUB', r_ui=5.0, est=3.5767129905407398, details={'was_impossible': False}),\n",
       " Prediction(uid='B00UB76290', iid='A18A00DGF7KIK2', r_ui=5.0, est=3.584743981790584, details={'was_impossible': False}),\n",
       " Prediction(uid='B004MWHZX2', iid='A3SWJIZYRMAZKB', r_ui=5.0, est=3.5885371724917268, details={'was_impossible': False}),\n",
       " Prediction(uid='B00UB76290', iid='A1AXVA3SRVMGIT', r_ui=4.0, est=3.584743981790584, details={'was_impossible': False}),\n",
       " Prediction(uid='B01019T6O0', iid='A3CLU5THDA4E34', r_ui=5.0, est=3.5728872598276338, details={'was_impossible': False}),\n",
       " Prediction(uid='B00UB76290', iid='A3M7PF52ECM38K', r_ui=5.0, est=3.991734525924445, details={'was_impossible': False}),\n",
       " Prediction(uid='B00FZ0E0HE', iid='A1Z5V03EFVMV5D', r_ui=5.0, est=3.635408392668862, details={'was_impossible': False}),\n",
       " Prediction(uid='B00LX4BZAQ', iid='A3SHYF2JLVOQQP', r_ui=5.0, est=3.5480628940652847, details={'was_impossible': False}),\n",
       " Prediction(uid='B01326JFB8', iid='AGCNPCOIANQLA', r_ui=1.0, est=3.5457391537711014, details={'was_impossible': False}),\n",
       " Prediction(uid='B0153V644G', iid='A3TB7LQMJE1T3P', r_ui=5.0, est=3.567161625561529, details={'was_impossible': False}),\n",
       " Prediction(uid='B000R99IFC', iid='AOESH628VEU0O', r_ui=5.0, est=3.566676923131754, details={'was_impossible': False}),\n",
       " Prediction(uid='B01326J6GW', iid='A3KTYJWMROZUKJ', r_ui=5.0, est=3.4511496268565476, details={'was_impossible': False}),\n",
       " Prediction(uid='B01326J5T0', iid='A3B3N7X4Z0C1AE', r_ui=3.0, est=3.556650388963838, details={'was_impossible': False}),\n",
       " Prediction(uid='B00GRFIIHO', iid='A3N1RQJI5ALS1F', r_ui=4.0, est=3.579912776179188, details={'was_impossible': False}),\n",
       " Prediction(uid='B01637RJFM', iid='A3MKL0P1MFYAAY', r_ui=4.0, est=3.5591090734839597, details={'was_impossible': False}),\n",
       " Prediction(uid='B00HM3QP5W', iid='A1BRT0FXEJAYLB', r_ui=4.0, est=3.5748653202646126, details={'was_impossible': False}),\n",
       " Prediction(uid='B01326J6GW', iid='A17ZJRT01W6U89', r_ui=2.0, est=3.4511496268565476, details={'was_impossible': False}),\n",
       " Prediction(uid='B01019T6O0', iid='A1ASAE48MWRFWH', r_ui=5.0, est=3.5728872598276338, details={'was_impossible': False}),\n",
       " Prediction(uid='B01H39M7ME', iid='A3SXVDIBI3SFH5', r_ui=2.0, est=3.550975654880451, details={'was_impossible': False}),\n",
       " Prediction(uid='B01F7UZAEI', iid='AH7ZIYARPJV98', r_ui=5.0, est=3.550975654880451, details={'was_impossible': False}),\n",
       " Prediction(uid='B00F3ZN2W0', iid='A1DVEN3BYI2W2O', r_ui=4.0, est=3.6231441248398304, details={'was_impossible': False}),\n",
       " Prediction(uid='B00266PHEK', iid='AKGAM0L6BROWY', r_ui=1.0, est=3.549951167638541, details={'was_impossible': False}),\n",
       " Prediction(uid='B00ILBO1MS', iid='A1QLWJLXNP6NTM', r_ui=5.0, est=3.5347657521276856, details={'was_impossible': False}),\n",
       " Prediction(uid='B0079KJB54', iid='AUURXSUIGIX3R', r_ui=5.0, est=3.5654452665064817, details={'was_impossible': False}),\n",
       " Prediction(uid='B00UB76290', iid='AT8H17R08QE1Z', r_ui=5.0, est=3.584743981790584, details={'was_impossible': False}),\n",
       " Prediction(uid='B00N3F15I0', iid='A3V1DB5AXZWG9N', r_ui=2.0, est=3.6254738301235325, details={'was_impossible': False}),\n",
       " Prediction(uid='B0016PUQNY', iid='A1XW1QSDSA1902', r_ui=1.0, est=3.492178672344108, details={'was_impossible': False}),\n",
       " Prediction(uid='B00EZKNY8G', iid='APAOMLSZH6RU', r_ui=5.0, est=3.649749836308826, details={'was_impossible': False}),\n",
       " Prediction(uid='B00EZKNYWC', iid='A19T5URLXP7COH', r_ui=5.0, est=3.6934425874394594, details={'was_impossible': False}),\n",
       " Prediction(uid='B00CTTEKJW', iid='A2ZPFO9AE3TUSZ', r_ui=3.0, est=3.5767129905407398, details={'was_impossible': False}),\n",
       " Prediction(uid='B00TKUEGCY', iid='A2VSZZWR5YQ8B6', r_ui=3.0, est=3.5481740941538873, details={'was_impossible': False}),\n",
       " Prediction(uid='B013CTP6UY', iid='A36KQ6ACI2NN3W', r_ui=5.0, est=3.6096156330920834, details={'was_impossible': False}),\n",
       " Prediction(uid='B015724OVG', iid='A2QEDP4AMK4TLM', r_ui=5.0, est=3.6145171732576977, details={'was_impossible': False}),\n",
       " Prediction(uid='B00JC5Y6YA', iid='A24TO6HC73GXSB', r_ui=5.0, est=3.591122374268894, details={'was_impossible': False}),\n",
       " Prediction(uid='B00SKYNTA6', iid='AL9NLFAHELTR4', r_ui=5.0, est=3.5752660737437045, details={'was_impossible': False}),\n",
       " Prediction(uid='B01GN985R6', iid='AGENVIKTZMWWR', r_ui=5.0, est=3.550975654880451, details={'was_impossible': False}),\n",
       " Prediction(uid='B01AC3ZAHW', iid='A9NXPSXFXEQ8E', r_ui=4.0, est=3.591067091223164, details={'was_impossible': False}),\n",
       " Prediction(uid='B010P91LYY', iid='A2Q01BRKZWWZ3T', r_ui=5.0, est=3.549329613502142, details={'was_impossible': False}),\n",
       " Prediction(uid='B01019T6O0', iid='A1WPWY2HW96UGL', r_ui=4.0, est=3.5728872598276338, details={'was_impossible': False}),\n",
       " Prediction(uid='B0144NYGJY', iid='A1IX6J6WYKEWUP', r_ui=5.0, est=3.599455309482311, details={'was_impossible': False}),\n",
       " Prediction(uid='B004CRNACW', iid='A1SKE0BG8AC8EA', r_ui=5.0, est=3.5904201559241753, details={'was_impossible': False}),\n",
       " Prediction(uid='B0114ZV22E', iid='ADC1D1ADDLGL9', r_ui=5.0, est=3.576033108381779, details={'was_impossible': False}),\n",
       " Prediction(uid='B00UB76290', iid='AQQ89MHENR0OL', r_ui=5.0, est=3.584743981790584, details={'was_impossible': False}),\n",
       " Prediction(uid='B001EJVQDG', iid='A2LCBMJ22K7IMK', r_ui=5.0, est=3.5588525706869625, details={'was_impossible': False}),\n",
       " Prediction(uid='B00N3F7PM0', iid='A2MFTTC8X4XGJB', r_ui=1.0, est=3.550975654880451, details={'was_impossible': False}),\n",
       " Prediction(uid='B0077UGGQI', iid='A6EUYJ8SQWZBZ', r_ui=4.0, est=3.5621783442231925, details={'was_impossible': False}),\n",
       " Prediction(uid='B01637RISK', iid='A37SCIBP8CJQ2D', r_ui=5.0, est=4.886781597014057, details={'was_impossible': False}),\n",
       " Prediction(uid='B00N8A5HNY', iid='A1ET4EV4ZFLHBZ', r_ui=5.0, est=3.550975654880451, details={'was_impossible': False}),\n",
       " Prediction(uid='B00E6OPDUS', iid='A1925GYNGLPY4T', r_ui=1.0, est=3.6182432863794345, details={'was_impossible': False}),\n",
       " Prediction(uid='B00CTTEKJW', iid='A1BUD2E83L2VME', r_ui=3.0, est=3.5767129905407398, details={'was_impossible': False}),\n",
       " Prediction(uid='B00UB76290', iid='A2CGORRQGDEL37', r_ui=5.0, est=4.086420833991692, details={'was_impossible': False}),\n",
       " Prediction(uid='B015724V9Q', iid='AQI8RM906GVQ0', r_ui=5.0, est=4.9112185682403755, details={'was_impossible': False}),\n",
       " Prediction(uid='B015724RQI', iid='A1SKUPJSY3IJ0T', r_ui=5.0, est=4.9854104808197555, details={'was_impossible': False}),\n",
       " Prediction(uid='B003D24LTI', iid='AVRGKKBGS8OJY', r_ui=5.0, est=3.5669195034840957, details={'was_impossible': False}),\n",
       " Prediction(uid='B00J6A29MC', iid='A7K2R717QKXMG', r_ui=4.0, est=3.550975654880451, details={'was_impossible': False}),\n",
       " Prediction(uid='B00GRFIIHO', iid='A1ZT87F0T52J1G', r_ui=5.0, est=4.837420103487758, details={'was_impossible': False}),\n",
       " Prediction(uid='B00CTTEKJW', iid='A25NDZRBFBSF7Q', r_ui=5.0, est=3.5767129905407398, details={'was_impossible': False}),\n",
       " Prediction(uid='B00UB76290', iid='A3DJKIXUD9TVXS', r_ui=5.0, est=3.584743981790584, details={'was_impossible': False}),\n",
       " Prediction(uid='B00GRFIIHO', iid='AND2AMFSWU2XD', r_ui=5.0, est=3.579912776179188, details={'was_impossible': False}),\n",
       " Prediction(uid='B000HCQJ92', iid='AUQ70JKYC8GYJ', r_ui=5.0, est=3.563197247115295, details={'was_impossible': False}),\n",
       " Prediction(uid='B00CTTEKJW', iid='ACLK98YL5FNZG', r_ui=1.0, est=3.5767129905407398, details={'was_impossible': False}),\n",
       " Prediction(uid='B0144NYEY6', iid='A1TI35FN3MOS00', r_ui=5.0, est=3.5923960196846374, details={'was_impossible': False}),\n",
       " Prediction(uid='B00U902FNG', iid='A9IPOUI88BV1S', r_ui=3.0, est=3.550975654880451, details={'was_impossible': False}),\n",
       " Prediction(uid='B00GRFIIHO', iid='A34WI4RK309E1G', r_ui=1.0, est=3.579912776179188, details={'was_impossible': False}),\n",
       " Prediction(uid='B00LC9UU6C', iid='A278J7FYS8E0DN', r_ui=1.0, est=3.5913212369204337, details={'was_impossible': False}),\n",
       " Prediction(uid='B01617VPUY', iid='A3QN03LU1P4N1T', r_ui=4.0, est=3.5793309762651453, details={'was_impossible': False}),\n",
       " Prediction(uid='B0017NWWUA', iid='A1XP7LNB9O4HJ5', r_ui=2.0, est=3.579499290321974, details={'was_impossible': False}),\n",
       " Prediction(uid='B00O221QN2', iid='A1RIJU062KAXAJ', r_ui=5.0, est=3.550975654880451, details={'was_impossible': False}),\n",
       " Prediction(uid='B0144NYEY6', iid='A3PGJ6P2JO4DRS', r_ui=5.0, est=3.5923960196846374, details={'was_impossible': False}),\n",
       " Prediction(uid='B000EORV8Q', iid='A2RV54OXBGRD2Z', r_ui=1.0, est=3.602517844166423, details={'was_impossible': False}),\n",
       " Prediction(uid='B00005QZ02', iid='A1RR7E2RYGZQMI', r_ui=5.0, est=3.550975654880451, details={'was_impossible': False}),\n",
       " Prediction(uid='B000HDKVCM', iid='A2E67VPLVLTRT6', r_ui=5.0, est=3.6049579527964255, details={'was_impossible': False}),\n",
       " Prediction(uid='B017W85QUQ', iid='AJMO63REZRSVK', r_ui=5.0, est=3.0713669177912197, details={'was_impossible': False}),\n",
       " Prediction(uid='B01019BM7O', iid='AL4IHB3WWXN07', r_ui=1.0, est=3.552757101328557, details={'was_impossible': False}),\n",
       " Prediction(uid='B013LKV4RI', iid='A17EHYK4UN1C6D', r_ui=5.0, est=3.5556525660911404, details={'was_impossible': False}),\n",
       " Prediction(uid='B0144NYGJY', iid='A7ZZZR4QBBU7K', r_ui=4.0, est=3.599455309482311, details={'was_impossible': False}),\n",
       " Prediction(uid='B015724V9Q', iid='A2YEAQSJNOCXPG', r_ui=5.0, est=3.5564917752249916, details={'was_impossible': False}),\n",
       " Prediction(uid='B01326JFB8', iid='A2HLFCD030008U', r_ui=4.0, est=3.5457391537711014, details={'was_impossible': False}),\n",
       " Prediction(uid='B01586F6RC', iid='AYS8Z7PZBTLKY', r_ui=2.0, est=4.886373818419386, details={'was_impossible': False}),\n",
       " Prediction(uid='B000023VVD', iid='A1J1BW5WJBTQ8', r_ui=1.0, est=3.6657616743485777, details={'was_impossible': False}),\n",
       " Prediction(uid='B00UB76290', iid='A2YAUXA6NB1JI8', r_ui=3.0, est=3.584743981790584, details={'was_impossible': False}),\n",
       " Prediction(uid='B00UB76290', iid='A1HSV82U4J0D03', r_ui=1.0, est=3.584743981790584, details={'was_impossible': False}),\n",
       " Prediction(uid='B00FZ0FK0U', iid='A2D77SR2EP3U7Q', r_ui=5.0, est=4.933291118741278, details={'was_impossible': False}),\n",
       " Prediction(uid='B008S0IWNQ', iid='A2Q7O6FJQ70X70', r_ui=5.0, est=3.5526073144551997, details={'was_impossible': False}),\n",
       " Prediction(uid='B01637RME0', iid='A26LI9BL8ZSE1P', r_ui=4.0, est=3.5311517121153715, details={'was_impossible': False}),\n",
       " Prediction(uid='B0148BYIPY', iid='AQXB4AR9HCZTE', r_ui=5.0, est=4.832196987132653, details={'was_impossible': False}),\n",
       " Prediction(uid='B00002S7RH', iid='A208IMWV4OTH82', r_ui=1.0, est=3.571947586047118, details={'was_impossible': False}),\n",
       " Prediction(uid='B006KSFHU4', iid='A1HCEK4JCJTXP', r_ui=5.0, est=3.550975654880451, details={'was_impossible': False}),\n",
       " Prediction(uid='B01637RK6U', iid='AILNZBK1GI3I7', r_ui=5.0, est=3.5567177991844816, details={'was_impossible': False}),\n",
       " Prediction(uid='B00FZ0E0HE', iid='A1IG47W2JYL0D', r_ui=2.0, est=3.635408392668862, details={'was_impossible': False}),\n",
       " Prediction(uid='B0153OLT20', iid='A289MO7DQFX36E', r_ui=5.0, est=3.5271021372480953, details={'was_impossible': False}),\n",
       " Prediction(uid='B01617VO2S', iid='AK70857MBIIY1', r_ui=5.0, est=3.571805483939781, details={'was_impossible': False}),\n",
       " Prediction(uid='B00N3F7PM0', iid='A368FHE7T8CBVE', r_ui=1.0, est=3.550975654880451, details={'was_impossible': False}),\n",
       " Prediction(uid='B00ZSI7Y3U', iid='A3A6BE3EF3QKLH', r_ui=1.0, est=3.5631976928997187, details={'was_impossible': False}),\n",
       " Prediction(uid='B00BOFDWYQ', iid='AD0J4V1J6HO5O', r_ui=5.0, est=3.550975654880451, details={'was_impossible': False}),\n",
       " Prediction(uid='B01617VVCQ', iid='A3JCBDXNF0ZB66', r_ui=5.0, est=4.07282417318313, details={'was_impossible': False}),\n",
       " Prediction(uid='B00MCLGAAO', iid='A3AQGUQV4WVCYI', r_ui=5.0, est=3.955028239198667, details={'was_impossible': False}),\n",
       " Prediction(uid='B01617VNYC', iid='APYYSZQN7H37X', r_ui=5.0, est=3.6087984931424977, details={'was_impossible': False}),\n",
       " Prediction(uid='B00FZ0FK0U', iid='APIQUYZZLE8ET', r_ui=5.0, est=3.5823137499563287, details={'was_impossible': False}),\n",
       " Prediction(uid='B01AC3ZAHW', iid='A3HQKIJ6ZFQB87', r_ui=1.0, est=3.129706513065989, details={'was_impossible': False}),\n",
       " Prediction(uid='B015724OVG', iid='AQ8CITUKPGXKJ', r_ui=4.0, est=4.4399088961812785, details={'was_impossible': False}),\n",
       " Prediction(uid='B00GRFIIHO', iid='AZV93QW63RZEF', r_ui=1.0, est=3.579912776179188, details={'was_impossible': False}),\n",
       " Prediction(uid='B0144BWWTW', iid='A2C0AAPGWFUCJE', r_ui=1.0, est=3.5986603349785056, details={'was_impossible': False}),\n",
       " Prediction(uid='B01FRLKTTS', iid='A3S0K732O9R0HK', r_ui=4.0, est=1.0263297069560866, details={'was_impossible': False}),\n",
       " Prediction(uid='B0114ZV22E', iid='AJ68LQNNLCWVA', r_ui=4.0, est=3.576033108381779, details={'was_impossible': False}),\n",
       " Prediction(uid='B0153V644G', iid='APQ6GH96LKEKG', r_ui=1.0, est=3.567161625561529, details={'was_impossible': False}),\n",
       " Prediction(uid='B01617VPUY', iid='ARAELHVR33GPS', r_ui=5.0, est=3.5793309762651453, details={'was_impossible': False}),\n",
       " Prediction(uid='B013EXEMWQ', iid='AKBRIBY2KA791', r_ui=4.0, est=3.635668722666387, details={'was_impossible': False}),\n",
       " Prediction(uid='B00EXPSW2Q', iid='ACUGJK8M3ULDT', r_ui=1.0, est=1.1438484032350065, details={'was_impossible': False}),\n",
       " Prediction(uid='B0153V571W', iid='A3BT16G5KKO2OB', r_ui=5.0, est=3.5787338578527295, details={'was_impossible': False}),\n",
       " Prediction(uid='0763855553', iid='A1EPK6R5KGY7QK', r_ui=5.0, est=3.6187651342600287, details={'was_impossible': False}),\n",
       " Prediction(uid='B00UB76290', iid='A1937R5FSZ734B', r_ui=5.0, est=3.584743981790584, details={'was_impossible': False}),\n",
       " Prediction(uid='B000HCZ8EO', iid='A5IIE7X9IIJVK', r_ui=5.0, est=4.9655693675842185, details={'was_impossible': False}),\n",
       " Prediction(uid='B00CTTEKJW', iid='AX6VR5ZAG9HPO', r_ui=1.0, est=3.5767129905407398, details={'was_impossible': False}),\n",
       " Prediction(uid='B000WY4YTW', iid='A232YK961C6OGE', r_ui=2.0, est=3.530979174447715, details={'was_impossible': False}),\n",
       " Prediction(uid='B00CTTEKJW', iid='A1C8JYFTT72S46', r_ui=4.0, est=3.5767129905407398, details={'was_impossible': False}),\n",
       " Prediction(uid='B015724OVG', iid='A3NJ64NXHTD5IJ', r_ui=5.0, est=3.6145171732576977, details={'was_impossible': False}),\n",
       " Prediction(uid='B013X957AM', iid='A22QPKFN2F9YHH', r_ui=5.0, est=3.5938580369558832, details={'was_impossible': False}),\n",
       " Prediction(uid='B00LC9UU6C', iid='A1F8EV7TJLG1QL', r_ui=4.0, est=3.5913212369204337, details={'was_impossible': False}),\n",
       " Prediction(uid='B00CTTEKJW', iid='A2MN85KL00MCFK', r_ui=1.0, est=3.5767129905407398, details={'was_impossible': False}),\n",
       " Prediction(uid='B013CTP2T4', iid='A260VHD7Y2MDUL', r_ui=5.0, est=3.566232656716112, details={'was_impossible': False}),\n",
       " Prediction(uid='B00002S6GE', iid='A18ELCH8DL763C', r_ui=1.0, est=3.589556632716602, details={'was_impossible': False}),\n",
       " Prediction(uid='B00G82I07Y', iid='AT7N11BOKGHZS', r_ui=1.0, est=3.5376973059019474, details={'was_impossible': False}),\n",
       " Prediction(uid='B00F3ZN0CC', iid='A3SPJ1JNV7XWB9', r_ui=5.0, est=3.5934953830514678, details={'was_impossible': False}),\n",
       " Prediction(uid='B00EZQYC8G', iid='A1CPBLOI0EQXA8', r_ui=4.0, est=3.5400786439284135, details={'was_impossible': False}),\n",
       " Prediction(uid='B00OICBRK8', iid='A1GQP195R32377', r_ui=5.0, est=3.6035917885007627, details={'was_impossible': False}),\n",
       " Prediction(uid='B017W85QUQ', iid='A3QPRH7DKQGEVU', r_ui=5.0, est=3.601792346450853, details={'was_impossible': False}),\n",
       " Prediction(uid='B01326J62G', iid='A1MMABVVBVGO4J', r_ui=5.0, est=3.633215292814639, details={'was_impossible': False}),\n",
       " Prediction(uid='B00CSJFWUY', iid='AFGM4QJEC0QE7', r_ui=5.0, est=3.5603316725259044, details={'was_impossible': False}),\n",
       " Prediction(uid='B00DGCHDBS', iid='A1NSMFAFINN6VW', r_ui=4.0, est=3.5809695057475937, details={'was_impossible': False}),\n",
       " Prediction(uid='B00N4OLGL6', iid='AHG7OKVJWQCUF', r_ui=1.0, est=1.6315130222287497, details={'was_impossible': False}),\n",
       " Prediction(uid='B00FZ0FETC', iid='AZ6NWKMF1JPNS', r_ui=4.0, est=3.617787682852606, details={'was_impossible': False}),\n",
       " Prediction(uid='B00N9MUV96', iid='A325Q3IA4V0A1X', r_ui=3.0, est=3.8487300538283504, details={'was_impossible': False}),\n",
       " Prediction(uid='B01F523LB2', iid='A2MKM91DVTNIQ3', r_ui=2.0, est=3.550975654880451, details={'was_impossible': False}),\n",
       " Prediction(uid='B0148BYIPY', iid='A22OYZDV3WNH9Q', r_ui=4.0, est=3.5086207030073333, details={'was_impossible': False}),\n",
       " Prediction(uid='B0148BYIAO', iid='A2EM70R6JF4LZ1', r_ui=4.0, est=3.599503669299596, details={'was_impossible': False}),\n",
       " Prediction(uid='B00EFRMDW2', iid='A39MY8W4198SDK', r_ui=5.0, est=3.5279204835952065, details={'was_impossible': False}),\n",
       " Prediction(uid='B00LX4BZAQ', iid='A2KFEFCE5SD9XO', r_ui=1.0, est=3.5480628940652847, details={'was_impossible': False}),\n",
       " Prediction(uid='B00TKL82MI', iid='AB7TFMCOMNQO7', r_ui=1.0, est=3.5662778471483527, details={'was_impossible': False}),\n",
       " Prediction(uid='B00P00LPZ4', iid='A2IETATALONQD3', r_ui=5.0, est=3.593310208244161, details={'was_impossible': False}),\n",
       " Prediction(uid='B0114ZV22E', iid='A2GIB76TZ86T2Q', r_ui=1.0, est=4.805512316438252, details={'was_impossible': False}),\n",
       " Prediction(uid='B01326J80Q', iid='A39WDDRX8DFMAS', r_ui=1.0, est=3.632807868427313, details={'was_impossible': False}),\n",
       " Prediction(uid='B015724OVG', iid='AA7DRCEXNAZR1', r_ui=1.0, est=3.6145171732576977, details={'was_impossible': False}),\n",
       " Prediction(uid='B001BOAIH4', iid='A9P8DW622JPLI', r_ui=4.0, est=3.6194889112557647, details={'was_impossible': False}),\n",
       " Prediction(uid='B00UQZDR5O', iid='A3FFH4OHSEUC3S', r_ui=4.0, est=3.550975654880451, details={'was_impossible': False}),\n",
       " Prediction(uid='B0153V62P2', iid='A1VUXA5QL4B2ME', r_ui=1.0, est=3.590715637007669, details={'was_impossible': False}),\n",
       " Prediction(uid='B00UB76290', iid='A3OVJKKPBM5ESD', r_ui=5.0, est=3.584743981790584, details={'was_impossible': False}),\n",
       " Prediction(uid='B01019T6O0', iid='A1B3VLQXFKXMR', r_ui=5.0, est=3.5728872598276338, details={'was_impossible': False}),\n",
       " Prediction(uid='B01617VVYY', iid='A2NSXY5L42ZUGO', r_ui=4.0, est=3.579598873401003, details={'was_impossible': False}),\n",
       " Prediction(uid='B00FZ0FK0U', iid='ABHE68FOWTN4M', r_ui=5.0, est=3.5823137499563287, details={'was_impossible': False}),\n",
       " Prediction(uid='B0039OJSIE', iid='A31UZ8C1HVT7HL', r_ui=5.0, est=3.624452837403244, details={'was_impossible': False}),\n",
       " Prediction(uid='B019QWTLAC', iid='A3M3DIO9RICBKQ', r_ui=4.0, est=4.868549906406823, details={'was_impossible': False}),\n",
       " Prediction(uid='B0144NY8OW', iid='AGKOTUSMA3J63', r_ui=3.0, est=3.605778095637328, details={'was_impossible': False}),\n",
       " Prediction(uid='B01EU8RG7M', iid='A434A18TEL5NZ', r_ui=5.0, est=3.550975654880451, details={'was_impossible': False}),\n",
       " Prediction(uid='B00W02G83E', iid='A15QN4VDPUFQ4J', r_ui=5.0, est=3.5875385134249274, details={'was_impossible': False}),\n",
       " Prediction(uid='B00VWCKJVA', iid='A3NHM7SQ7OM4AG', r_ui=1.0, est=2.0845761537687415, details={'was_impossible': False}),\n",
       " Prediction(uid='B00UB76290', iid='AYFH4LZU3PQTP', r_ui=4.0, est=3.584743981790584, details={'was_impossible': False}),\n",
       " Prediction(uid='B010B6EK26', iid='A15MF11J266BUY', r_ui=5.0, est=3.599967513298919, details={'was_impossible': False}),\n",
       " Prediction(uid='B00GRFIIHO', iid='A274AOH4ZPD8DW', r_ui=2.0, est=3.579912776179188, details={'was_impossible': False}),\n",
       " Prediction(uid='B01COADLXG', iid='AYQ30QTSUB4RJ', r_ui=4.0, est=3.550975654880451, details={'was_impossible': False}),\n",
       " Prediction(uid='B0064PFB9U', iid='A2M7BC0P7PM1K7', r_ui=5.0, est=3.606476241771657, details={'was_impossible': False}),\n",
       " Prediction(uid='B00TBDS716', iid='AQ9IFDWCA2D6I', r_ui=2.0, est=3.5711705698579643, details={'was_impossible': False}),\n",
       " Prediction(uid='B00OM6SKH8', iid='A11GA3BC0AZE7N', r_ui=5.0, est=3.5519739524571534, details={'was_impossible': False}),\n",
       " Prediction(uid='B00CTTEKJW', iid='A10DW7DP5MCW2I', r_ui=5.0, est=3.5767129905407398, details={'was_impossible': False}),\n",
       " Prediction(uid='B00UB76290', iid='A1U1AQ9CW6JXOG', r_ui=5.0, est=3.584743981790584, details={'was_impossible': False}),\n",
       " Prediction(uid='B01637RFR4', iid='A29P57QWHP8BTD', r_ui=5.0, est=3.5841964138422404, details={'was_impossible': False}),\n",
       " Prediction(uid='B00CTTEKJW', iid='A2SUDVCSI4ZTO9', r_ui=3.0, est=3.5767129905407398, details={'was_impossible': False}),\n",
       " Prediction(uid='B01EYEJQBG', iid='A2X22SSEQW27TQ', r_ui=5.0, est=4.9110614447222405, details={'was_impossible': False}),\n",
       " Prediction(uid='B00U7LCE6A', iid='A2HKU4NVF3NK78', r_ui=5.0, est=3.6306587384035303, details={'was_impossible': False}),\n",
       " Prediction(uid='B0148BYIPY', iid='A3BWAUMREP9Y', r_ui=5.0, est=3.5086207030073333, details={'was_impossible': False}),\n",
       " Prediction(uid='B0117NURXI', iid='A12FMSY68222UE', r_ui=1.0, est=3.562313999313945, details={'was_impossible': False}),\n",
       " Prediction(uid='B015NXUK30', iid='A2CYUVPT7N0VKU', r_ui=4.0, est=3.4527221319373336, details={'was_impossible': False}),\n",
       " Prediction(uid='B000KN208C', iid='A2TRV5U6GSJN48', r_ui=5.0, est=3.5498589941477463, details={'was_impossible': False}),\n",
       " Prediction(uid='B004E564PW', iid='A1PKRWQ6VBYZM3', r_ui=5.0, est=3.605076991626243, details={'was_impossible': False}),\n",
       " Prediction(uid='B015MI2AYI', iid='A1DZ2DM76Y23H3', r_ui=4.0, est=3.5845119526109057, details={'was_impossible': False}),\n",
       " Prediction(uid='B01637RHBI', iid='AGEMFMULZMFN6', r_ui=5.0, est=3.5696005586344812, details={'was_impossible': False}),\n",
       " Prediction(uid='B00UB76290', iid='A1T3JNMTMR8RJN', r_ui=5.0, est=3.584743981790584, details={'was_impossible': False}),\n",
       " Prediction(uid='B00UB76290', iid='A2FXFUQ3HBYAUG', r_ui=1.0, est=3.584743981790584, details={'was_impossible': False}),\n",
       " Prediction(uid='B00U7LCE6A', iid='A1EI4005C66VJ2', r_ui=1.0, est=3.6306587384035303, details={'was_impossible': False}),\n",
       " Prediction(uid='B00LG25894', iid='A1WWY5ZYK6RB3K', r_ui=5.0, est=3.575322743591805, details={'was_impossible': False}),\n",
       " Prediction(uid='3959828179', iid='AQF2YUSCZHERO', r_ui=3.0, est=3.550975654880451, details={'was_impossible': False}),\n",
       " Prediction(uid='B006GOFW3E', iid='A2224KP9NIUNVK', r_ui=4.0, est=3.540695449523813, details={'was_impossible': False}),\n",
       " Prediction(uid='B018UHBZSA', iid='AZFAJKDJPN0TS', r_ui=1.0, est=3.580151016005223, details={'was_impossible': False}),\n",
       " Prediction(uid='B0153V62P2', iid='A13VMOFZDNT17Y', r_ui=1.0, est=3.590715637007669, details={'was_impossible': False}),\n",
       " Prediction(uid='B000HYWA2K', iid='A1WEHP8Y3EHL1I', r_ui=5.0, est=3.5211576313265933, details={'was_impossible': False}),\n",
       " Prediction(uid='B00E6OPDUS', iid='A29V0LBI6P60Q8', r_ui=5.0, est=3.6182432863794345, details={'was_impossible': False}),\n",
       " Prediction(uid='B00Q4S61RS', iid='AKY6QKFJ5J6XJ', r_ui=5.0, est=3.5631259430338704, details={'was_impossible': False}),\n",
       " Prediction(uid='B0144NYGJY', iid='ALGS6VI00JA7U', r_ui=5.0, est=3.599455309482311, details={'was_impossible': False}),\n",
       " Prediction(uid='B015724OVG', iid='AXOLDXG42043T', r_ui=1.0, est=3.6145171732576977, details={'was_impossible': False}),\n",
       " Prediction(uid='1607179393', iid='A3NZERXBBDPCSW', r_ui=1.0, est=3.6126502275479004, details={'was_impossible': False}),\n",
       " Prediction(uid='B00UB76290', iid='AA469YYNOON8W', r_ui=5.0, est=3.584743981790584, details={'was_impossible': False}),\n",
       " Prediction(uid='B00KNXIOAM', iid='A18QW2TDG83UDM', r_ui=1.0, est=3.3737856514336206, details={'was_impossible': False}),\n",
       " Prediction(uid='B00NZFVVE6', iid='A2IOUUEAHV75EL', r_ui=5.0, est=3.2827450114070973, details={'was_impossible': False}),\n",
       " Prediction(uid='B000BS2V44', iid='A7LCQVVMKX241', r_ui=4.0, est=3.562440314249178, details={'was_impossible': False}),\n",
       " Prediction(uid='B01326J80Q', iid='AP29FHWVWHWUM', r_ui=3.0, est=3.632807868427313, details={'was_impossible': False}),\n",
       " Prediction(uid='B0153OLT20', iid='A19E8HMVYC7MO5', r_ui=5.0, est=3.5271021372480953, details={'was_impossible': False}),\n",
       " Prediction(uid='B01HAP3NJM', iid='A1AFT876WLAAKY', r_ui=5.0, est=3.550975654880451, details={'was_impossible': False}),\n",
       " Prediction(uid='B00FZ0E0HE', iid='A1Z1UD6FQKARG1', r_ui=4.0, est=3.635408392668862, details={'was_impossible': False}),\n",
       " Prediction(uid='B01ALRM8ZQ', iid='A3RR2Z5374QQOR', r_ui=1.0, est=3.550975654880451, details={'was_impossible': False}),\n",
       " Prediction(uid='B015724OVG', iid='A3PODPLH0DNLD6', r_ui=5.0, est=3.6145171732576977, details={'was_impossible': False}),\n",
       " Prediction(uid='B00OGN7410', iid='A39OQEQZX9Z5OB', r_ui=3.0, est=4.734139594009984, details={'was_impossible': False}),\n",
       " Prediction(uid='B013EXE1D6', iid='A3SPM4B0ECYEX3', r_ui=1.0, est=3.52206671203631, details={'was_impossible': False}),\n",
       " Prediction(uid='B01HAP47PQ', iid='A1TDU9KYO4EFE4', r_ui=3.0, est=3.4884640586777387, details={'was_impossible': False}),\n",
       " Prediction(uid='B00UB76290', iid='A2G4HI1U27ZIX9', r_ui=4.0, est=3.584743981790584, details={'was_impossible': False}),\n",
       " Prediction(uid='B01019BM7O', iid='A1EFWOABX9GVP0', r_ui=4.0, est=3.552757101328557, details={'was_impossible': False}),\n",
       " Prediction(uid='B00PG8FOSY', iid='A2AG690YFGNODI', r_ui=3.0, est=4.7144265879225555, details={'was_impossible': False}),\n",
       " Prediction(uid='B000HCVR3A', iid='A2CGORRQGDEL37', r_ui=5.0, est=4.065692084358674, details={'was_impossible': False}),\n",
       " Prediction(uid='B00QE4CPHM', iid='A1QFLTHM1WSYMM', r_ui=4.0, est=3.550975654880451, details={'was_impossible': False}),\n",
       " Prediction(uid='B01CNMSJGE', iid='A19O1GAZ1M0W7S', r_ui=3.0, est=4.814807267811921, details={'was_impossible': False}),\n",
       " Prediction(uid='B00002S8O5', iid='AXB0O874U6NUY', r_ui=2.0, est=3.375986064581142, details={'was_impossible': False}),\n",
       " Prediction(uid='B000V4PLWM', iid='A192Z569Z09IQ8', r_ui=5.0, est=3.6141611411474, details={'was_impossible': False}),\n",
       " Prediction(uid='B00P6U8C5Y', iid='ACG7I486CFD42', r_ui=5.0, est=3.571487462324069, details={'was_impossible': False}),\n",
       " Prediction(uid='B008GZZFHO', iid='AMXIRYV3FJ76S', r_ui=5.0, est=3.592039891489156, details={'was_impossible': False}),\n",
       " Prediction(uid='B00UB76290', iid='A1GM2P5LUXXPMY', r_ui=5.0, est=3.584743981790584, details={'was_impossible': False}),\n",
       " Prediction(uid='B00N8A5HNY', iid='A17JUH77QFUA1H', r_ui=4.0, est=3.550975654880451, details={'was_impossible': False}),\n",
       " Prediction(uid='B00UB76290', iid='A1ET8HZTMGI5FQ', r_ui=5.0, est=3.584743981790584, details={'was_impossible': False}),\n",
       " Prediction(uid='B0035N9VGI', iid='A2PJL0XQISSLGM', r_ui=5.0, est=3.5741373070951794, details={'was_impossible': False}),\n",
       " Prediction(uid='B000EORV8Q', iid='A3UZ2RCTUN4S9Z', r_ui=5.0, est=4.94849064861233, details={'was_impossible': False}),\n",
       " Prediction(uid='B015NXUK30', iid='ANTG9LKTSG65N', r_ui=3.0, est=3.4527221319373336, details={'was_impossible': False}),\n",
       " Prediction(uid='B011XO55BA', iid='A11K7EJUVIJ4V3', r_ui=4.0, est=3.5379785497902985, details={'was_impossible': False}),\n",
       " Prediction(uid='B00AFFAAIW', iid='A1VJ53UF2N2ZTI', r_ui=1.0, est=3.571230693651609, details={'was_impossible': False}),\n",
       " Prediction(uid='B01HAP47PQ', iid='A480MB72JM3MD', r_ui=5.0, est=3.550975654880451, details={'was_impossible': False}),\n",
       " Prediction(uid='B00J04F9LW', iid='A2PAJS012UYSHN', r_ui=4.0, est=3.498547962909064, details={'was_impossible': False}),\n",
       " Prediction(uid='B0065JXD5O', iid='A368CHOW7LPA2G', r_ui=1.0, est=3.5702800388259623, details={'was_impossible': False}),\n",
       " Prediction(uid='B00UB76290', iid='A5GALQ4NRZYUV', r_ui=5.0, est=3.584743981790584, details={'was_impossible': False}),\n",
       " Prediction(uid='B00EZKNYWC', iid='A1G7YNZXPBWA4Y', r_ui=5.0, est=3.281001750300364, details={'was_impossible': False}),\n",
       " Prediction(uid='B01019TDJ8', iid='A2ZQHEWL2M4WKI', r_ui=1.0, est=3.551892819914343, details={'was_impossible': False}),\n",
       " Prediction(uid='B00UB76290', iid='ANM2AKEAJSWH9', r_ui=5.0, est=3.584743981790584, details={'was_impossible': False}),\n",
       " Prediction(uid='B00UB76290', iid='A36GWF7UNRW1RQ', r_ui=5.0, est=4.451354425117615, details={'was_impossible': False}),\n",
       " Prediction(uid='B00IFITXZC', iid='A3TOCP4C1YMNOC', r_ui=1.0, est=1.0114670131124395, details={'was_impossible': False}),\n",
       " Prediction(uid='B00NNQGQQK', iid='A1ROGBDEGI9YR6', r_ui=1.0, est=3.5513417706691452, details={'was_impossible': False}),\n",
       " Prediction(uid='B00GOUBT6E', iid='A1TWD9PWQ5DDJ8', r_ui=4.0, est=3.5824225902791036, details={'was_impossible': False}),\n",
       " Prediction(uid='B00L13X6QA', iid='A2PBMZKM4WAMYS', r_ui=5.0, est=3.5547922038230624, details={'was_impossible': False}),\n",
       " Prediction(uid='B0009MI0DI', iid='A34C68OBD5A8BA', r_ui=5.0, est=3.6010657606259557, details={'was_impossible': False}),\n",
       " Prediction(uid='B00UB76290', iid='A12AWZ62HA4AYV', r_ui=3.0, est=3.584743981790584, details={'was_impossible': False}),\n",
       " Prediction(uid='B0079KJB54', iid='A1M9VLH52EYYWP', r_ui=1.0, est=3.5654452665064817, details={'was_impossible': False}),\n",
       " Prediction(uid='B00U9XNJ38', iid='A2ITBDQUPK10HV', r_ui=4.0, est=3.5696734825179766, details={'was_impossible': False}),\n",
       " Prediction(uid='B00SNZFXLK', iid='A1CF0N6XJ96CVC', r_ui=5.0, est=3.612745812928081, details={'was_impossible': False}),\n",
       " Prediction(uid='B008H3SW4I', iid='A2RQTH6SZXWENZ', r_ui=5.0, est=3.569503007542707, details={'was_impossible': False}),\n",
       " Prediction(uid='B006GOFW3E', iid='A9R5LBZ3FIJ6R', r_ui=1.0, est=3.540695449523813, details={'was_impossible': False}),\n",
       " Prediction(uid='B00B1TEIRU', iid='A3MIE6BJJA9IV0', r_ui=2.0, est=3.572675704175956, details={'was_impossible': False}),\n",
       " Prediction(uid='B01FLD4MHC', iid='AQBOQ2SWVVUN6', r_ui=5.0, est=3.550975654880451, details={'was_impossible': False}),\n",
       " Prediction(uid='B00E6ONJJU', iid='A1LQMOMT8KDTSL', r_ui=1.0, est=3.557947875130908, details={'was_impossible': False}),\n",
       " Prediction(uid='B010P91LXA', iid='ABPLBK7HC8TU6', r_ui=5.0, est=3.5155824619834823, details={'was_impossible': False}),\n",
       " Prediction(uid='B00LX4BYV6', iid='ATAUW53LVBZ9K', r_ui=5.0, est=3.5476917982238874, details={'was_impossible': False}),\n",
       " Prediction(uid='B01DTEYS6U', iid='A24BG952NO7LZ9', r_ui=1.0, est=3.550975654880451, details={'was_impossible': False}),\n",
       " Prediction(uid='B01CJFWSCG', iid='A3CVBPLPQ7OJYT', r_ui=5.0, est=4.939942280786632, details={'was_impossible': False}),\n",
       " Prediction(uid='B000BS2V44', iid='A5JFBFG0JE0VG', r_ui=5.0, est=3.562440314249178, details={'was_impossible': False}),\n",
       " Prediction(uid='B01AC3ZAHW', iid='A25YJB32JZLFGW', r_ui=1.0, est=3.591067091223164, details={'was_impossible': False}),\n",
       " Prediction(uid='B004KPKSRQ', iid='A2NBWYENVHHRTK', r_ui=5.0, est=3.6083756955675326, details={'was_impossible': False}),\n",
       " Prediction(uid='B01617VVCQ', iid='A2PZYJEOSQ9YNF', r_ui=5.0, est=4.867564312219991, details={'was_impossible': False}),\n",
       " Prediction(uid='B00NASFCDO', iid='A2PMDK4JT2KC43', r_ui=1.0, est=3.586699583670138, details={'was_impossible': False}),\n",
       " Prediction(uid='B00CTTEKJW', iid='A3UTYGHZ6LPFSJ', r_ui=3.0, est=3.5767129905407398, details={'was_impossible': False}),\n",
       " Prediction(uid='B0062W22X8', iid='A59765QM8I3J0', r_ui=1.0, est=3.571678463356055, details={'was_impossible': False}),\n",
       " Prediction(uid='B00FZ0E0HE', iid='A10M403R4C2ROX', r_ui=5.0, est=3.635408392668862, details={'was_impossible': False}),\n",
       " Prediction(uid='B00U7LCE6A', iid='A2H5LFX0S7XQK3', r_ui=1.0, est=3.6306587384035303, details={'was_impossible': False}),\n",
       " Prediction(uid='B01637RI5I', iid='A3T39NG71SCCQP', r_ui=1.0, est=3.5599424061184064, details={'was_impossible': False}),\n",
       " Prediction(uid='B01617VPUY', iid='A1J62PG04DE7WQ', r_ui=1.0, est=3.5793309762651453, details={'was_impossible': False}),\n",
       " Prediction(uid='B00ZSI7Y3U', iid='A31NBFQB9MFGEH', r_ui=4.0, est=3.5631976928997187, details={'was_impossible': False}),\n",
       " Prediction(uid='B013EXB6FW', iid='A107H9IW3PLI42', r_ui=5.0, est=3.51244096361898, details={'was_impossible': False}),\n",
       " Prediction(uid='B00HRQB216', iid='A1TOZO64W414J0', r_ui=2.0, est=3.5567561184317005, details={'was_impossible': False}),\n",
       " Prediction(uid='B004KPKSRQ', iid='AIOZWILQMZDD3', r_ui=5.0, est=3.6083756955675326, details={'was_impossible': False}),\n",
       " Prediction(uid='B015724OVG', iid='A3Q9I0XLBGWT7V', r_ui=5.0, est=3.6145171732576977, details={'was_impossible': False}),\n",
       " Prediction(uid='B01H39M7ME', iid='A2C09MMXYWSNQ8', r_ui=5.0, est=3.550975654880451, details={'was_impossible': False}),\n",
       " Prediction(uid='B01617VQJ4', iid='A29FQ4KO1I0RKZ', r_ui=5.0, est=3.5747023022449316, details={'was_impossible': False}),\n",
       " Prediction(uid='B00FZ0E0HE', iid='A22QY1AZB1OVSM', r_ui=5.0, est=3.635408392668862, details={'was_impossible': False}),\n",
       " Prediction(uid='B00SGLIUY8', iid='A3VF7AZELF9NUK', r_ui=5.0, est=4.914632079980665, details={'was_impossible': False}),\n",
       " Prediction(uid='B01019TDJ8', iid='A3E51MFA8IG143', r_ui=4.0, est=4.58301443861114, details={'was_impossible': False}),\n",
       " Prediction(uid='B00NLVKPDM', iid='A2YD3BWYOXCF3U', r_ui=5.0, est=3.5482228407264915, details={'was_impossible': False}),\n",
       " Prediction(uid='B00CTTEKJW', iid='A1HJAQP30STFCM', r_ui=4.0, est=3.5767129905407398, details={'was_impossible': False}),\n",
       " Prediction(uid='B004CRNACW', iid='A1GFKQ999Y3JZT', r_ui=4.0, est=3.5904201559241753, details={'was_impossible': False}),\n",
       " Prediction(uid='B00UB76290', iid='A47XRYNU0PD5G', r_ui=5.0, est=3.584743981790584, details={'was_impossible': False}),\n",
       " Prediction(uid='B018QMUASU', iid='A2IZ49MATAOZRZ', r_ui=1.0, est=3.5556237023136528, details={'was_impossible': False}),\n",
       " Prediction(uid='B00UB76290', iid='A3CPW7NJ8QSQ5J', r_ui=5.0, est=3.584743981790584, details={'was_impossible': False}),\n",
       " Prediction(uid='B0153V644G', iid='A3UJH2ACY3A9AR', r_ui=1.0, est=3.567161625561529, details={'was_impossible': False}),\n",
       " Prediction(uid='B00B1TGUMG', iid='A3KN5CQEXPVTFU', r_ui=5.0, est=3.5232972009562196, details={'was_impossible': False}),\n",
       " Prediction(uid='B015724OVG', iid='A2BKXQFXGAA6NW', r_ui=5.0, est=3.6145171732576977, details={'was_impossible': False}),\n",
       " Prediction(uid='B000G1F83C', iid='A2IKC9LBGTIBOU', r_ui=4.0, est=3.577614921676878, details={'was_impossible': False}),\n",
       " Prediction(uid='B00EZKNYXG', iid='A1CPB9GB0GD5OO', r_ui=5.0, est=3.642469676468651, details={'was_impossible': False}),\n",
       " Prediction(uid='B00F3ZN2W0', iid='A2Y1QF2SOOQS3A', r_ui=5.0, est=3.6231441248398304, details={'was_impossible': False}),\n",
       " Prediction(uid='B00P00TWPY', iid='A1NM21IDH9M2QV', r_ui=5.0, est=3.6074714114066997, details={'was_impossible': False}),\n",
       " Prediction(uid='B00UB76290', iid='A7WNUUEAKEGME', r_ui=5.0, est=3.584743981790584, details={'was_impossible': False}),\n",
       " Prediction(uid='B00LX4BYV6', iid='A3C4JKQTV208BK', r_ui=5.0, est=3.5476917982238874, details={'was_impossible': False}),\n",
       " Prediction(uid='B00L13X6QA', iid='A2G92FX042JNGU', r_ui=3.0, est=4.7994253146546795, details={'was_impossible': False}),\n",
       " Prediction(uid='B0144NYGJY', iid='A2BTELVK2LS8J1', r_ui=5.0, est=3.599455309482311, details={'was_impossible': False}),\n",
       " Prediction(uid='B015NZ8QTI', iid='A3FY11C2NKS3SG', r_ui=5.0, est=3.6011458219336108, details={'was_impossible': False}),\n",
       " Prediction(uid='B01488541O', iid='A2M6117ULPL01D', r_ui=5.0, est=3.5575918183675084, details={'was_impossible': False}),\n",
       " ...]"
      ]
     },
     "execution_count": 12,
     "metadata": {},
     "output_type": "execute_result"
    }
   ],
   "source": [
    "predictions"
   ]
  },
  {
   "cell_type": "markdown",
   "id": "95a091e5",
   "metadata": {},
   "source": [
    "## Current conclusions"
   ]
  },
  {
   "cell_type": "markdown",
   "id": "601f785f",
   "metadata": {},
   "source": [
    "1) the results of models look so similar now\n",
    "2) the most predictions are next to three, i think it's really bad"
   ]
  },
  {
   "cell_type": "markdown",
   "id": "906501f6",
   "metadata": {},
   "source": [
    "## KKN is the best for now"
   ]
  },
  {
   "cell_type": "code",
   "execution_count": null,
   "id": "a861265b",
   "metadata": {},
   "outputs": [],
   "source": []
  }
 ],
 "metadata": {
  "kernelspec": {
   "display_name": "Python 3 (ipykernel)",
   "language": "python",
   "name": "python3"
  },
  "language_info": {
   "codemirror_mode": {
    "name": "ipython",
    "version": 3
   },
   "file_extension": ".py",
   "mimetype": "text/x-python",
   "name": "python",
   "nbconvert_exporter": "python",
   "pygments_lexer": "ipython3",
   "version": "3.8.0"
  }
 },
 "nbformat": 4,
 "nbformat_minor": 5
}
